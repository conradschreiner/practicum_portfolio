{
 "cells": [
  {
   "cell_type": "markdown",
   "metadata": {},
   "source": [
    "<a id='Top of Page'></a>"
   ]
  },
  {
   "cell_type": "markdown",
   "metadata": {},
   "source": [
    "# Making Business Decisions Based on Data"
   ]
  },
  {
   "cell_type": "markdown",
   "metadata": {},
   "source": [
    "I'm an analyst at a large online store. Together with the marketing department, I've compiled a list of hypotheses that may help boost revenue. This report is going to consist of priotitizing these hypotheses, launching an A/B test, and analyzing the results. The goal of this report is to see if the results suggest that there was a significant statistical difference between the two groups, if either of them had a clear advantage over the other and if either can be considered a leader. "
   ]
  },
  {
   "cell_type": "markdown",
   "metadata": {},
   "source": [
    "Table of Contents:\n",
    "\n",
    "<a href='#Prioritizing Hypotheses'>Part 1 Prioritizing Hypotheses</a>\n",
    "\n",
    "<a href='#A/B Test Analysis Data Preprocessing'>Part 2 A/B Test Analysis Data Preprocessing</a>\n",
    "\n",
    "<a href='#A/B Test Analysis'>Part 2 A/B Test Analysis</a>\n",
    "\n",
    "<a href='#Conclusion and Recommendations'>Part 3 Conclusion and Recommendations</a>"
   ]
  },
  {
   "cell_type": "markdown",
   "metadata": {},
   "source": [
    "Here I will load all the necessary libraries for the report:"
   ]
  },
  {
   "cell_type": "code",
   "execution_count": 1,
   "metadata": {},
   "outputs": [
    {
     "name": "stderr",
     "output_type": "stream",
     "text": [
      "/Users/conradschreiner/opt/anaconda3/envs/practicum/lib/python3.7/site-packages/statsmodels/tools/_testing.py:19: FutureWarning: pandas.util.testing is deprecated. Use the functions in the public API at pandas.testing instead.\n",
      "  import pandas.util.testing as tm\n"
     ]
    }
   ],
   "source": [
    "import pandas as pd\n",
    "import numpy as np\n",
    "import os\n",
    "import csv\n",
    "import seaborn as sns\n",
    "import scipy.stats as stats\n",
    "import datetime as dt\n",
    "import matplotlib.pyplot as plt\n",
    "from matplotlib.figure import Figure\n",
    "import pandas.util.testing as tm\n",
    "from mpl_toolkits.axisartist.axislines import Subplot "
   ]
  },
  {
   "cell_type": "code",
   "execution_count": 2,
   "metadata": {},
   "outputs": [
    {
     "data": {
      "text/plain": [
       "'/Users/conradschreiner/Documents/practicum_data_school/7th project making decisions'"
      ]
     },
     "execution_count": 2,
     "metadata": {},
     "output_type": "execute_result"
    }
   ],
   "source": [
    "os.getcwd()"
   ]
  },
  {
   "cell_type": "markdown",
   "metadata": {},
   "source": [
    "<a id='Prioritizing Hypotheses'></a>"
   ]
  },
  {
   "cell_type": "markdown",
   "metadata": {},
   "source": [
    "## Prioritizing Hypotheses"
   ]
  },
  {
   "cell_type": "markdown",
   "metadata": {},
   "source": [
    "In this section I'm going to analyze the hypotheses dataset by applying the ICE and RICE frameworks to it. I'll start by reading the dataset, preprocessing it and then move on to applying the frameworks."
   ]
  },
  {
   "cell_type": "code",
   "execution_count": 3,
   "metadata": {},
   "outputs": [],
   "source": [
    "#reading the data file\n",
    "try: \n",
    "    df_hypotheses = pd.read_csv('/Users/conradschreiner/Documents/datasets/hypotheses_us.csv', sep=';')\n",
    "except:\n",
    "    df_hypotheses = pd.read_csv('/datasets/hypotheses_us.csv', sep=';')"
   ]
  },
  {
   "cell_type": "code",
   "execution_count": 4,
   "metadata": {},
   "outputs": [
    {
     "name": "stdout",
     "output_type": "stream",
     "text": [
      "                                          Hypothesis  Reach  Impact  \\\n",
      "0  Add two new channels for attracting traffic. T...      3      10   \n",
      "1  Launch your own delivery service. This will sh...      2       5   \n",
      "2  Add product recommendation blocks to the store...      8       3   \n",
      "3  Change the category structure. This will incre...      8       3   \n",
      "4  Change the background color on the main page. ...      3       1   \n",
      "5  Add a customer review page. This will increase...      3       2   \n",
      "6  Show banners with current offers and sales on ...      5       3   \n",
      "7  Add a subscription form to all the main pages....     10       7   \n",
      "8  Launch a promotion that gives users discounts ...      1       9   \n",
      "\n",
      "   Confidence  Effort  \n",
      "0           8       6  \n",
      "1           4      10  \n",
      "2           7       3  \n",
      "3           3       8  \n",
      "4           1       1  \n",
      "5           2       3  \n",
      "6           8       3  \n",
      "7           8       5  \n",
      "8           9       5  \n"
     ]
    }
   ],
   "source": [
    "print(df_hypotheses)"
   ]
  },
  {
   "cell_type": "code",
   "execution_count": 5,
   "metadata": {},
   "outputs": [
    {
     "data": {
      "text/html": [
       "<div>\n",
       "<style scoped>\n",
       "    .dataframe tbody tr th:only-of-type {\n",
       "        vertical-align: middle;\n",
       "    }\n",
       "\n",
       "    .dataframe tbody tr th {\n",
       "        vertical-align: top;\n",
       "    }\n",
       "\n",
       "    .dataframe thead th {\n",
       "        text-align: right;\n",
       "    }\n",
       "</style>\n",
       "<table border=\"1\" class=\"dataframe\">\n",
       "  <thead>\n",
       "    <tr style=\"text-align: right;\">\n",
       "      <th></th>\n",
       "      <th>Reach</th>\n",
       "      <th>Impact</th>\n",
       "      <th>Confidence</th>\n",
       "      <th>Effort</th>\n",
       "    </tr>\n",
       "  </thead>\n",
       "  <tbody>\n",
       "    <tr>\n",
       "      <th>count</th>\n",
       "      <td>9.000000</td>\n",
       "      <td>9.000000</td>\n",
       "      <td>9.000000</td>\n",
       "      <td>9.000000</td>\n",
       "    </tr>\n",
       "    <tr>\n",
       "      <th>mean</th>\n",
       "      <td>4.777778</td>\n",
       "      <td>4.777778</td>\n",
       "      <td>5.555556</td>\n",
       "      <td>4.888889</td>\n",
       "    </tr>\n",
       "    <tr>\n",
       "      <th>std</th>\n",
       "      <td>3.153481</td>\n",
       "      <td>3.192874</td>\n",
       "      <td>3.045944</td>\n",
       "      <td>2.803767</td>\n",
       "    </tr>\n",
       "    <tr>\n",
       "      <th>min</th>\n",
       "      <td>1.000000</td>\n",
       "      <td>1.000000</td>\n",
       "      <td>1.000000</td>\n",
       "      <td>1.000000</td>\n",
       "    </tr>\n",
       "    <tr>\n",
       "      <th>25%</th>\n",
       "      <td>3.000000</td>\n",
       "      <td>3.000000</td>\n",
       "      <td>3.000000</td>\n",
       "      <td>3.000000</td>\n",
       "    </tr>\n",
       "    <tr>\n",
       "      <th>50%</th>\n",
       "      <td>3.000000</td>\n",
       "      <td>3.000000</td>\n",
       "      <td>7.000000</td>\n",
       "      <td>5.000000</td>\n",
       "    </tr>\n",
       "    <tr>\n",
       "      <th>75%</th>\n",
       "      <td>8.000000</td>\n",
       "      <td>7.000000</td>\n",
       "      <td>8.000000</td>\n",
       "      <td>6.000000</td>\n",
       "    </tr>\n",
       "    <tr>\n",
       "      <th>max</th>\n",
       "      <td>10.000000</td>\n",
       "      <td>10.000000</td>\n",
       "      <td>9.000000</td>\n",
       "      <td>10.000000</td>\n",
       "    </tr>\n",
       "  </tbody>\n",
       "</table>\n",
       "</div>"
      ],
      "text/plain": [
       "           Reach     Impact  Confidence     Effort\n",
       "count   9.000000   9.000000    9.000000   9.000000\n",
       "mean    4.777778   4.777778    5.555556   4.888889\n",
       "std     3.153481   3.192874    3.045944   2.803767\n",
       "min     1.000000   1.000000    1.000000   1.000000\n",
       "25%     3.000000   3.000000    3.000000   3.000000\n",
       "50%     3.000000   3.000000    7.000000   5.000000\n",
       "75%     8.000000   7.000000    8.000000   6.000000\n",
       "max    10.000000  10.000000    9.000000  10.000000"
      ]
     },
     "execution_count": 5,
     "metadata": {},
     "output_type": "execute_result"
    }
   ],
   "source": [
    "df_hypotheses.describe()"
   ]
  },
  {
   "cell_type": "code",
   "execution_count": 6,
   "metadata": {},
   "outputs": [
    {
     "name": "stdout",
     "output_type": "stream",
     "text": [
      "<class 'pandas.core.frame.DataFrame'>\n",
      "RangeIndex: 9 entries, 0 to 8\n",
      "Data columns (total 5 columns):\n",
      " #   Column      Non-Null Count  Dtype \n",
      "---  ------      --------------  ----- \n",
      " 0   Hypothesis  9 non-null      object\n",
      " 1   Reach       9 non-null      int64 \n",
      " 2   Impact      9 non-null      int64 \n",
      " 3   Confidence  9 non-null      int64 \n",
      " 4   Effort      9 non-null      int64 \n",
      "dtypes: int64(4), object(1)\n",
      "memory usage: 488.0+ bytes\n"
     ]
    }
   ],
   "source": [
    "df_hypotheses.info()"
   ]
  },
  {
   "cell_type": "code",
   "execution_count": 7,
   "metadata": {},
   "outputs": [
    {
     "data": {
      "text/plain": [
       "(9, 5)"
      ]
     },
     "execution_count": 7,
     "metadata": {},
     "output_type": "execute_result"
    }
   ],
   "source": [
    "df_hypotheses.shape"
   ]
  },
  {
   "cell_type": "markdown",
   "metadata": {},
   "source": [
    "After uploading it in the proper format all the data in the hypotheses dataset appears to be in order. Next I will apply the ICE and RICE frameworks to the data. ICE stands for \"Impact, Confidence, Effort.\" RICE stands for \"Reach, Impact, Confidence and Effort.\" RICE considers how many users will be affected whereas ICE does not. "
   ]
  },
  {
   "cell_type": "markdown",
   "metadata": {},
   "source": [
    "First I'm going to apply the ICE framework:"
   ]
  },
  {
   "cell_type": "code",
   "execution_count": 8,
   "metadata": {},
   "outputs": [
    {
     "name": "stdout",
     "output_type": "stream",
     "text": [
      "                                          Hypothesis        ICE\n",
      "8  Launch a promotion that gives users discounts ...  16.200000\n",
      "0  Add two new channels for attracting traffic. T...  13.333333\n",
      "7  Add a subscription form to all the main pages....  11.200000\n",
      "6  Show banners with current offers and sales on ...   8.000000\n",
      "2  Add product recommendation blocks to the store...   7.000000\n",
      "1  Launch your own delivery service. This will sh...   2.000000\n",
      "5  Add a customer review page. This will increase...   1.333333\n",
      "3  Change the category structure. This will incre...   1.125000\n",
      "4  Change the background color on the main page. ...   1.000000\n"
     ]
    }
   ],
   "source": [
    "df_hypotheses['ICE'] =  (df_hypotheses['Impact']*df_hypotheses['Confidence'])/df_hypotheses['Effort']\n",
    "print(df_hypotheses[['Hypothesis','ICE']].sort_values(by='ICE', ascending=False))"
   ]
  },
  {
   "cell_type": "markdown",
   "metadata": {},
   "source": [
    "<a id='A/B Test Analysis Data Preprocessing'></a>"
   ]
  },
  {
   "cell_type": "markdown",
   "metadata": {},
   "source": [
    "Hypotheses 8, 0 and 7 are the top 3 in terms of ICE score, with hypothesis 8 claiming the top spot. "
   ]
  },
  {
   "cell_type": "code",
   "execution_count": 9,
   "metadata": {},
   "outputs": [
    {
     "name": "stdout",
     "output_type": "stream",
     "text": [
      "                                          Hypothesis   RICE\n",
      "7  Add a subscription form to all the main pages....  112.0\n",
      "2  Add product recommendation blocks to the store...   56.0\n",
      "0  Add two new channels for attracting traffic. T...   40.0\n",
      "6  Show banners with current offers and sales on ...   40.0\n",
      "8  Launch a promotion that gives users discounts ...   16.2\n",
      "3  Change the category structure. This will incre...    9.0\n",
      "1  Launch your own delivery service. This will sh...    4.0\n",
      "5  Add a customer review page. This will increase...    4.0\n",
      "4  Change the background color on the main page. ...    3.0\n"
     ]
    }
   ],
   "source": [
    "df_hypotheses['RICE'] = (df_hypotheses['Reach']*df_hypotheses['Impact']*df_hypotheses['Confidence'])/df_hypotheses['Effort']\n",
    "\n",
    "print(df_hypotheses[['Hypothesis','RICE']].sort_values(by='RICE', ascending=False))"
   ]
  },
  {
   "cell_type": "markdown",
   "metadata": {},
   "source": [
    "In terms of RICE score the top 3 is a little different. This time hypotheses 7, 2, 0 and 6 are at the top, with 0 and 6 tied for third while 7 is in the lead by far at 112. This outcome is noticeably different compared to the ICE framework, where hypothesis 8 was on top. This time hypothesis 8 didn't even make the top 3, it was in at distant 5th place by almost 30 points. Hypothesis 7 was in the top 3 in both frameworks, same with hpyothesis 0. These ICE versus RICE framework results are a good example of the importance of \"reach\" when considering hypthoses. When reach was considered hypothesis 7 (Add a subscription form to all the main pages...) became the clear winner by a long shot. If reach data is available then it should definitely be considered when evaluating hypotheses for potential business plans. I would recommend moving forward with hypothesis 7 and secondly 0. Hypotheses 2 and 6 should also be considered depending on the department's budget."
   ]
  },
  {
   "cell_type": "code",
   "execution_count": 10,
   "metadata": {},
   "outputs": [
    {
     "data": {
      "image/png": "[encoded data removed]",
      "text/plain": [
       "<Figure size 720x576 with 1 Axes>"
      ]
     },
     "metadata": {
      "needs_background": "light"
     },
     "output_type": "display_data"
    }
   ],
   "source": [
    "df_hypotheses.plot(kind='bar', x='Hypothesis', y=['ICE', 'RICE'], figsize= (10,8))\n",
    "\n",
    "plt.title('ICE Score VS RICE Scores');\n",
    "plt.xlabel('Hypothesis');\n",
    "plt.ylabel('Score');\n",
    "plt.xticks(rotation=30, ha='right');\n",
    "plt.legend();"
   ]
  },
  {
   "cell_type": "markdown",
   "metadata": {},
   "source": [
    "## A/B Test Analysis Data Preprocessing"
   ]
  },
  {
   "cell_type": "markdown",
   "metadata": {},
   "source": [
    "In this section I'm going to ensure that there are no mistakes in the original A/B Test datasets. Mistakes could be duplicates, or for example some of the visitors might have gotten into both group A and group B. This step will make sure that the data is accurate prior to a full analysis of the test data. In this step I will also group both sets of data so that they are divided by group A and Group B. "
   ]
  },
  {
   "cell_type": "code",
   "execution_count": 11,
   "metadata": {},
   "outputs": [],
   "source": [
    "try:\n",
    "    df_visits = pd.read_csv('/Users/conradschreiner/Documents/datasets/orders_us.csv')\n",
    "except:    \n",
    "    df_visits = pd.read_csv('/datasets/orders_us.csv')\n",
    "try:\n",
    "    df_orders = pd.read_csv('/Users/conradschreiner/Documents/datasets/visits_us.csv')\n",
    "except:\n",
    "    df_orders = pd.read_csv('/datasets/visits_us.csv')"
   ]
  },
  {
   "cell_type": "code",
   "execution_count": 12,
   "metadata": {},
   "outputs": [
    {
     "data": {
      "text/html": [
       "<div>\n",
       "<style scoped>\n",
       "    .dataframe tbody tr th:only-of-type {\n",
       "        vertical-align: middle;\n",
       "    }\n",
       "\n",
       "    .dataframe tbody tr th {\n",
       "        vertical-align: top;\n",
       "    }\n",
       "\n",
       "    .dataframe thead th {\n",
       "        text-align: right;\n",
       "    }\n",
       "</style>\n",
       "<table border=\"1\" class=\"dataframe\">\n",
       "  <thead>\n",
       "    <tr style=\"text-align: right;\">\n",
       "      <th></th>\n",
       "      <th>transactionId</th>\n",
       "      <th>visitorId</th>\n",
       "      <th>date</th>\n",
       "      <th>revenue</th>\n",
       "      <th>group</th>\n",
       "    </tr>\n",
       "  </thead>\n",
       "  <tbody>\n",
       "    <tr>\n",
       "      <th>0</th>\n",
       "      <td>3667963787</td>\n",
       "      <td>3312258926</td>\n",
       "      <td>2019-08-15</td>\n",
       "      <td>30.4</td>\n",
       "      <td>B</td>\n",
       "    </tr>\n",
       "    <tr>\n",
       "      <th>1</th>\n",
       "      <td>2804400009</td>\n",
       "      <td>3642806036</td>\n",
       "      <td>2019-08-15</td>\n",
       "      <td>15.2</td>\n",
       "      <td>B</td>\n",
       "    </tr>\n",
       "    <tr>\n",
       "      <th>2</th>\n",
       "      <td>2961555356</td>\n",
       "      <td>4069496402</td>\n",
       "      <td>2019-08-15</td>\n",
       "      <td>10.2</td>\n",
       "      <td>A</td>\n",
       "    </tr>\n",
       "    <tr>\n",
       "      <th>3</th>\n",
       "      <td>3797467345</td>\n",
       "      <td>1196621759</td>\n",
       "      <td>2019-08-15</td>\n",
       "      <td>155.1</td>\n",
       "      <td>B</td>\n",
       "    </tr>\n",
       "    <tr>\n",
       "      <th>4</th>\n",
       "      <td>2282983706</td>\n",
       "      <td>2322279887</td>\n",
       "      <td>2019-08-15</td>\n",
       "      <td>40.5</td>\n",
       "      <td>B</td>\n",
       "    </tr>\n",
       "  </tbody>\n",
       "</table>\n",
       "</div>"
      ],
      "text/plain": [
       "   transactionId   visitorId        date  revenue group\n",
       "0     3667963787  3312258926  2019-08-15     30.4     B\n",
       "1     2804400009  3642806036  2019-08-15     15.2     B\n",
       "2     2961555356  4069496402  2019-08-15     10.2     A\n",
       "3     3797467345  1196621759  2019-08-15    155.1     B\n",
       "4     2282983706  2322279887  2019-08-15     40.5     B"
      ]
     },
     "execution_count": 12,
     "metadata": {},
     "output_type": "execute_result"
    }
   ],
   "source": [
    "df_visits.head()"
   ]
  },
  {
   "cell_type": "code",
   "execution_count": 13,
   "metadata": {},
   "outputs": [
    {
     "data": {
      "text/html": [
       "<div>\n",
       "<style scoped>\n",
       "    .dataframe tbody tr th:only-of-type {\n",
       "        vertical-align: middle;\n",
       "    }\n",
       "\n",
       "    .dataframe tbody tr th {\n",
       "        vertical-align: top;\n",
       "    }\n",
       "\n",
       "    .dataframe thead th {\n",
       "        text-align: right;\n",
       "    }\n",
       "</style>\n",
       "<table border=\"1\" class=\"dataframe\">\n",
       "  <thead>\n",
       "    <tr style=\"text-align: right;\">\n",
       "      <th></th>\n",
       "      <th>date</th>\n",
       "      <th>group</th>\n",
       "      <th>visits</th>\n",
       "    </tr>\n",
       "  </thead>\n",
       "  <tbody>\n",
       "    <tr>\n",
       "      <th>0</th>\n",
       "      <td>2019-08-01</td>\n",
       "      <td>A</td>\n",
       "      <td>719</td>\n",
       "    </tr>\n",
       "    <tr>\n",
       "      <th>1</th>\n",
       "      <td>2019-08-02</td>\n",
       "      <td>A</td>\n",
       "      <td>619</td>\n",
       "    </tr>\n",
       "    <tr>\n",
       "      <th>2</th>\n",
       "      <td>2019-08-03</td>\n",
       "      <td>A</td>\n",
       "      <td>507</td>\n",
       "    </tr>\n",
       "    <tr>\n",
       "      <th>3</th>\n",
       "      <td>2019-08-04</td>\n",
       "      <td>A</td>\n",
       "      <td>717</td>\n",
       "    </tr>\n",
       "    <tr>\n",
       "      <th>4</th>\n",
       "      <td>2019-08-05</td>\n",
       "      <td>A</td>\n",
       "      <td>756</td>\n",
       "    </tr>\n",
       "  </tbody>\n",
       "</table>\n",
       "</div>"
      ],
      "text/plain": [
       "         date group  visits\n",
       "0  2019-08-01     A     719\n",
       "1  2019-08-02     A     619\n",
       "2  2019-08-03     A     507\n",
       "3  2019-08-04     A     717\n",
       "4  2019-08-05     A     756"
      ]
     },
     "execution_count": 13,
     "metadata": {},
     "output_type": "execute_result"
    }
   ],
   "source": [
    "df_orders.head()"
   ]
  },
  {
   "cell_type": "code",
   "execution_count": 14,
   "metadata": {},
   "outputs": [
    {
     "name": "stdout",
     "output_type": "stream",
     "text": [
      "<class 'pandas.core.frame.DataFrame'>\n",
      "RangeIndex: 1197 entries, 0 to 1196\n",
      "Data columns (total 5 columns):\n",
      " #   Column         Non-Null Count  Dtype  \n",
      "---  ------         --------------  -----  \n",
      " 0   transactionId  1197 non-null   int64  \n",
      " 1   visitorId      1197 non-null   int64  \n",
      " 2   date           1197 non-null   object \n",
      " 3   revenue        1197 non-null   float64\n",
      " 4   group          1197 non-null   object \n",
      "dtypes: float64(1), int64(2), object(2)\n",
      "memory usage: 46.9+ KB\n"
     ]
    }
   ],
   "source": [
    "df_visits.info()"
   ]
  },
  {
   "cell_type": "code",
   "execution_count": 15,
   "metadata": {},
   "outputs": [
    {
     "name": "stdout",
     "output_type": "stream",
     "text": [
      "<class 'pandas.core.frame.DataFrame'>\n",
      "RangeIndex: 62 entries, 0 to 61\n",
      "Data columns (total 3 columns):\n",
      " #   Column  Non-Null Count  Dtype \n",
      "---  ------  --------------  ----- \n",
      " 0   date    62 non-null     object\n",
      " 1   group   62 non-null     object\n",
      " 2   visits  62 non-null     int64 \n",
      "dtypes: int64(1), object(2)\n",
      "memory usage: 1.6+ KB\n"
     ]
    }
   ],
   "source": [
    "df_orders.info()"
   ]
  },
  {
   "cell_type": "code",
   "execution_count": 16,
   "metadata": {},
   "outputs": [
    {
     "data": {
      "text/html": [
       "<div>\n",
       "<style scoped>\n",
       "    .dataframe tbody tr th:only-of-type {\n",
       "        vertical-align: middle;\n",
       "    }\n",
       "\n",
       "    .dataframe tbody tr th {\n",
       "        vertical-align: top;\n",
       "    }\n",
       "\n",
       "    .dataframe thead th {\n",
       "        text-align: right;\n",
       "    }\n",
       "</style>\n",
       "<table border=\"1\" class=\"dataframe\">\n",
       "  <thead>\n",
       "    <tr style=\"text-align: right;\">\n",
       "      <th></th>\n",
       "      <th>transactionId</th>\n",
       "      <th>visitorId</th>\n",
       "      <th>revenue</th>\n",
       "    </tr>\n",
       "  </thead>\n",
       "  <tbody>\n",
       "    <tr>\n",
       "      <th>count</th>\n",
       "      <td>1.197000e+03</td>\n",
       "      <td>1.197000e+03</td>\n",
       "      <td>1197.000000</td>\n",
       "    </tr>\n",
       "    <tr>\n",
       "      <th>mean</th>\n",
       "      <td>2.155621e+09</td>\n",
       "      <td>2.165960e+09</td>\n",
       "      <td>131.491646</td>\n",
       "    </tr>\n",
       "    <tr>\n",
       "      <th>std</th>\n",
       "      <td>1.229085e+09</td>\n",
       "      <td>1.236014e+09</td>\n",
       "      <td>603.004729</td>\n",
       "    </tr>\n",
       "    <tr>\n",
       "      <th>min</th>\n",
       "      <td>1.062393e+06</td>\n",
       "      <td>5.114589e+06</td>\n",
       "      <td>5.000000</td>\n",
       "    </tr>\n",
       "    <tr>\n",
       "      <th>25%</th>\n",
       "      <td>1.166776e+09</td>\n",
       "      <td>1.111826e+09</td>\n",
       "      <td>20.800000</td>\n",
       "    </tr>\n",
       "    <tr>\n",
       "      <th>50%</th>\n",
       "      <td>2.145194e+09</td>\n",
       "      <td>2.217985e+09</td>\n",
       "      <td>50.200000</td>\n",
       "    </tr>\n",
       "    <tr>\n",
       "      <th>75%</th>\n",
       "      <td>3.237740e+09</td>\n",
       "      <td>3.177606e+09</td>\n",
       "      <td>130.400000</td>\n",
       "    </tr>\n",
       "    <tr>\n",
       "      <th>max</th>\n",
       "      <td>4.293856e+09</td>\n",
       "      <td>4.283872e+09</td>\n",
       "      <td>19920.400000</td>\n",
       "    </tr>\n",
       "  </tbody>\n",
       "</table>\n",
       "</div>"
      ],
      "text/plain": [
       "       transactionId     visitorId       revenue\n",
       "count   1.197000e+03  1.197000e+03   1197.000000\n",
       "mean    2.155621e+09  2.165960e+09    131.491646\n",
       "std     1.229085e+09  1.236014e+09    603.004729\n",
       "min     1.062393e+06  5.114589e+06      5.000000\n",
       "25%     1.166776e+09  1.111826e+09     20.800000\n",
       "50%     2.145194e+09  2.217985e+09     50.200000\n",
       "75%     3.237740e+09  3.177606e+09    130.400000\n",
       "max     4.293856e+09  4.283872e+09  19920.400000"
      ]
     },
     "execution_count": 16,
     "metadata": {},
     "output_type": "execute_result"
    }
   ],
   "source": [
    "df_visits.describe()"
   ]
  },
  {
   "cell_type": "code",
   "execution_count": 17,
   "metadata": {},
   "outputs": [
    {
     "data": {
      "text/html": [
       "<div>\n",
       "<style scoped>\n",
       "    .dataframe tbody tr th:only-of-type {\n",
       "        vertical-align: middle;\n",
       "    }\n",
       "\n",
       "    .dataframe tbody tr th {\n",
       "        vertical-align: top;\n",
       "    }\n",
       "\n",
       "    .dataframe thead th {\n",
       "        text-align: right;\n",
       "    }\n",
       "</style>\n",
       "<table border=\"1\" class=\"dataframe\">\n",
       "  <thead>\n",
       "    <tr style=\"text-align: right;\">\n",
       "      <th></th>\n",
       "      <th>visits</th>\n",
       "    </tr>\n",
       "  </thead>\n",
       "  <tbody>\n",
       "    <tr>\n",
       "      <th>count</th>\n",
       "      <td>62.000000</td>\n",
       "    </tr>\n",
       "    <tr>\n",
       "      <th>mean</th>\n",
       "      <td>607.290323</td>\n",
       "    </tr>\n",
       "    <tr>\n",
       "      <th>std</th>\n",
       "      <td>114.400560</td>\n",
       "    </tr>\n",
       "    <tr>\n",
       "      <th>min</th>\n",
       "      <td>361.000000</td>\n",
       "    </tr>\n",
       "    <tr>\n",
       "      <th>25%</th>\n",
       "      <td>534.000000</td>\n",
       "    </tr>\n",
       "    <tr>\n",
       "      <th>50%</th>\n",
       "      <td>624.500000</td>\n",
       "    </tr>\n",
       "    <tr>\n",
       "      <th>75%</th>\n",
       "      <td>710.500000</td>\n",
       "    </tr>\n",
       "    <tr>\n",
       "      <th>max</th>\n",
       "      <td>770.000000</td>\n",
       "    </tr>\n",
       "  </tbody>\n",
       "</table>\n",
       "</div>"
      ],
      "text/plain": [
       "           visits\n",
       "count   62.000000\n",
       "mean   607.290323\n",
       "std    114.400560\n",
       "min    361.000000\n",
       "25%    534.000000\n",
       "50%    624.500000\n",
       "75%    710.500000\n",
       "max    770.000000"
      ]
     },
     "execution_count": 17,
     "metadata": {},
     "output_type": "execute_result"
    }
   ],
   "source": [
    "df_orders.describe()"
   ]
  },
  {
   "cell_type": "code",
   "execution_count": 18,
   "metadata": {},
   "outputs": [
    {
     "data": {
      "text/plain": [
       "transactionId    0\n",
       "visitorId        0\n",
       "date             0\n",
       "revenue          0\n",
       "group            0\n",
       "dtype: int64"
      ]
     },
     "execution_count": 18,
     "metadata": {},
     "output_type": "execute_result"
    }
   ],
   "source": [
    "df_visits.isna().sum()"
   ]
  },
  {
   "cell_type": "code",
   "execution_count": 19,
   "metadata": {},
   "outputs": [
    {
     "data": {
      "text/plain": [
       "date      0\n",
       "group     0\n",
       "visits    0\n",
       "dtype: int64"
      ]
     },
     "execution_count": 19,
     "metadata": {},
     "output_type": "execute_result"
    }
   ],
   "source": [
    "df_orders.isna().sum()"
   ]
  },
  {
   "cell_type": "code",
   "execution_count": 20,
   "metadata": {},
   "outputs": [
    {
     "data": {
      "text/plain": [
       "0"
      ]
     },
     "execution_count": 20,
     "metadata": {},
     "output_type": "execute_result"
    }
   ],
   "source": [
    "df_orders.duplicated().sum()"
   ]
  },
  {
   "cell_type": "code",
   "execution_count": 21,
   "metadata": {},
   "outputs": [
    {
     "data": {
      "text/plain": [
       "0"
      ]
     },
     "execution_count": 21,
     "metadata": {},
     "output_type": "execute_result"
    }
   ],
   "source": [
    "df_visits.duplicated().sum()"
   ]
  },
  {
   "cell_type": "code",
   "execution_count": 22,
   "metadata": {},
   "outputs": [
    {
     "data": {
      "text/html": [
       "<div>\n",
       "<style scoped>\n",
       "    .dataframe tbody tr th:only-of-type {\n",
       "        vertical-align: middle;\n",
       "    }\n",
       "\n",
       "    .dataframe tbody tr th {\n",
       "        vertical-align: top;\n",
       "    }\n",
       "\n",
       "    .dataframe thead th {\n",
       "        text-align: right;\n",
       "    }\n",
       "</style>\n",
       "<table border=\"1\" class=\"dataframe\">\n",
       "  <thead>\n",
       "    <tr style=\"text-align: right;\">\n",
       "      <th></th>\n",
       "      <th>transactionId</th>\n",
       "      <th>visitorId</th>\n",
       "      <th>date</th>\n",
       "      <th>revenue</th>\n",
       "      <th>group</th>\n",
       "    </tr>\n",
       "  </thead>\n",
       "  <tbody>\n",
       "    <tr>\n",
       "      <th>0</th>\n",
       "      <td>3667963787</td>\n",
       "      <td>3312258926</td>\n",
       "      <td>2019-08-15</td>\n",
       "      <td>30.4</td>\n",
       "      <td>B</td>\n",
       "    </tr>\n",
       "    <tr>\n",
       "      <th>1</th>\n",
       "      <td>2804400009</td>\n",
       "      <td>3642806036</td>\n",
       "      <td>2019-08-15</td>\n",
       "      <td>15.2</td>\n",
       "      <td>B</td>\n",
       "    </tr>\n",
       "    <tr>\n",
       "      <th>2</th>\n",
       "      <td>2961555356</td>\n",
       "      <td>4069496402</td>\n",
       "      <td>2019-08-15</td>\n",
       "      <td>10.2</td>\n",
       "      <td>A</td>\n",
       "    </tr>\n",
       "    <tr>\n",
       "      <th>3</th>\n",
       "      <td>3797467345</td>\n",
       "      <td>1196621759</td>\n",
       "      <td>2019-08-15</td>\n",
       "      <td>155.1</td>\n",
       "      <td>B</td>\n",
       "    </tr>\n",
       "    <tr>\n",
       "      <th>4</th>\n",
       "      <td>2282983706</td>\n",
       "      <td>2322279887</td>\n",
       "      <td>2019-08-15</td>\n",
       "      <td>40.5</td>\n",
       "      <td>B</td>\n",
       "    </tr>\n",
       "  </tbody>\n",
       "</table>\n",
       "</div>"
      ],
      "text/plain": [
       "   transactionId   visitorId        date  revenue group\n",
       "0     3667963787  3312258926  2019-08-15     30.4     B\n",
       "1     2804400009  3642806036  2019-08-15     15.2     B\n",
       "2     2961555356  4069496402  2019-08-15     10.2     A\n",
       "3     3797467345  1196621759  2019-08-15    155.1     B\n",
       "4     2282983706  2322279887  2019-08-15     40.5     B"
      ]
     },
     "execution_count": 22,
     "metadata": {},
     "output_type": "execute_result"
    }
   ],
   "source": [
    "df_visits.head()"
   ]
  },
  {
   "cell_type": "markdown",
   "metadata": {},
   "source": [
    "Lastly in terms of preprocessing I'm going to convert the date column to the datetime datatype."
   ]
  },
  {
   "cell_type": "code",
   "execution_count": 23,
   "metadata": {},
   "outputs": [],
   "source": [
    "df_visits['date'] = df_visits['date'].astype('datetime64[D]')"
   ]
  },
  {
   "cell_type": "code",
   "execution_count": 24,
   "metadata": {},
   "outputs": [],
   "source": [
    "df_orders['date'] = df_orders['date'].astype('datetime64[D]')"
   ]
  },
  {
   "cell_type": "code",
   "execution_count": 25,
   "metadata": {},
   "outputs": [
    {
     "name": "stdout",
     "output_type": "stream",
     "text": [
      "<class 'pandas.core.frame.DataFrame'>\n",
      "RangeIndex: 1197 entries, 0 to 1196\n",
      "Data columns (total 5 columns):\n",
      " #   Column         Non-Null Count  Dtype         \n",
      "---  ------         --------------  -----         \n",
      " 0   transactionId  1197 non-null   int64         \n",
      " 1   visitorId      1197 non-null   int64         \n",
      " 2   date           1197 non-null   datetime64[ns]\n",
      " 3   revenue        1197 non-null   float64       \n",
      " 4   group          1197 non-null   object        \n",
      "dtypes: datetime64[ns](1), float64(1), int64(2), object(1)\n",
      "memory usage: 46.9+ KB\n"
     ]
    }
   ],
   "source": [
    "df_visits.info()"
   ]
  },
  {
   "cell_type": "code",
   "execution_count": 26,
   "metadata": {},
   "outputs": [
    {
     "name": "stdout",
     "output_type": "stream",
     "text": [
      "<class 'pandas.core.frame.DataFrame'>\n",
      "RangeIndex: 62 entries, 0 to 61\n",
      "Data columns (total 3 columns):\n",
      " #   Column  Non-Null Count  Dtype         \n",
      "---  ------  --------------  -----         \n",
      " 0   date    62 non-null     datetime64[ns]\n",
      " 1   group   62 non-null     object        \n",
      " 2   visits  62 non-null     int64         \n",
      "dtypes: datetime64[ns](1), int64(1), object(1)\n",
      "memory usage: 1.6+ KB\n"
     ]
    }
   ],
   "source": [
    "df_orders.info()"
   ]
  },
  {
   "cell_type": "code",
   "execution_count": 27,
   "metadata": {},
   "outputs": [
    {
     "data": {
      "text/html": [
       "<div>\n",
       "<style scoped>\n",
       "    .dataframe tbody tr th:only-of-type {\n",
       "        vertical-align: middle;\n",
       "    }\n",
       "\n",
       "    .dataframe tbody tr th {\n",
       "        vertical-align: top;\n",
       "    }\n",
       "\n",
       "    .dataframe thead th {\n",
       "        text-align: right;\n",
       "    }\n",
       "</style>\n",
       "<table border=\"1\" class=\"dataframe\">\n",
       "  <thead>\n",
       "    <tr style=\"text-align: right;\">\n",
       "      <th></th>\n",
       "      <th>transactionId</th>\n",
       "      <th>visitorId</th>\n",
       "      <th>date</th>\n",
       "      <th>revenue</th>\n",
       "      <th>group</th>\n",
       "    </tr>\n",
       "  </thead>\n",
       "  <tbody>\n",
       "    <tr>\n",
       "      <th>0</th>\n",
       "      <td>3667963787</td>\n",
       "      <td>3312258926</td>\n",
       "      <td>2019-08-15</td>\n",
       "      <td>30.4</td>\n",
       "      <td>B</td>\n",
       "    </tr>\n",
       "    <tr>\n",
       "      <th>1</th>\n",
       "      <td>2804400009</td>\n",
       "      <td>3642806036</td>\n",
       "      <td>2019-08-15</td>\n",
       "      <td>15.2</td>\n",
       "      <td>B</td>\n",
       "    </tr>\n",
       "    <tr>\n",
       "      <th>2</th>\n",
       "      <td>2961555356</td>\n",
       "      <td>4069496402</td>\n",
       "      <td>2019-08-15</td>\n",
       "      <td>10.2</td>\n",
       "      <td>A</td>\n",
       "    </tr>\n",
       "    <tr>\n",
       "      <th>3</th>\n",
       "      <td>3797467345</td>\n",
       "      <td>1196621759</td>\n",
       "      <td>2019-08-15</td>\n",
       "      <td>155.1</td>\n",
       "      <td>B</td>\n",
       "    </tr>\n",
       "    <tr>\n",
       "      <th>4</th>\n",
       "      <td>2282983706</td>\n",
       "      <td>2322279887</td>\n",
       "      <td>2019-08-15</td>\n",
       "      <td>40.5</td>\n",
       "      <td>B</td>\n",
       "    </tr>\n",
       "  </tbody>\n",
       "</table>\n",
       "</div>"
      ],
      "text/plain": [
       "   transactionId   visitorId       date  revenue group\n",
       "0     3667963787  3312258926 2019-08-15     30.4     B\n",
       "1     2804400009  3642806036 2019-08-15     15.2     B\n",
       "2     2961555356  4069496402 2019-08-15     10.2     A\n",
       "3     3797467345  1196621759 2019-08-15    155.1     B\n",
       "4     2282983706  2322279887 2019-08-15     40.5     B"
      ]
     },
     "execution_count": 27,
     "metadata": {},
     "output_type": "execute_result"
    }
   ],
   "source": [
    "df_visits.head()"
   ]
  },
  {
   "cell_type": "code",
   "execution_count": 28,
   "metadata": {},
   "outputs": [
    {
     "data": {
      "text/html": [
       "<div>\n",
       "<style scoped>\n",
       "    .dataframe tbody tr th:only-of-type {\n",
       "        vertical-align: middle;\n",
       "    }\n",
       "\n",
       "    .dataframe tbody tr th {\n",
       "        vertical-align: top;\n",
       "    }\n",
       "\n",
       "    .dataframe thead th {\n",
       "        text-align: right;\n",
       "    }\n",
       "</style>\n",
       "<table border=\"1\" class=\"dataframe\">\n",
       "  <thead>\n",
       "    <tr style=\"text-align: right;\">\n",
       "      <th></th>\n",
       "      <th>date</th>\n",
       "      <th>group</th>\n",
       "      <th>visits</th>\n",
       "    </tr>\n",
       "  </thead>\n",
       "  <tbody>\n",
       "    <tr>\n",
       "      <th>0</th>\n",
       "      <td>2019-08-01</td>\n",
       "      <td>A</td>\n",
       "      <td>719</td>\n",
       "    </tr>\n",
       "    <tr>\n",
       "      <th>1</th>\n",
       "      <td>2019-08-02</td>\n",
       "      <td>A</td>\n",
       "      <td>619</td>\n",
       "    </tr>\n",
       "    <tr>\n",
       "      <th>2</th>\n",
       "      <td>2019-08-03</td>\n",
       "      <td>A</td>\n",
       "      <td>507</td>\n",
       "    </tr>\n",
       "    <tr>\n",
       "      <th>3</th>\n",
       "      <td>2019-08-04</td>\n",
       "      <td>A</td>\n",
       "      <td>717</td>\n",
       "    </tr>\n",
       "    <tr>\n",
       "      <th>4</th>\n",
       "      <td>2019-08-05</td>\n",
       "      <td>A</td>\n",
       "      <td>756</td>\n",
       "    </tr>\n",
       "  </tbody>\n",
       "</table>\n",
       "</div>"
      ],
      "text/plain": [
       "        date group  visits\n",
       "0 2019-08-01     A     719\n",
       "1 2019-08-02     A     619\n",
       "2 2019-08-03     A     507\n",
       "3 2019-08-04     A     717\n",
       "4 2019-08-05     A     756"
      ]
     },
     "execution_count": 28,
     "metadata": {},
     "output_type": "execute_result"
    }
   ],
   "source": [
    "df_orders.head()"
   ]
  },
  {
   "cell_type": "markdown",
   "metadata": {},
   "source": [
    "There are not duplicates in the data and there are no missing values . The date columns have been adjusted to the proper data type. Next I will remove visitors who were in both groups"
   ]
  },
  {
   "cell_type": "code",
   "execution_count": 29,
   "metadata": {},
   "outputs": [
    {
     "data": {
      "text/html": [
       "<div>\n",
       "<style scoped>\n",
       "    .dataframe tbody tr th:only-of-type {\n",
       "        vertical-align: middle;\n",
       "    }\n",
       "\n",
       "    .dataframe tbody tr th {\n",
       "        vertical-align: top;\n",
       "    }\n",
       "\n",
       "    .dataframe thead th {\n",
       "        text-align: right;\n",
       "    }\n",
       "</style>\n",
       "<table border=\"1\" class=\"dataframe\">\n",
       "  <thead>\n",
       "    <tr style=\"text-align: right;\">\n",
       "      <th></th>\n",
       "      <th>group</th>\n",
       "    </tr>\n",
       "    <tr>\n",
       "      <th>visitorId</th>\n",
       "      <th></th>\n",
       "    </tr>\n",
       "  </thead>\n",
       "  <tbody>\n",
       "    <tr>\n",
       "      <th>5114589</th>\n",
       "      <td>1</td>\n",
       "    </tr>\n",
       "    <tr>\n",
       "      <th>6958315</th>\n",
       "      <td>1</td>\n",
       "    </tr>\n",
       "    <tr>\n",
       "      <th>8300375</th>\n",
       "      <td>2</td>\n",
       "    </tr>\n",
       "    <tr>\n",
       "      <th>11685486</th>\n",
       "      <td>1</td>\n",
       "    </tr>\n",
       "    <tr>\n",
       "      <th>39475350</th>\n",
       "      <td>1</td>\n",
       "    </tr>\n",
       "  </tbody>\n",
       "</table>\n",
       "</div>"
      ],
      "text/plain": [
       "           group\n",
       "visitorId       \n",
       "5114589        1\n",
       "6958315        1\n",
       "8300375        2\n",
       "11685486       1\n",
       "39475350       1"
      ]
     },
     "execution_count": 29,
     "metadata": {},
     "output_type": "execute_result"
    }
   ],
   "source": [
    "group_count = df_visits.groupby('visitorId').agg({'group': 'nunique'})\n",
    "group_count.head()"
   ]
  },
  {
   "cell_type": "code",
   "execution_count": 30,
   "metadata": {},
   "outputs": [],
   "source": [
    "both_groups = group_count[group_count['group'] == 2]"
   ]
  },
  {
   "cell_type": "code",
   "execution_count": 31,
   "metadata": {},
   "outputs": [
    {
     "name": "stdout",
     "output_type": "stream",
     "text": [
      "users those are in both group of A and B:\n"
     ]
    },
    {
     "data": {
      "text/html": [
       "<div>\n",
       "<style scoped>\n",
       "    .dataframe tbody tr th:only-of-type {\n",
       "        vertical-align: middle;\n",
       "    }\n",
       "\n",
       "    .dataframe tbody tr th {\n",
       "        vertical-align: top;\n",
       "    }\n",
       "\n",
       "    .dataframe thead th {\n",
       "        text-align: right;\n",
       "    }\n",
       "</style>\n",
       "<table border=\"1\" class=\"dataframe\">\n",
       "  <thead>\n",
       "    <tr style=\"text-align: right;\">\n",
       "      <th></th>\n",
       "      <th>group</th>\n",
       "    </tr>\n",
       "    <tr>\n",
       "      <th>visitorId</th>\n",
       "      <th></th>\n",
       "    </tr>\n",
       "  </thead>\n",
       "  <tbody>\n",
       "    <tr>\n",
       "      <th>8300375</th>\n",
       "      <td>2</td>\n",
       "    </tr>\n",
       "    <tr>\n",
       "      <th>199603092</th>\n",
       "      <td>2</td>\n",
       "    </tr>\n",
       "    <tr>\n",
       "      <th>232979603</th>\n",
       "      <td>2</td>\n",
       "    </tr>\n",
       "    <tr>\n",
       "      <th>237748145</th>\n",
       "      <td>2</td>\n",
       "    </tr>\n",
       "    <tr>\n",
       "      <th>276558944</th>\n",
       "      <td>2</td>\n",
       "    </tr>\n",
       "    <tr>\n",
       "      <th>351125977</th>\n",
       "      <td>2</td>\n",
       "    </tr>\n",
       "    <tr>\n",
       "      <th>393266494</th>\n",
       "      <td>2</td>\n",
       "    </tr>\n",
       "    <tr>\n",
       "      <th>457167155</th>\n",
       "      <td>2</td>\n",
       "    </tr>\n",
       "    <tr>\n",
       "      <th>471551937</th>\n",
       "      <td>2</td>\n",
       "    </tr>\n",
       "    <tr>\n",
       "      <th>477780734</th>\n",
       "      <td>2</td>\n",
       "    </tr>\n",
       "    <tr>\n",
       "      <th>818047933</th>\n",
       "      <td>2</td>\n",
       "    </tr>\n",
       "    <tr>\n",
       "      <th>963407295</th>\n",
       "      <td>2</td>\n",
       "    </tr>\n",
       "    <tr>\n",
       "      <th>1230306981</th>\n",
       "      <td>2</td>\n",
       "    </tr>\n",
       "    <tr>\n",
       "      <th>1294878855</th>\n",
       "      <td>2</td>\n",
       "    </tr>\n",
       "    <tr>\n",
       "      <th>1316129916</th>\n",
       "      <td>2</td>\n",
       "    </tr>\n",
       "    <tr>\n",
       "      <th>1333886533</th>\n",
       "      <td>2</td>\n",
       "    </tr>\n",
       "    <tr>\n",
       "      <th>1404934699</th>\n",
       "      <td>2</td>\n",
       "    </tr>\n",
       "    <tr>\n",
       "      <th>1602967004</th>\n",
       "      <td>2</td>\n",
       "    </tr>\n",
       "    <tr>\n",
       "      <th>1614305549</th>\n",
       "      <td>2</td>\n",
       "    </tr>\n",
       "    <tr>\n",
       "      <th>1648269707</th>\n",
       "      <td>2</td>\n",
       "    </tr>\n",
       "    <tr>\n",
       "      <th>1668030113</th>\n",
       "      <td>2</td>\n",
       "    </tr>\n",
       "    <tr>\n",
       "      <th>1738359350</th>\n",
       "      <td>2</td>\n",
       "    </tr>\n",
       "    <tr>\n",
       "      <th>1801183820</th>\n",
       "      <td>2</td>\n",
       "    </tr>\n",
       "    <tr>\n",
       "      <th>1959144690</th>\n",
       "      <td>2</td>\n",
       "    </tr>\n",
       "    <tr>\n",
       "      <th>2038680547</th>\n",
       "      <td>2</td>\n",
       "    </tr>\n",
       "    <tr>\n",
       "      <th>2044997962</th>\n",
       "      <td>2</td>\n",
       "    </tr>\n",
       "    <tr>\n",
       "      <th>2378935119</th>\n",
       "      <td>2</td>\n",
       "    </tr>\n",
       "    <tr>\n",
       "      <th>2458001652</th>\n",
       "      <td>2</td>\n",
       "    </tr>\n",
       "    <tr>\n",
       "      <th>2579882178</th>\n",
       "      <td>2</td>\n",
       "    </tr>\n",
       "    <tr>\n",
       "      <th>2587333274</th>\n",
       "      <td>2</td>\n",
       "    </tr>\n",
       "    <tr>\n",
       "      <th>2600415354</th>\n",
       "      <td>2</td>\n",
       "    </tr>\n",
       "    <tr>\n",
       "      <th>2654030115</th>\n",
       "      <td>2</td>\n",
       "    </tr>\n",
       "    <tr>\n",
       "      <th>2686716486</th>\n",
       "      <td>2</td>\n",
       "    </tr>\n",
       "    <tr>\n",
       "      <th>2712142231</th>\n",
       "      <td>2</td>\n",
       "    </tr>\n",
       "    <tr>\n",
       "      <th>2716752286</th>\n",
       "      <td>2</td>\n",
       "    </tr>\n",
       "    <tr>\n",
       "      <th>2780786433</th>\n",
       "      <td>2</td>\n",
       "    </tr>\n",
       "    <tr>\n",
       "      <th>2927087541</th>\n",
       "      <td>2</td>\n",
       "    </tr>\n",
       "    <tr>\n",
       "      <th>2949041841</th>\n",
       "      <td>2</td>\n",
       "    </tr>\n",
       "    <tr>\n",
       "      <th>2954449915</th>\n",
       "      <td>2</td>\n",
       "    </tr>\n",
       "    <tr>\n",
       "      <th>3062433592</th>\n",
       "      <td>2</td>\n",
       "    </tr>\n",
       "    <tr>\n",
       "      <th>3202540741</th>\n",
       "      <td>2</td>\n",
       "    </tr>\n",
       "    <tr>\n",
       "      <th>3234906277</th>\n",
       "      <td>2</td>\n",
       "    </tr>\n",
       "    <tr>\n",
       "      <th>3656415546</th>\n",
       "      <td>2</td>\n",
       "    </tr>\n",
       "    <tr>\n",
       "      <th>3717692402</th>\n",
       "      <td>2</td>\n",
       "    </tr>\n",
       "    <tr>\n",
       "      <th>3766097110</th>\n",
       "      <td>2</td>\n",
       "    </tr>\n",
       "    <tr>\n",
       "      <th>3803269165</th>\n",
       "      <td>2</td>\n",
       "    </tr>\n",
       "    <tr>\n",
       "      <th>3891541246</th>\n",
       "      <td>2</td>\n",
       "    </tr>\n",
       "    <tr>\n",
       "      <th>3941795274</th>\n",
       "      <td>2</td>\n",
       "    </tr>\n",
       "    <tr>\n",
       "      <th>3951559397</th>\n",
       "      <td>2</td>\n",
       "    </tr>\n",
       "    <tr>\n",
       "      <th>3957174400</th>\n",
       "      <td>2</td>\n",
       "    </tr>\n",
       "    <tr>\n",
       "      <th>3963646447</th>\n",
       "      <td>2</td>\n",
       "    </tr>\n",
       "    <tr>\n",
       "      <th>3972127743</th>\n",
       "      <td>2</td>\n",
       "    </tr>\n",
       "    <tr>\n",
       "      <th>3984495233</th>\n",
       "      <td>2</td>\n",
       "    </tr>\n",
       "    <tr>\n",
       "      <th>4069496402</th>\n",
       "      <td>2</td>\n",
       "    </tr>\n",
       "    <tr>\n",
       "      <th>4120364173</th>\n",
       "      <td>2</td>\n",
       "    </tr>\n",
       "    <tr>\n",
       "      <th>4186807279</th>\n",
       "      <td>2</td>\n",
       "    </tr>\n",
       "    <tr>\n",
       "      <th>4256040402</th>\n",
       "      <td>2</td>\n",
       "    </tr>\n",
       "    <tr>\n",
       "      <th>4266935830</th>\n",
       "      <td>2</td>\n",
       "    </tr>\n",
       "  </tbody>\n",
       "</table>\n",
       "</div>"
      ],
      "text/plain": [
       "            group\n",
       "visitorId        \n",
       "8300375         2\n",
       "199603092       2\n",
       "232979603       2\n",
       "237748145       2\n",
       "276558944       2\n",
       "351125977       2\n",
       "393266494       2\n",
       "457167155       2\n",
       "471551937       2\n",
       "477780734       2\n",
       "818047933       2\n",
       "963407295       2\n",
       "1230306981      2\n",
       "1294878855      2\n",
       "1316129916      2\n",
       "1333886533      2\n",
       "1404934699      2\n",
       "1602967004      2\n",
       "1614305549      2\n",
       "1648269707      2\n",
       "1668030113      2\n",
       "1738359350      2\n",
       "1801183820      2\n",
       "1959144690      2\n",
       "2038680547      2\n",
       "2044997962      2\n",
       "2378935119      2\n",
       "2458001652      2\n",
       "2579882178      2\n",
       "2587333274      2\n",
       "2600415354      2\n",
       "2654030115      2\n",
       "2686716486      2\n",
       "2712142231      2\n",
       "2716752286      2\n",
       "2780786433      2\n",
       "2927087541      2\n",
       "2949041841      2\n",
       "2954449915      2\n",
       "3062433592      2\n",
       "3202540741      2\n",
       "3234906277      2\n",
       "3656415546      2\n",
       "3717692402      2\n",
       "3766097110      2\n",
       "3803269165      2\n",
       "3891541246      2\n",
       "3941795274      2\n",
       "3951559397      2\n",
       "3957174400      2\n",
       "3963646447      2\n",
       "3972127743      2\n",
       "3984495233      2\n",
       "4069496402      2\n",
       "4120364173      2\n",
       "4186807279      2\n",
       "4256040402      2\n",
       "4266935830      2"
      ]
     },
     "metadata": {},
     "output_type": "display_data"
    }
   ],
   "source": [
    "print(\"users those are in both group of A and B:\")\n",
    "display(both_groups)"
   ]
  },
  {
   "cell_type": "markdown",
   "metadata": {},
   "source": [
    "<a id='A/B Test Analysis'></a>"
   ]
  },
  {
   "cell_type": "markdown",
   "metadata": {},
   "source": [
    "## A/B Test Analysis"
   ]
  },
  {
   "cell_type": "markdown",
   "metadata": {},
   "source": [
    "In this section of the report I'm going to analyze the results of the A/B test that was carried out by mysef and the marketing team. Please see below for a table of contents of the steps for this section:"
   ]
  },
  {
   "cell_type": "markdown",
   "metadata": {},
   "source": [
    "<a href='#1 Graph cumulative revenue by group. Make conclusions and conjectures.'>1. Graph cumulative revenue by group. Make conclusions and conjectures.</a>\n",
    "\n",
    "<a href='#2 Graph cumulative average order size by group. Make conclusions and conjectures.'>2. Graph cumulative average order size by group. Make conclusions and conjectures.</a>\n",
    "\n",
    "<a href='#3 Graph the relative difference in cumulative average order size for group B compared with group A. Make conclusions and conjectures.'>3. Graph the relative difference in cumulative average order size for group B compared with group A. Make conclusions and conjectures.</a>\n",
    "\n",
    "<a href='#4 Calculate each groups conversion rate as the ratio of orders to the number of visits for each day. Plot the daily conversion rates of the two groups and describe the difference. Draw conclusions and make conjectures.'>4.Calculate each group's conversion rate as the ratio of orders to the number of visits for each day. Plot the daily conversion rates of the two groups and describe the difference. Draw conclusions and make conjectures.</a>\n",
    "\n",
    "<a href='#5 Plot a scatter chart of the number of orders per user. Make conclusions and conjectures.'>5. Plot a scatter chart of the number of orders per user. Make conclusions and conjectures.</a>\n",
    "\n",
    "<a href='#6 Calculate the 95th and 99th percentiles for the number of orders per user. Define the point at which a data point becomes an anomaly.'>6. Calculate the 95th and 99th percentiles for the number of orders per user. Define the point at which a data point becomes an anomaly.</a>\n",
    "\n",
    "<a href='#7 Plot a scatter chart of order prices. Make conclusions and conjectures.'>7. Plot a scatter chart of the number of orders per user. Make conclusions and conjectures.</a>\n",
    "\n",
    "<a href='#8 Calculate the 95th and 99th percentiles of order prices. Define the point at which a data point becomes an anomaly.'>8. Calculate the 95th and 99th percentiles of order prices. Define the point at which a data point becomes an anomaly.</a>\n",
    "\n",
    "<a href='#9 Find the statistical significance of the difference in conversion between the groups using the raw data. Make conclusions and conjectures.'>9. Find the statistical significance of the difference in conversion between the groups using the raw data. Make conclusions and conjectures.</a>\n",
    "\n",
    "<a href='#10 Find the statistical significance of the difference in average order size between the groups using the raw data. Make conclusions and conjectures.'>10. Find the statistical significance of the difference in average order size between the groups using the raw data. Make conclusions and conjectures.</a> \n",
    "\n",
    "<a href='#11 Find the statistical significance of the difference in conversion between the groups using the filtered data. Make conclusions and conjectures.'>11. Find the statistical significance of the difference in conversion between the groups using the filtered data. Make conclusions and conjectures.</a>\n",
    "\n",
    "<a href='#12 Find the statistical significance of the difference in average order size between the groups using the filtered data. Make conclusions and conjectures.'>12. Find the statistical significance of the difference in average order size between the groups using the filtered data. Make conclusions and conjectures.</a>\n",
    "\n",
    "<a href='#Make a decision based on the test results.'>13. Make a decision based on the test results. The possible decisions are: 1 Stop the test, consider one of the groups the leader. 2 Stop the test, conclude that there is no difference between the groups. 3 Continue the test.</a>"
   ]
  },
  {
   "cell_type": "markdown",
   "metadata": {},
   "source": [
    "<a id='1 Graph cumulative revenue by group. Make conclusions and conjectures.'></a>"
   ]
  },
  {
   "cell_type": "markdown",
   "metadata": {},
   "source": [
    "### Graph cumulative revenue by group. Make conclusions and conjectures"
   ]
  },
  {
   "cell_type": "code",
   "execution_count": 32,
   "metadata": {},
   "outputs": [
    {
     "name": "stdout",
     "output_type": "stream",
     "text": [
      "        date group  orders  buyers  revenue  visitors\n",
      "0 2019-08-01     A     719      24       20    2356.8\n",
      "1 2019-08-01     B     713      21       20    1620.0\n",
      "2 2019-08-02     A    1338      44       38    3860.3\n",
      "3 2019-08-02     B    1294      45       43    4243.8\n",
      "4 2019-08-03     A    1845      68       62    5675.5\n"
     ]
    }
   ],
   "source": [
    "# building an array with unique paired date-group values\n",
    "date_groups = df_visits[['date','group']].drop_duplicates()\n",
    "\n",
    "# getting aggregated cumulative daily data on orders \n",
    "visitsAggregated = date_groups.apply(lambda x: df_visits[np.logical_and(df_visits['date'] <= x['date'], df_visits['group'] == x['group'])].agg({'date' : 'max', 'group' : 'max', 'transactionId' : pd.Series.nunique, 'visitorId' : pd.Series.nunique, 'revenue' : 'sum'}), axis=1).sort_values(by=['date','group'])\n",
    "\n",
    "# getting aggregated cumulative daily data on visitors  \n",
    "ordersAggregated = date_groups.apply(lambda x: df_orders[np.logical_and(df_orders['date'] <= x['date'], df_orders['group'] == x['group'])].agg({'date' : 'max', 'group' : 'max', 'visits' : 'sum'}), axis=1).sort_values(by=['date','group'])\n",
    "\n",
    "# merging the two tables into one and giving its columns descriptive names\n",
    "cumulativeData = ordersAggregated.merge(visitsAggregated, left_on=['date', 'group'], right_on=['date', 'group'])\n",
    "cumulativeData.columns = ['date', 'group', 'orders', 'buyers', 'revenue', 'visitors']\n",
    "\n",
    "print(cumulativeData.head(5))"
   ]
  },
  {
   "cell_type": "code",
   "execution_count": 33,
   "metadata": {},
   "outputs": [
    {
     "data": {
      "text/plain": [
       "(62, 6)"
      ]
     },
     "execution_count": 33,
     "metadata": {},
     "output_type": "execute_result"
    }
   ],
   "source": [
    "cumulativeData.shape"
   ]
  },
  {
   "cell_type": "code",
   "execution_count": 34,
   "metadata": {},
   "outputs": [],
   "source": [
    "import sys\n",
    "import warnings\n",
    "if not sys.warnoptions:\n",
    "       warnings.simplefilter(\"ignore\")"
   ]
  },
  {
   "cell_type": "code",
   "execution_count": 35,
   "metadata": {},
   "outputs": [
    {
     "data": {
      "image/png": "[encoded data removed]",
      "text/plain": [
       "<Figure size 864x576 with 1 Axes>"
      ]
     },
     "metadata": {
      "needs_background": "light"
     },
     "output_type": "display_data"
    }
   ],
   "source": [
    "#Now finding cumulative revenue by group \n",
    "fig, ax = plt.subplots()\n",
    "cumulativeRevenueA = cumulativeData[cumulativeData['group']=='A'][['date','revenue', 'orders']]\n",
    "\n",
    "cumulativeRevenueB = cumulativeData[cumulativeData['group']=='B'][['date','revenue', 'orders']]\n",
    "\n",
    "plt.plot(cumulativeRevenueA['date'], cumulativeRevenueA['revenue'], label='A');\n",
    "\n",
    "plt.plot(cumulativeRevenueB['date'], cumulativeRevenueB['revenue'], label='B');\n",
    "\n",
    "plt.title('Cumulative Revenue by Group');\n",
    "plt.xlabel('Date');\n",
    "plt.ylabel('Revenue');\n",
    "plt.xticks(rotation=30, ha='right');\n",
    "fig.set_figheight(8);\n",
    "fig.set_figwidth(12);\n",
    "plt.legend();"
   ]
  },
  {
   "cell_type": "markdown",
   "metadata": {},
   "source": [
    "In terms of cumulative revenue, group B took the lead early and held it consistently. Both groups have a consistent positive trajectory, however it should be noted the group A appears to taper off at the end whereas group B contiues to rise. After August 5th Group B maintains a clear lead in cumulative revenue. It should also be noted that there is a spike at the 17th-18th of August where Group B takes a stronger lead. So to start group B has a clear advantage."
   ]
  },
  {
   "cell_type": "markdown",
   "metadata": {},
   "source": [
    "<a id='2 Graph cumulative average order size by group. Make conclusions and conjectures.'></a>"
   ]
  },
  {
   "cell_type": "markdown",
   "metadata": {},
   "source": [
    "### Graph cumulative average order size by group. Make conclusions and conjectures."
   ]
  },
  {
   "cell_type": "code",
   "execution_count": 36,
   "metadata": {},
   "outputs": [
    {
     "data": {
      "image/png": "[encoded data removed]",
      "text/plain": [
       "<Figure size 864x576 with 1 Axes>"
      ]
     },
     "metadata": {
      "needs_background": "light"
     },
     "output_type": "display_data"
    }
   ],
   "source": [
    "fig, ax = plt.subplots()\n",
    "plt.plot(cumulativeRevenueA['date'], cumulativeRevenueA['revenue']/cumulativeRevenueA['orders'], label='A');\n",
    "plt.plot(cumulativeRevenueB['date'], cumulativeRevenueB['revenue']/cumulativeRevenueB['orders'], label='B');\n",
    "plt.title('Cumulative Average Order Size by Group');\n",
    "plt.xlabel('Date');\n",
    "plt.ylabel('Average Order Size');\n",
    "plt.xticks(rotation=30, ha='right');\n",
    "fig.set_figheight(8);\n",
    "fig.set_figwidth(12);\n",
    "plt.legend();"
   ]
  },
  {
   "cell_type": "markdown",
   "metadata": {},
   "source": [
    "Group B also has a clear advantage in order size, initially in the first months their variation is close, but as time progresses group B again takes a clear lead. "
   ]
  },
  {
   "cell_type": "markdown",
   "metadata": {},
   "source": [
    "<a id='3 Graph the relative difference in cumulative average order size for group B compared with group A. Make conclusions and conjectures.'></a>"
   ]
  },
  {
   "cell_type": "markdown",
   "metadata": {},
   "source": [
    "### Graph the relative difference in cumulative average order size for group B compared with group A. Make conclusions and conjectures."
   ]
  },
  {
   "cell_type": "code",
   "execution_count": 37,
   "metadata": {},
   "outputs": [
    {
     "data": {
      "image/png": "[encoded data removed]",
      "text/plain": [
       "<Figure size 864x576 with 1 Axes>"
      ]
     },
     "metadata": {
      "needs_background": "light"
     },
     "output_type": "display_data"
    }
   ],
   "source": [
    "mergedCumulativeRevenue = cumulativeRevenueA.merge(cumulativeRevenueB, left_on='date', right_on='date', how='left', suffixes=['A', 'B'])\n",
    "\n",
    "fig, ax = plt.subplots()\n",
    "\n",
    "plt.plot(mergedCumulativeRevenue['date'], (mergedCumulativeRevenue['revenueB']/mergedCumulativeRevenue['ordersB'])/(mergedCumulativeRevenue['revenueA']/mergedCumulativeRevenue['ordersA'])-1);\n",
    "plt.title('Cumulative Average Order Size for Group B compared with Group A');\n",
    "plt.xlabel('Date');\n",
    "plt.ylabel('Order Size');\n",
    "plt.axhline(y=0, color='black', linestyle='--');\n",
    "plt.xticks(rotation=30, ha='right');\n",
    "fig.set_figheight(8);\n",
    "fig.set_figwidth(12);\n",
    "plt.show();"
   ]
  },
  {
   "cell_type": "markdown",
   "metadata": {},
   "source": [
    "Again this graph confirms that although the variation was close intitially, Group B takes a clear lead in order sizes as time progresses. "
   ]
  },
  {
   "cell_type": "markdown",
   "metadata": {},
   "source": [
    "<a id='4 Calculate each groups conversion rate as the ratio of orders to the number of visits for each day. Plot the daily conversion rates of the two groups and describe the difference. Draw conclusions and make conjectures.'></a>"
   ]
  },
  {
   "cell_type": "markdown",
   "metadata": {},
   "source": [
    "### Calculate each group's conversion rate as the ratio of orders to the number of visits for each day. Plot the daily conversion rates of the two groups and describe the difference. Draw conclusions and make conjectures."
   ]
  },
  {
   "cell_type": "code",
   "execution_count": 38,
   "metadata": {},
   "outputs": [
    {
     "data": {
      "image/png": "[encoded data removed]",
      "text/plain": [
       "<Figure size 864x576 with 1 Axes>"
      ]
     },
     "metadata": {
      "needs_background": "light"
     },
     "output_type": "display_data"
    }
   ],
   "source": [
    "cumulativeData['conversion_rate'] = cumulativeData['orders']/cumulativeData['visitors']\n",
    "\n",
    "cumulativeDataA = cumulativeData[cumulativeData['group']=='A']\n",
    "\n",
    "cumulativeDataB = cumulativeData[cumulativeData['group']=='B']\n",
    "\n",
    "fig, ax = plt.subplots()\n",
    "\n",
    "plt.plot(cumulativeDataA['date'], cumulativeDataA['conversion_rate'], label='A');\n",
    "plt.plot(cumulativeDataB['date'], cumulativeDataB['conversion_rate'], label='B');\n",
    "plt.title('Conversion Rate by Group');\n",
    "plt.xlabel('Date');\n",
    "plt.ylabel('Conversion Rate');\n",
    "plt.xticks(rotation=30, ha='right');\n",
    "fig.set_figheight(8);\n",
    "fig.set_figwidth(12);\n",
    "plt.legend();"
   ]
  },
  {
   "cell_type": "markdown",
   "metadata": {},
   "source": [
    "Interestingly enough, Group A takes the lead here in terms off conversion rate as the ratio of orders to the number of visitors for each day. Despite Group B having a better cumulative average order size and revenue, Group A appears to be more profitable in terms of turning site visitors into buyers overall. I would suggest that this may mean that there are significant outliers in Group B which are scewing the results. Before making conclusions about the conversion rate, I think it would be smart to wait until the statistical tests have been done. It is concerning that the cummualtive revenue chart differs so drastically from the conversion rate chart. "
   ]
  },
  {
   "cell_type": "markdown",
   "metadata": {},
   "source": [
    "<a id='5 Plot a scatter chart of the number of orders per user. Make conclusions and conjectures.'></a>"
   ]
  },
  {
   "cell_type": "markdown",
   "metadata": {},
   "source": [
    "### Plot a scatter chart of the number of orders per user. Make conclusions and conjectures."
   ]
  },
  {
   "cell_type": "code",
   "execution_count": 39,
   "metadata": {},
   "outputs": [
    {
     "data": {
      "text/html": [
       "<div>\n",
       "<style scoped>\n",
       "    .dataframe tbody tr th:only-of-type {\n",
       "        vertical-align: middle;\n",
       "    }\n",
       "\n",
       "    .dataframe tbody tr th {\n",
       "        vertical-align: top;\n",
       "    }\n",
       "\n",
       "    .dataframe thead th {\n",
       "        text-align: right;\n",
       "    }\n",
       "</style>\n",
       "<table border=\"1\" class=\"dataframe\">\n",
       "  <thead>\n",
       "    <tr style=\"text-align: right;\">\n",
       "      <th></th>\n",
       "      <th>transactionId</th>\n",
       "      <th>visitorId</th>\n",
       "      <th>date</th>\n",
       "      <th>revenue</th>\n",
       "      <th>group</th>\n",
       "    </tr>\n",
       "  </thead>\n",
       "  <tbody>\n",
       "    <tr>\n",
       "      <th>0</th>\n",
       "      <td>3667963787</td>\n",
       "      <td>3312258926</td>\n",
       "      <td>2019-08-15</td>\n",
       "      <td>30.4</td>\n",
       "      <td>B</td>\n",
       "    </tr>\n",
       "    <tr>\n",
       "      <th>1</th>\n",
       "      <td>2804400009</td>\n",
       "      <td>3642806036</td>\n",
       "      <td>2019-08-15</td>\n",
       "      <td>15.2</td>\n",
       "      <td>B</td>\n",
       "    </tr>\n",
       "    <tr>\n",
       "      <th>2</th>\n",
       "      <td>2961555356</td>\n",
       "      <td>4069496402</td>\n",
       "      <td>2019-08-15</td>\n",
       "      <td>10.2</td>\n",
       "      <td>A</td>\n",
       "    </tr>\n",
       "    <tr>\n",
       "      <th>3</th>\n",
       "      <td>3797467345</td>\n",
       "      <td>1196621759</td>\n",
       "      <td>2019-08-15</td>\n",
       "      <td>155.1</td>\n",
       "      <td>B</td>\n",
       "    </tr>\n",
       "    <tr>\n",
       "      <th>4</th>\n",
       "      <td>2282983706</td>\n",
       "      <td>2322279887</td>\n",
       "      <td>2019-08-15</td>\n",
       "      <td>40.5</td>\n",
       "      <td>B</td>\n",
       "    </tr>\n",
       "  </tbody>\n",
       "</table>\n",
       "</div>"
      ],
      "text/plain": [
       "   transactionId   visitorId       date  revenue group\n",
       "0     3667963787  3312258926 2019-08-15     30.4     B\n",
       "1     2804400009  3642806036 2019-08-15     15.2     B\n",
       "2     2961555356  4069496402 2019-08-15     10.2     A\n",
       "3     3797467345  1196621759 2019-08-15    155.1     B\n",
       "4     2282983706  2322279887 2019-08-15     40.5     B"
      ]
     },
     "execution_count": 39,
     "metadata": {},
     "output_type": "execute_result"
    }
   ],
   "source": [
    "df_visits.head()"
   ]
  },
  {
   "cell_type": "code",
   "execution_count": 40,
   "metadata": {},
   "outputs": [
    {
     "name": "stdout",
     "output_type": "stream",
     "text": [
      "       visitorId  orders\n",
      "1023  4256040402      11\n",
      "591   2458001652      11\n",
      "569   2378935119       9\n",
      "487   2038680547       8\n",
      "44     199603092       5\n",
      "744   3062433592       5\n",
      "55     237748145       5\n",
      "917   3803269165       5\n",
      "299   1230306981       5\n",
      "897   3717692402       5\n"
     ]
    },
    {
     "data": {
      "image/png": "[encoded data removed]",
      "text/plain": [
       "<Figure size 432x288 with 1 Axes>"
      ]
     },
     "metadata": {
      "needs_background": "light"
     },
     "output_type": "display_data"
    }
   ],
   "source": [
    "ordersByUsers = (\n",
    "    df_visits.drop(['group', 'revenue', 'date'], axis=1)\n",
    "    .groupby('visitorId', as_index=False)\n",
    "    .agg({'transactionId': pd.Series.nunique})\n",
    ")\n",
    "ordersByUsers.columns = ['visitorId', 'orders']\n",
    "\n",
    "print(ordersByUsers.sort_values(by='orders', ascending=False).head(10))\n",
    "\n",
    "# the range of numbers from 0 to the number of observations in ordersByUsers\n",
    "x_values = pd.Series(range(0,len(ordersByUsers)))\n",
    "\n",
    "plt.scatter(x_values, ordersByUsers['orders']);\n",
    "plt.title('Scatter Plot of Orders per Visitor');\n",
    "plt.ylabel('Number of Orders')\n",
    "plt.xlabel('Visitors')\n",
    "plt.show()"
   ]
  },
  {
   "cell_type": "markdown",
   "metadata": {},
   "source": [
    "In terms of the raw data, it is now apparent that there are significant outliers. It appears that the vast majority of the visitors had 2 orders or under, whereas a few made 8 to 11 orders. This changes the data significantly, it will be interesting to see the difference in the raw data vs the filtered data. These outliers could be the reason for the scew that I mentioned in the previous section."
   ]
  },
  {
   "cell_type": "markdown",
   "metadata": {},
   "source": [
    "<a id='6 Calculate the 95th and 99th percentiles for the number of orders per user. Define the point at which a data point becomes an anomaly.'></a>"
   ]
  },
  {
   "cell_type": "markdown",
   "metadata": {},
   "source": [
    "### Calculate the 95th and 99th percentiles for the number of orders per user. Define the point at which a data point becomes an anomaly."
   ]
  },
  {
   "cell_type": "code",
   "execution_count": 41,
   "metadata": {},
   "outputs": [
    {
     "data": {
      "text/html": [
       "<div>\n",
       "<style scoped>\n",
       "    .dataframe tbody tr th:only-of-type {\n",
       "        vertical-align: middle;\n",
       "    }\n",
       "\n",
       "    .dataframe tbody tr th {\n",
       "        vertical-align: top;\n",
       "    }\n",
       "\n",
       "    .dataframe thead th {\n",
       "        text-align: right;\n",
       "    }\n",
       "</style>\n",
       "<table border=\"1\" class=\"dataframe\">\n",
       "  <thead>\n",
       "    <tr style=\"text-align: right;\">\n",
       "      <th></th>\n",
       "      <th>visitorId</th>\n",
       "      <th>orders</th>\n",
       "    </tr>\n",
       "  </thead>\n",
       "  <tbody>\n",
       "    <tr>\n",
       "      <th>1023</th>\n",
       "      <td>4256040402</td>\n",
       "      <td>11</td>\n",
       "    </tr>\n",
       "    <tr>\n",
       "      <th>591</th>\n",
       "      <td>2458001652</td>\n",
       "      <td>11</td>\n",
       "    </tr>\n",
       "    <tr>\n",
       "      <th>569</th>\n",
       "      <td>2378935119</td>\n",
       "      <td>9</td>\n",
       "    </tr>\n",
       "    <tr>\n",
       "      <th>487</th>\n",
       "      <td>2038680547</td>\n",
       "      <td>8</td>\n",
       "    </tr>\n",
       "    <tr>\n",
       "      <th>44</th>\n",
       "      <td>199603092</td>\n",
       "      <td>5</td>\n",
       "    </tr>\n",
       "    <tr>\n",
       "      <th>744</th>\n",
       "      <td>3062433592</td>\n",
       "      <td>5</td>\n",
       "    </tr>\n",
       "    <tr>\n",
       "      <th>55</th>\n",
       "      <td>237748145</td>\n",
       "      <td>5</td>\n",
       "    </tr>\n",
       "    <tr>\n",
       "      <th>917</th>\n",
       "      <td>3803269165</td>\n",
       "      <td>5</td>\n",
       "    </tr>\n",
       "    <tr>\n",
       "      <th>299</th>\n",
       "      <td>1230306981</td>\n",
       "      <td>5</td>\n",
       "    </tr>\n",
       "    <tr>\n",
       "      <th>897</th>\n",
       "      <td>3717692402</td>\n",
       "      <td>5</td>\n",
       "    </tr>\n",
       "    <tr>\n",
       "      <th>393</th>\n",
       "      <td>1614305549</td>\n",
       "      <td>4</td>\n",
       "    </tr>\n",
       "    <tr>\n",
       "      <th>114</th>\n",
       "      <td>457167155</td>\n",
       "      <td>4</td>\n",
       "    </tr>\n",
       "    <tr>\n",
       "      <th>619</th>\n",
       "      <td>2587333274</td>\n",
       "      <td>4</td>\n",
       "    </tr>\n",
       "    <tr>\n",
       "      <th>340</th>\n",
       "      <td>1404934699</td>\n",
       "      <td>3</td>\n",
       "    </tr>\n",
       "    <tr>\n",
       "      <th>937</th>\n",
       "      <td>3908431265</td>\n",
       "      <td>3</td>\n",
       "    </tr>\n",
       "    <tr>\n",
       "      <th>726</th>\n",
       "      <td>2988190573</td>\n",
       "      <td>3</td>\n",
       "    </tr>\n",
       "    <tr>\n",
       "      <th>97</th>\n",
       "      <td>393266494</td>\n",
       "      <td>3</td>\n",
       "    </tr>\n",
       "    <tr>\n",
       "      <th>491</th>\n",
       "      <td>2044997962</td>\n",
       "      <td>3</td>\n",
       "    </tr>\n",
       "    <tr>\n",
       "      <th>677</th>\n",
       "      <td>2780786433</td>\n",
       "      <td>3</td>\n",
       "    </tr>\n",
       "    <tr>\n",
       "      <th>932</th>\n",
       "      <td>3891541246</td>\n",
       "      <td>3</td>\n",
       "    </tr>\n",
       "  </tbody>\n",
       "</table>\n",
       "</div>"
      ],
      "text/plain": [
       "       visitorId  orders\n",
       "1023  4256040402      11\n",
       "591   2458001652      11\n",
       "569   2378935119       9\n",
       "487   2038680547       8\n",
       "44     199603092       5\n",
       "744   3062433592       5\n",
       "55     237748145       5\n",
       "917   3803269165       5\n",
       "299   1230306981       5\n",
       "897   3717692402       5\n",
       "393   1614305549       4\n",
       "114    457167155       4\n",
       "619   2587333274       4\n",
       "340   1404934699       3\n",
       "937   3908431265       3\n",
       "726   2988190573       3\n",
       "97     393266494       3\n",
       "491   2044997962       3\n",
       "677   2780786433       3\n",
       "932   3891541246       3"
      ]
     },
     "execution_count": 41,
     "metadata": {},
     "output_type": "execute_result"
    }
   ],
   "source": [
    "ordersByUsers.sort_values(by='orders', ascending=False).head(20)"
   ]
  },
  {
   "cell_type": "code",
   "execution_count": 42,
   "metadata": {},
   "outputs": [
    {
     "name": "stdout",
     "output_type": "stream",
     "text": [
      "The 90th, 95th and 99th percentiles are: [1. 2. 4.]\n"
     ]
    }
   ],
   "source": [
    "ordersByUsers_percentiles = np.percentile(ordersByUsers['orders'], [90, 95, 99])\n",
    "print(\"The 90th, 95th and 99th percentiles are:\", ordersByUsers_percentiles)"
   ]
  },
  {
   "cell_type": "markdown",
   "metadata": {},
   "source": [
    "Indeed, my suspisions in the last section were correct, the lowest 90 percent of users only have 1 order, the 95th and 2 and the 99th have 4. Anything over 4 can now be considered an outlier and should be noted in further anaylsis. There are 6 users with 5 orders, one with 8 and 2 with 11 orders."
   ]
  },
  {
   "cell_type": "markdown",
   "metadata": {},
   "source": [
    "<a id='7 Plot a scatter chart of order prices. Make conclusions and conjectures.'></a>"
   ]
  },
  {
   "cell_type": "markdown",
   "metadata": {},
   "source": [
    "### Plot a scatter chart of order prices. Make conclusions and conjectures."
   ]
  },
  {
   "cell_type": "code",
   "execution_count": 43,
   "metadata": {},
   "outputs": [
    {
     "data": {
      "text/html": [
       "<div>\n",
       "<style scoped>\n",
       "    .dataframe tbody tr th:only-of-type {\n",
       "        vertical-align: middle;\n",
       "    }\n",
       "\n",
       "    .dataframe tbody tr th {\n",
       "        vertical-align: top;\n",
       "    }\n",
       "\n",
       "    .dataframe thead th {\n",
       "        text-align: right;\n",
       "    }\n",
       "</style>\n",
       "<table border=\"1\" class=\"dataframe\">\n",
       "  <thead>\n",
       "    <tr style=\"text-align: right;\">\n",
       "      <th></th>\n",
       "      <th>transactionId</th>\n",
       "      <th>visitorId</th>\n",
       "      <th>date</th>\n",
       "      <th>revenue</th>\n",
       "      <th>group</th>\n",
       "    </tr>\n",
       "  </thead>\n",
       "  <tbody>\n",
       "    <tr>\n",
       "      <th>425</th>\n",
       "      <td>590470918</td>\n",
       "      <td>1920142716</td>\n",
       "      <td>2019-08-19</td>\n",
       "      <td>19920.4</td>\n",
       "      <td>B</td>\n",
       "    </tr>\n",
       "    <tr>\n",
       "      <th>1196</th>\n",
       "      <td>3936777065</td>\n",
       "      <td>2108080724</td>\n",
       "      <td>2019-08-15</td>\n",
       "      <td>3120.1</td>\n",
       "      <td>B</td>\n",
       "    </tr>\n",
       "    <tr>\n",
       "      <th>858</th>\n",
       "      <td>192721366</td>\n",
       "      <td>1316129916</td>\n",
       "      <td>2019-08-27</td>\n",
       "      <td>1450.2</td>\n",
       "      <td>A</td>\n",
       "    </tr>\n",
       "    <tr>\n",
       "      <th>1136</th>\n",
       "      <td>666610489</td>\n",
       "      <td>1307669133</td>\n",
       "      <td>2019-08-13</td>\n",
       "      <td>1425.8</td>\n",
       "      <td>A</td>\n",
       "    </tr>\n",
       "    <tr>\n",
       "      <th>744</th>\n",
       "      <td>3668308183</td>\n",
       "      <td>888512513</td>\n",
       "      <td>2019-08-27</td>\n",
       "      <td>1335.6</td>\n",
       "      <td>B</td>\n",
       "    </tr>\n",
       "    <tr>\n",
       "      <th>662</th>\n",
       "      <td>1811671147</td>\n",
       "      <td>4266935830</td>\n",
       "      <td>2019-08-29</td>\n",
       "      <td>1220.2</td>\n",
       "      <td>A</td>\n",
       "    </tr>\n",
       "    <tr>\n",
       "      <th>682</th>\n",
       "      <td>1216533772</td>\n",
       "      <td>4266935830</td>\n",
       "      <td>2019-08-29</td>\n",
       "      <td>1220.2</td>\n",
       "      <td>B</td>\n",
       "    </tr>\n",
       "    <tr>\n",
       "      <th>743</th>\n",
       "      <td>3603576309</td>\n",
       "      <td>4133034833</td>\n",
       "      <td>2019-08-09</td>\n",
       "      <td>1050.0</td>\n",
       "      <td>A</td>\n",
       "    </tr>\n",
       "    <tr>\n",
       "      <th>1103</th>\n",
       "      <td>1348774318</td>\n",
       "      <td>1164614297</td>\n",
       "      <td>2019-08-12</td>\n",
       "      <td>1025.8</td>\n",
       "      <td>A</td>\n",
       "    </tr>\n",
       "    <tr>\n",
       "      <th>1099</th>\n",
       "      <td>316924019</td>\n",
       "      <td>148427295</td>\n",
       "      <td>2019-08-12</td>\n",
       "      <td>1015.9</td>\n",
       "      <td>A</td>\n",
       "    </tr>\n",
       "  </tbody>\n",
       "</table>\n",
       "</div>"
      ],
      "text/plain": [
       "      transactionId   visitorId       date  revenue group\n",
       "425       590470918  1920142716 2019-08-19  19920.4     B\n",
       "1196     3936777065  2108080724 2019-08-15   3120.1     B\n",
       "858       192721366  1316129916 2019-08-27   1450.2     A\n",
       "1136      666610489  1307669133 2019-08-13   1425.8     A\n",
       "744      3668308183   888512513 2019-08-27   1335.6     B\n",
       "662      1811671147  4266935830 2019-08-29   1220.2     A\n",
       "682      1216533772  4266935830 2019-08-29   1220.2     B\n",
       "743      3603576309  4133034833 2019-08-09   1050.0     A\n",
       "1103     1348774318  1164614297 2019-08-12   1025.8     A\n",
       "1099      316924019   148427295 2019-08-12   1015.9     A"
      ]
     },
     "execution_count": 43,
     "metadata": {},
     "output_type": "execute_result"
    }
   ],
   "source": [
    "df_visits.sort_values(by='revenue',ascending=False).head(10)"
   ]
  },
  {
   "cell_type": "code",
   "execution_count": 44,
   "metadata": {},
   "outputs": [
    {
     "data": {
      "image/png": "[encoded data removed]",
      "text/plain": [
       "<Figure size 432x288 with 1 Axes>"
      ]
     },
     "metadata": {
      "needs_background": "light"
     },
     "output_type": "display_data"
    }
   ],
   "source": [
    "x_values = pd.Series(range(0,len(df_visits['revenue'])))\n",
    "\n",
    "plt.scatter(x_values, df_visits['revenue'])\n",
    "plt.xlabel('Number of Users')\n",
    "plt.ylabel('Order Price')\n",
    "plt.title('Order Price by Number of Users')\n",
    "plt.show()"
   ]
  },
  {
   "cell_type": "markdown",
   "metadata": {},
   "source": [
    "There are significant outliers in order price as well, with one order being nearly 20,000 dollars. Considering that there is only one sigificant outlier, that is a good sign. After filtering the results should be more accurate."
   ]
  },
  {
   "cell_type": "markdown",
   "metadata": {},
   "source": [
    "<a id='8 Calculate the 95th and 99th percentiles of order prices. Define the point at which a data point becomes an anomaly.'></a>"
   ]
  },
  {
   "cell_type": "markdown",
   "metadata": {},
   "source": [
    "### Calculate the 95th and 99th percentiles of order prices. Define the point at which a data point becomes an anomaly."
   ]
  },
  {
   "cell_type": "code",
   "execution_count": 45,
   "metadata": {},
   "outputs": [
    {
     "data": {
      "text/html": [
       "<div>\n",
       "<style scoped>\n",
       "    .dataframe tbody tr th:only-of-type {\n",
       "        vertical-align: middle;\n",
       "    }\n",
       "\n",
       "    .dataframe tbody tr th {\n",
       "        vertical-align: top;\n",
       "    }\n",
       "\n",
       "    .dataframe thead th {\n",
       "        text-align: right;\n",
       "    }\n",
       "</style>\n",
       "<table border=\"1\" class=\"dataframe\">\n",
       "  <thead>\n",
       "    <tr style=\"text-align: right;\">\n",
       "      <th></th>\n",
       "      <th>transactionId</th>\n",
       "      <th>visitorId</th>\n",
       "      <th>date</th>\n",
       "      <th>revenue</th>\n",
       "      <th>group</th>\n",
       "    </tr>\n",
       "  </thead>\n",
       "  <tbody>\n",
       "    <tr>\n",
       "      <th>425</th>\n",
       "      <td>590470918</td>\n",
       "      <td>1920142716</td>\n",
       "      <td>2019-08-19</td>\n",
       "      <td>19920.4</td>\n",
       "      <td>B</td>\n",
       "    </tr>\n",
       "    <tr>\n",
       "      <th>1196</th>\n",
       "      <td>3936777065</td>\n",
       "      <td>2108080724</td>\n",
       "      <td>2019-08-15</td>\n",
       "      <td>3120.1</td>\n",
       "      <td>B</td>\n",
       "    </tr>\n",
       "    <tr>\n",
       "      <th>858</th>\n",
       "      <td>192721366</td>\n",
       "      <td>1316129916</td>\n",
       "      <td>2019-08-27</td>\n",
       "      <td>1450.2</td>\n",
       "      <td>A</td>\n",
       "    </tr>\n",
       "    <tr>\n",
       "      <th>1136</th>\n",
       "      <td>666610489</td>\n",
       "      <td>1307669133</td>\n",
       "      <td>2019-08-13</td>\n",
       "      <td>1425.8</td>\n",
       "      <td>A</td>\n",
       "    </tr>\n",
       "    <tr>\n",
       "      <th>744</th>\n",
       "      <td>3668308183</td>\n",
       "      <td>888512513</td>\n",
       "      <td>2019-08-27</td>\n",
       "      <td>1335.6</td>\n",
       "      <td>B</td>\n",
       "    </tr>\n",
       "    <tr>\n",
       "      <th>662</th>\n",
       "      <td>1811671147</td>\n",
       "      <td>4266935830</td>\n",
       "      <td>2019-08-29</td>\n",
       "      <td>1220.2</td>\n",
       "      <td>A</td>\n",
       "    </tr>\n",
       "    <tr>\n",
       "      <th>682</th>\n",
       "      <td>1216533772</td>\n",
       "      <td>4266935830</td>\n",
       "      <td>2019-08-29</td>\n",
       "      <td>1220.2</td>\n",
       "      <td>B</td>\n",
       "    </tr>\n",
       "    <tr>\n",
       "      <th>743</th>\n",
       "      <td>3603576309</td>\n",
       "      <td>4133034833</td>\n",
       "      <td>2019-08-09</td>\n",
       "      <td>1050.0</td>\n",
       "      <td>A</td>\n",
       "    </tr>\n",
       "    <tr>\n",
       "      <th>1103</th>\n",
       "      <td>1348774318</td>\n",
       "      <td>1164614297</td>\n",
       "      <td>2019-08-12</td>\n",
       "      <td>1025.8</td>\n",
       "      <td>A</td>\n",
       "    </tr>\n",
       "    <tr>\n",
       "      <th>1099</th>\n",
       "      <td>316924019</td>\n",
       "      <td>148427295</td>\n",
       "      <td>2019-08-12</td>\n",
       "      <td>1015.9</td>\n",
       "      <td>A</td>\n",
       "    </tr>\n",
       "    <tr>\n",
       "      <th>949</th>\n",
       "      <td>1347999392</td>\n",
       "      <td>887908475</td>\n",
       "      <td>2019-08-21</td>\n",
       "      <td>930.0</td>\n",
       "      <td>A</td>\n",
       "    </tr>\n",
       "    <tr>\n",
       "      <th>940</th>\n",
       "      <td>2420050534</td>\n",
       "      <td>4003628586</td>\n",
       "      <td>2019-08-08</td>\n",
       "      <td>905.8</td>\n",
       "      <td>B</td>\n",
       "    </tr>\n",
       "    <tr>\n",
       "      <th>873</th>\n",
       "      <td>2519737434</td>\n",
       "      <td>4256040402</td>\n",
       "      <td>2019-08-08</td>\n",
       "      <td>900.7</td>\n",
       "      <td>B</td>\n",
       "    </tr>\n",
       "    <tr>\n",
       "      <th>1029</th>\n",
       "      <td>469609643</td>\n",
       "      <td>2378935119</td>\n",
       "      <td>2019-08-10</td>\n",
       "      <td>900.7</td>\n",
       "      <td>A</td>\n",
       "    </tr>\n",
       "    <tr>\n",
       "      <th>60</th>\n",
       "      <td>1421016313</td>\n",
       "      <td>4256040402</td>\n",
       "      <td>2019-08-16</td>\n",
       "      <td>875.5</td>\n",
       "      <td>B</td>\n",
       "    </tr>\n",
       "    <tr>\n",
       "      <th>131</th>\n",
       "      <td>3163614039</td>\n",
       "      <td>2254586615</td>\n",
       "      <td>2019-08-22</td>\n",
       "      <td>830.3</td>\n",
       "      <td>A</td>\n",
       "    </tr>\n",
       "    <tr>\n",
       "      <th>287</th>\n",
       "      <td>587872075</td>\n",
       "      <td>2254456485</td>\n",
       "      <td>2019-08-24</td>\n",
       "      <td>830.3</td>\n",
       "      <td>A</td>\n",
       "    </tr>\n",
       "    <tr>\n",
       "      <th>613</th>\n",
       "      <td>4071177889</td>\n",
       "      <td>3931967268</td>\n",
       "      <td>2019-08-07</td>\n",
       "      <td>830.3</td>\n",
       "      <td>B</td>\n",
       "    </tr>\n",
       "    <tr>\n",
       "      <th>1142</th>\n",
       "      <td>3815014015</td>\n",
       "      <td>2606908679</td>\n",
       "      <td>2019-08-13</td>\n",
       "      <td>815.8</td>\n",
       "      <td>B</td>\n",
       "    </tr>\n",
       "    <tr>\n",
       "      <th>1006</th>\n",
       "      <td>1861540412</td>\n",
       "      <td>2261934787</td>\n",
       "      <td>2019-08-10</td>\n",
       "      <td>815.8</td>\n",
       "      <td>A</td>\n",
       "    </tr>\n",
       "  </tbody>\n",
       "</table>\n",
       "</div>"
      ],
      "text/plain": [
       "      transactionId   visitorId       date  revenue group\n",
       "425       590470918  1920142716 2019-08-19  19920.4     B\n",
       "1196     3936777065  2108080724 2019-08-15   3120.1     B\n",
       "858       192721366  1316129916 2019-08-27   1450.2     A\n",
       "1136      666610489  1307669133 2019-08-13   1425.8     A\n",
       "744      3668308183   888512513 2019-08-27   1335.6     B\n",
       "662      1811671147  4266935830 2019-08-29   1220.2     A\n",
       "682      1216533772  4266935830 2019-08-29   1220.2     B\n",
       "743      3603576309  4133034833 2019-08-09   1050.0     A\n",
       "1103     1348774318  1164614297 2019-08-12   1025.8     A\n",
       "1099      316924019   148427295 2019-08-12   1015.9     A\n",
       "949      1347999392   887908475 2019-08-21    930.0     A\n",
       "940      2420050534  4003628586 2019-08-08    905.8     B\n",
       "873      2519737434  4256040402 2019-08-08    900.7     B\n",
       "1029      469609643  2378935119 2019-08-10    900.7     A\n",
       "60       1421016313  4256040402 2019-08-16    875.5     B\n",
       "131      3163614039  2254586615 2019-08-22    830.3     A\n",
       "287       587872075  2254456485 2019-08-24    830.3     A\n",
       "613      4071177889  3931967268 2019-08-07    830.3     B\n",
       "1142     3815014015  2606908679 2019-08-13    815.8     B\n",
       "1006     1861540412  2261934787 2019-08-10    815.8     A"
      ]
     },
     "execution_count": 45,
     "metadata": {},
     "output_type": "execute_result"
    }
   ],
   "source": [
    "df_visits.sort_values(by='revenue',ascending=False).head(20)"
   ]
  },
  {
   "cell_type": "code",
   "execution_count": 46,
   "metadata": {},
   "outputs": [
    {
     "name": "stdout",
     "output_type": "stream",
     "text": [
      "The 90th, 95th and 99th percentiles of order prices per user are: [282.48  435.54  900.904]\n"
     ]
    }
   ],
   "source": [
    "prices_percentiles = np.percentile(df_visits['revenue'], [90,95,99])\n",
    "print(\"The 90th, 95th and 99th percentiles of order prices per user are:\", prices_percentiles)"
   ]
  },
  {
   "cell_type": "markdown",
   "metadata": {},
   "source": [
    "Any users with over 900 in orders revenue will be considered outliers moving forward."
   ]
  },
  {
   "cell_type": "markdown",
   "metadata": {},
   "source": [
    "Now based on what I have calcuated so far I am going to create a set of filtered data based on the percentiles. I'm going to exclude any users above the 99th percentiel in both order prices and orders per user. "
   ]
  },
  {
   "cell_type": "code",
   "execution_count": 47,
   "metadata": {},
   "outputs": [
    {
     "data": {
      "text/html": [
       "<div>\n",
       "<style scoped>\n",
       "    .dataframe tbody tr th:only-of-type {\n",
       "        vertical-align: middle;\n",
       "    }\n",
       "\n",
       "    .dataframe tbody tr th {\n",
       "        vertical-align: top;\n",
       "    }\n",
       "\n",
       "    .dataframe thead th {\n",
       "        text-align: right;\n",
       "    }\n",
       "</style>\n",
       "<table border=\"1\" class=\"dataframe\">\n",
       "  <thead>\n",
       "    <tr style=\"text-align: right;\">\n",
       "      <th></th>\n",
       "      <th>transactionId</th>\n",
       "      <th>visitorId</th>\n",
       "      <th>date</th>\n",
       "      <th>revenue</th>\n",
       "      <th>group</th>\n",
       "      <th>orders</th>\n",
       "    </tr>\n",
       "  </thead>\n",
       "  <tbody>\n",
       "    <tr>\n",
       "      <th>0</th>\n",
       "      <td>3667963787</td>\n",
       "      <td>3312258926</td>\n",
       "      <td>2019-08-15</td>\n",
       "      <td>30.4</td>\n",
       "      <td>B</td>\n",
       "      <td>1</td>\n",
       "    </tr>\n",
       "    <tr>\n",
       "      <th>1</th>\n",
       "      <td>2804400009</td>\n",
       "      <td>3642806036</td>\n",
       "      <td>2019-08-15</td>\n",
       "      <td>15.2</td>\n",
       "      <td>B</td>\n",
       "      <td>1</td>\n",
       "    </tr>\n",
       "    <tr>\n",
       "      <th>2</th>\n",
       "      <td>2961555356</td>\n",
       "      <td>4069496402</td>\n",
       "      <td>2019-08-15</td>\n",
       "      <td>10.2</td>\n",
       "      <td>A</td>\n",
       "      <td>2</td>\n",
       "    </tr>\n",
       "    <tr>\n",
       "      <th>3</th>\n",
       "      <td>3797467345</td>\n",
       "      <td>1196621759</td>\n",
       "      <td>2019-08-15</td>\n",
       "      <td>155.1</td>\n",
       "      <td>B</td>\n",
       "      <td>1</td>\n",
       "    </tr>\n",
       "    <tr>\n",
       "      <th>4</th>\n",
       "      <td>2282983706</td>\n",
       "      <td>2322279887</td>\n",
       "      <td>2019-08-15</td>\n",
       "      <td>40.5</td>\n",
       "      <td>B</td>\n",
       "      <td>1</td>\n",
       "    </tr>\n",
       "  </tbody>\n",
       "</table>\n",
       "</div>"
      ],
      "text/plain": [
       "   transactionId   visitorId       date  revenue group  orders\n",
       "0     3667963787  3312258926 2019-08-15     30.4     B       1\n",
       "1     2804400009  3642806036 2019-08-15     15.2     B       1\n",
       "2     2961555356  4069496402 2019-08-15     10.2     A       2\n",
       "3     3797467345  1196621759 2019-08-15    155.1     B       1\n",
       "4     2282983706  2322279887 2019-08-15     40.5     B       1"
      ]
     },
     "execution_count": 47,
     "metadata": {},
     "output_type": "execute_result"
    }
   ],
   "source": [
    "visits_w_orders = df_visits.merge(ordersByUsers, on='visitorId', how='left')\n",
    "visits_w_orders.head()"
   ]
  },
  {
   "cell_type": "code",
   "execution_count": 48,
   "metadata": {},
   "outputs": [
    {
     "data": {
      "text/html": [
       "<div>\n",
       "<style scoped>\n",
       "    .dataframe tbody tr th:only-of-type {\n",
       "        vertical-align: middle;\n",
       "    }\n",
       "\n",
       "    .dataframe tbody tr th {\n",
       "        vertical-align: top;\n",
       "    }\n",
       "\n",
       "    .dataframe thead th {\n",
       "        text-align: right;\n",
       "    }\n",
       "</style>\n",
       "<table border=\"1\" class=\"dataframe\">\n",
       "  <thead>\n",
       "    <tr style=\"text-align: right;\">\n",
       "      <th></th>\n",
       "      <th>transactionId</th>\n",
       "      <th>visitorId</th>\n",
       "      <th>date</th>\n",
       "      <th>revenue</th>\n",
       "      <th>group</th>\n",
       "      <th>orders</th>\n",
       "    </tr>\n",
       "  </thead>\n",
       "  <tbody>\n",
       "    <tr>\n",
       "      <th>0</th>\n",
       "      <td>3667963787</td>\n",
       "      <td>3312258926</td>\n",
       "      <td>2019-08-15</td>\n",
       "      <td>30.4</td>\n",
       "      <td>B</td>\n",
       "      <td>1</td>\n",
       "    </tr>\n",
       "    <tr>\n",
       "      <th>1</th>\n",
       "      <td>2804400009</td>\n",
       "      <td>3642806036</td>\n",
       "      <td>2019-08-15</td>\n",
       "      <td>15.2</td>\n",
       "      <td>B</td>\n",
       "      <td>1</td>\n",
       "    </tr>\n",
       "    <tr>\n",
       "      <th>2</th>\n",
       "      <td>2961555356</td>\n",
       "      <td>4069496402</td>\n",
       "      <td>2019-08-15</td>\n",
       "      <td>10.2</td>\n",
       "      <td>A</td>\n",
       "      <td>2</td>\n",
       "    </tr>\n",
       "    <tr>\n",
       "      <th>3</th>\n",
       "      <td>3797467345</td>\n",
       "      <td>1196621759</td>\n",
       "      <td>2019-08-15</td>\n",
       "      <td>155.1</td>\n",
       "      <td>B</td>\n",
       "      <td>1</td>\n",
       "    </tr>\n",
       "    <tr>\n",
       "      <th>4</th>\n",
       "      <td>2282983706</td>\n",
       "      <td>2322279887</td>\n",
       "      <td>2019-08-15</td>\n",
       "      <td>40.5</td>\n",
       "      <td>B</td>\n",
       "      <td>1</td>\n",
       "    </tr>\n",
       "  </tbody>\n",
       "</table>\n",
       "</div>"
      ],
      "text/plain": [
       "   transactionId   visitorId       date  revenue group  orders\n",
       "0     3667963787  3312258926 2019-08-15     30.4     B       1\n",
       "1     2804400009  3642806036 2019-08-15     15.2     B       1\n",
       "2     2961555356  4069496402 2019-08-15     10.2     A       2\n",
       "3     3797467345  1196621759 2019-08-15    155.1     B       1\n",
       "4     2282983706  2322279887 2019-08-15     40.5     B       1"
      ]
     },
     "execution_count": 48,
     "metadata": {},
     "output_type": "execute_result"
    }
   ],
   "source": [
    "filtered_data = visits_w_orders.query('(revenue <= 901) and (orders <= 4)') \n",
    "filtered_data.head()"
   ]
  },
  {
   "cell_type": "code",
   "execution_count": 49,
   "metadata": {},
   "outputs": [
    {
     "data": {
      "text/plain": [
       "1    928\n",
       "2    125\n",
       "3     51\n",
       "4     12\n",
       "Name: orders, dtype: int64"
      ]
     },
     "execution_count": 49,
     "metadata": {},
     "output_type": "execute_result"
    }
   ],
   "source": [
    "filtered_data['orders'].value_counts()"
   ]
  },
  {
   "cell_type": "code",
   "execution_count": 50,
   "metadata": {},
   "outputs": [
    {
     "data": {
      "image/png": "[encoded data removed]",
      "text/plain": [
       "<Figure size 432x288 with 1 Axes>"
      ]
     },
     "metadata": {
      "needs_background": "light"
     },
     "output_type": "display_data"
    }
   ],
   "source": [
    "x_values_filtered = pd.Series(range(0,len(filtered_data['revenue'])))\n",
    "\n",
    "plt.scatter(x_values_filtered, filtered_data[['revenue']])\n",
    "plt.xlabel('Number of Users')\n",
    "plt.ylabel('Order Price')\n",
    "plt.title('Order Price by Number of Users')\n",
    "plt.show()"
   ]
  },
  {
   "cell_type": "markdown",
   "metadata": {},
   "source": [
    "<a id='9 Find the statistical significance of the difference in conversion between the groups using the raw data. Make conclusions and conjectures.'></a>"
   ]
  },
  {
   "cell_type": "markdown",
   "metadata": {},
   "source": [
    "### Find the statistical significance of the difference in conversion between the groups using the raw data. Make conclusions and conjectures."
   ]
  },
  {
   "cell_type": "markdown",
   "metadata": {},
   "source": [
    "In regards to this test:\n",
    "\n",
    "The null hypothesis is that there is a not significant statistical difference in conversion between the two groups, the distribution underlying Group A is the same as the distribution underlying Group B.\n",
    "\n",
    "The alternate hypothesis is that there was a significant statistical difference in the conversion between the two groups and that the distribution underlying Group A differs from that underying Group B.\n",
    "\n",
    "My alpha will be 0.05, this is a standard threshold for statistical anaylsis and will ensure that the results are accuate.\n",
    "\n",
    "The relative difference will be in reference to Group B vs Group A and will gauge percentage loss or gain for Group B compared to Group A. The reasoning behind this is that Group B appears to B the favorite going into the test. "
   ]
  },
  {
   "cell_type": "code",
   "execution_count": 51,
   "metadata": {},
   "outputs": [
    {
     "data": {
      "text/html": [
       "<div>\n",
       "<style scoped>\n",
       "    .dataframe tbody tr th:only-of-type {\n",
       "        vertical-align: middle;\n",
       "    }\n",
       "\n",
       "    .dataframe tbody tr th {\n",
       "        vertical-align: top;\n",
       "    }\n",
       "\n",
       "    .dataframe thead th {\n",
       "        text-align: right;\n",
       "    }\n",
       "</style>\n",
       "<table border=\"1\" class=\"dataframe\">\n",
       "  <thead>\n",
       "    <tr style=\"text-align: right;\">\n",
       "      <th></th>\n",
       "      <th>date</th>\n",
       "      <th>group</th>\n",
       "      <th>visits</th>\n",
       "    </tr>\n",
       "  </thead>\n",
       "  <tbody>\n",
       "    <tr>\n",
       "      <th>0</th>\n",
       "      <td>2019-08-01</td>\n",
       "      <td>A</td>\n",
       "      <td>719</td>\n",
       "    </tr>\n",
       "    <tr>\n",
       "      <th>1</th>\n",
       "      <td>2019-08-02</td>\n",
       "      <td>A</td>\n",
       "      <td>619</td>\n",
       "    </tr>\n",
       "    <tr>\n",
       "      <th>2</th>\n",
       "      <td>2019-08-03</td>\n",
       "      <td>A</td>\n",
       "      <td>507</td>\n",
       "    </tr>\n",
       "    <tr>\n",
       "      <th>3</th>\n",
       "      <td>2019-08-04</td>\n",
       "      <td>A</td>\n",
       "      <td>717</td>\n",
       "    </tr>\n",
       "    <tr>\n",
       "      <th>4</th>\n",
       "      <td>2019-08-05</td>\n",
       "      <td>A</td>\n",
       "      <td>756</td>\n",
       "    </tr>\n",
       "  </tbody>\n",
       "</table>\n",
       "</div>"
      ],
      "text/plain": [
       "        date group  visits\n",
       "0 2019-08-01     A     719\n",
       "1 2019-08-02     A     619\n",
       "2 2019-08-03     A     507\n",
       "3 2019-08-04     A     717\n",
       "4 2019-08-05     A     756"
      ]
     },
     "execution_count": 51,
     "metadata": {},
     "output_type": "execute_result"
    }
   ],
   "source": [
    "df_orders.head()"
   ]
  },
  {
   "cell_type": "code",
   "execution_count": 52,
   "metadata": {},
   "outputs": [],
   "source": [
    "ordersByVisitorsA = visits_w_orders[visits_w_orders['group']=='A'].groupby('visitorId', as_index=False).agg({'transactionId' : pd.Series.nunique})\n",
    "ordersByVisitorsA.columns = ['visitorId', 'orders']\n",
    "\n",
    "ordersByVisitorsB = visits_w_orders[visits_w_orders['group']=='B'].groupby('visitorId', as_index=False).agg({'transactionId' : pd.Series.nunique})\n",
    "ordersByVisitorsB.columns = ['visitorId', 'orders'] "
   ]
  },
  {
   "cell_type": "code",
   "execution_count": 53,
   "metadata": {},
   "outputs": [
    {
     "data": {
      "text/html": [
       "<div>\n",
       "<style scoped>\n",
       "    .dataframe tbody tr th:only-of-type {\n",
       "        vertical-align: middle;\n",
       "    }\n",
       "\n",
       "    .dataframe tbody tr th {\n",
       "        vertical-align: top;\n",
       "    }\n",
       "\n",
       "    .dataframe thead th {\n",
       "        text-align: right;\n",
       "    }\n",
       "</style>\n",
       "<table border=\"1\" class=\"dataframe\">\n",
       "  <thead>\n",
       "    <tr style=\"text-align: right;\">\n",
       "      <th></th>\n",
       "      <th>visitorId</th>\n",
       "      <th>orders</th>\n",
       "    </tr>\n",
       "  </thead>\n",
       "  <tbody>\n",
       "    <tr>\n",
       "      <th>0</th>\n",
       "      <td>8300375</td>\n",
       "      <td>1</td>\n",
       "    </tr>\n",
       "    <tr>\n",
       "      <th>1</th>\n",
       "      <td>11685486</td>\n",
       "      <td>1</td>\n",
       "    </tr>\n",
       "    <tr>\n",
       "      <th>2</th>\n",
       "      <td>54447517</td>\n",
       "      <td>1</td>\n",
       "    </tr>\n",
       "    <tr>\n",
       "      <th>3</th>\n",
       "      <td>66685450</td>\n",
       "      <td>1</td>\n",
       "    </tr>\n",
       "    <tr>\n",
       "      <th>4</th>\n",
       "      <td>78758296</td>\n",
       "      <td>1</td>\n",
       "    </tr>\n",
       "  </tbody>\n",
       "</table>\n",
       "</div>"
      ],
      "text/plain": [
       "   visitorId  orders\n",
       "0    8300375       1\n",
       "1   11685486       1\n",
       "2   54447517       1\n",
       "3   66685450       1\n",
       "4   78758296       1"
      ]
     },
     "execution_count": 53,
     "metadata": {},
     "output_type": "execute_result"
    }
   ],
   "source": [
    "ordersByVisitorsA.head()"
   ]
  },
  {
   "cell_type": "code",
   "execution_count": 54,
   "metadata": {},
   "outputs": [
    {
     "data": {
      "text/html": [
       "<div>\n",
       "<style scoped>\n",
       "    .dataframe tbody tr th:only-of-type {\n",
       "        vertical-align: middle;\n",
       "    }\n",
       "\n",
       "    .dataframe tbody tr th {\n",
       "        vertical-align: top;\n",
       "    }\n",
       "\n",
       "    .dataframe thead th {\n",
       "        text-align: right;\n",
       "    }\n",
       "</style>\n",
       "<table border=\"1\" class=\"dataframe\">\n",
       "  <thead>\n",
       "    <tr style=\"text-align: right;\">\n",
       "      <th></th>\n",
       "      <th>visitorId</th>\n",
       "      <th>orders</th>\n",
       "    </tr>\n",
       "  </thead>\n",
       "  <tbody>\n",
       "    <tr>\n",
       "      <th>0</th>\n",
       "      <td>5114589</td>\n",
       "      <td>1</td>\n",
       "    </tr>\n",
       "    <tr>\n",
       "      <th>1</th>\n",
       "      <td>6958315</td>\n",
       "      <td>1</td>\n",
       "    </tr>\n",
       "    <tr>\n",
       "      <th>2</th>\n",
       "      <td>8300375</td>\n",
       "      <td>1</td>\n",
       "    </tr>\n",
       "    <tr>\n",
       "      <th>3</th>\n",
       "      <td>39475350</td>\n",
       "      <td>1</td>\n",
       "    </tr>\n",
       "    <tr>\n",
       "      <th>4</th>\n",
       "      <td>47206413</td>\n",
       "      <td>1</td>\n",
       "    </tr>\n",
       "  </tbody>\n",
       "</table>\n",
       "</div>"
      ],
      "text/plain": [
       "   visitorId  orders\n",
       "0    5114589       1\n",
       "1    6958315       1\n",
       "2    8300375       1\n",
       "3   39475350       1\n",
       "4   47206413       1"
      ]
     },
     "execution_count": 54,
     "metadata": {},
     "output_type": "execute_result"
    }
   ],
   "source": [
    "ordersByVisitorsB.head()"
   ]
  },
  {
   "cell_type": "code",
   "execution_count": 55,
   "metadata": {},
   "outputs": [
    {
     "name": "stdout",
     "output_type": "stream",
     "text": [
      "Relative Difference: 0.138\n",
      "p-value:  0.008396177528376304\n",
      "Null hypothesis rejected: the difference is statistically significant\n"
     ]
    }
   ],
   "source": [
    "alpha = 0.05\n",
    "\n",
    "sampleA = pd.concat([ordersByVisitorsA['orders'],pd.Series(0, index=np.arange(df_orders[df_orders['group']=='A']['visits'].sum() - len(ordersByVisitorsA['orders'])), name='orders')],axis=0)\n",
    "\n",
    "sampleB = pd.concat([ordersByVisitorsB['orders'],pd.Series(0, index=np.arange(df_orders[df_orders['group']=='B']['visits'].sum() - len(ordersByVisitorsB['orders'])), name='orders')],axis=0)\n",
    "\n",
    "results_1 = stats.mannwhitneyu(sampleA, sampleB)\n",
    "\n",
    "print(\"Relative Difference:\", \"{0:.3f}\".format(sampleB.mean()/sampleA.mean()-1))\n",
    "\n",
    "print('p-value: ', results_1.pvalue)\n",
    "\n",
    "if (results_1.pvalue < alpha):\n",
    "    print(\"Null hypothesis rejected: the difference is statistically significant\")\n",
    "else:\n",
    "    print(\"Failed to reject the null hypothesis: the groups are not significantly different statisitically\") "
   ]
  },
  {
   "cell_type": "markdown",
   "metadata": {},
   "source": [
    "The p-value is lower than 0.05, which indicates strong evidence to reject the null hypothesis that there is not a significant statisitcal difference in conversion betweeen the two groups. There is a 13.8% relative difference in conversion between the two groups. So thus far, based on the raw data there is a difference between Groups A and B. Based on the relative difference, Group B is 13.8% greater than group A in terms of conversion between the groups."
   ]
  },
  {
   "cell_type": "markdown",
   "metadata": {},
   "source": [
    "<a id='10 Find the statistical significance of the difference in average order size between the groups using the raw data. Make conclusions and conjectures.'></a>"
   ]
  },
  {
   "cell_type": "markdown",
   "metadata": {},
   "source": [
    "### Find the statistical significance of the difference in average order size between the groups using the raw data. Make conclusions and conjectures."
   ]
  },
  {
   "cell_type": "markdown",
   "metadata": {},
   "source": [
    "In regards to this test:\n",
    "\n",
    "The null hypothesis is that there is not a significant statistical difference between the groups in terms of average order size. The distribution underlying Group A is the same as the distribution underlying Group B.\n",
    "\n",
    "The alternate hypothesis is that there is a significant statistical difference betwee the groups in terms of average order size. In this case the distribution underlying Group A differs from that underlying Group B. \n",
    "\n",
    "The alpha is set to 0.05, this is a standard threshold for statistical anaylsis and will ensure that the results are accuate.\n",
    "\n",
    "The relative difference will be in reference to Group B vs Group A and will gauge percentage loss or gain for Group B compared to Group A. The reasoning behind this is that Group B appears to B the favorite going into the test. "
   ]
  },
  {
   "cell_type": "code",
   "execution_count": 56,
   "metadata": {},
   "outputs": [
    {
     "name": "stdout",
     "output_type": "stream",
     "text": [
      "Relative difference is 0.252\n",
      "p-value:  0.3457623386632368\n",
      "Failed to reject the null hypothesis: the difference is not siginficantly statistically different\n"
     ]
    }
   ],
   "source": [
    "alpha = 0.05\n",
    "\n",
    "results_2 = stats.mannwhitneyu(visits_w_orders[visits_w_orders['group']=='A']['revenue'], \n",
    "                               visits_w_orders[visits_w_orders['group']=='B']['revenue'])\n",
    "\n",
    "print(\"Relative difference is\",'{0:.3f}'.format(visits_w_orders[visits_w_orders['group']=='B']['revenue'].mean()\n",
    "                                                /visits_w_orders[visits_w_orders['group']=='A']['revenue'].mean()-1))\n",
    "      \n",
    "\n",
    "print('p-value: ', results_2.pvalue)\n",
    "\n",
    "if (results_2.pvalue < alpha):\n",
    "    print(\"Null hypothesis rejected: the difference is statistically significant\")\n",
    "else:\n",
    "    print(\"Failed to reject the null hypothesis: the difference is not siginficantly statistically different\") "
   ]
  },
  {
   "cell_type": "markdown",
   "metadata": {},
   "source": [
    "The p-value far exceeds the threshold of 0.05, which means that we cannot reject the null hypothesis that the groups are statisitically significantly different in terms of order size. Nonetheless, according to the relative difference the average order size for Group B is much larger than group A, about 35%. This could be because of outliers/anomalies, the filtered tests next will show us if this is the case. "
   ]
  },
  {
   "cell_type": "markdown",
   "metadata": {},
   "source": [
    "Prior to moving on to the filtered data tests, I'm going to find the number of anomallous users and use a second method of filtering the data to make sure that my results were correct."
   ]
  },
  {
   "cell_type": "code",
   "execution_count": 57,
   "metadata": {},
   "outputs": [
    {
     "name": "stdout",
     "output_type": "stream",
     "text": [
      "1099     148427295\n",
      "949      887908475\n",
      "744      888512513\n",
      "1103    1164614297\n",
      "1136    1307669133\n",
      "858     1316129916\n",
      "425     1920142716\n",
      "227     2038680547\n",
      "1196    2108080724\n",
      "326     2378935119\n",
      "278     2458001652\n",
      "940     4003628586\n",
      "743     4133034833\n",
      "499     4256040402\n",
      "662     4266935830\n",
      "Name: visitorId, dtype: int64\n",
      "(15,)\n"
     ]
    }
   ],
   "source": [
    "visitorsWithManyOrders = pd.concat([ordersByVisitorsA[ordersByVisitorsA['orders'] > 4]['visitorId'], ordersByVisitorsB[ordersByVisitorsB['orders'] > 4]['visitorId']], axis = 0)\n",
    "visitorsWithExpensiveOrders = visits_w_orders[visits_w_orders['revenue'] > 901]['visitorId']\n",
    "abnormalVisitors = pd.concat([visitorsWithManyOrders, visitorsWithExpensiveOrders], axis = 0).drop_duplicates().sort_values()\n",
    "print(abnormalVisitors.head(15))\n",
    "print(abnormalVisitors.shape) "
   ]
  },
  {
   "cell_type": "markdown",
   "metadata": {},
   "source": [
    "There were 15 users who are considered anomalies and they are listed above. It will be interesting to see the difference in conclusions that can be drawn between the raw and filtered data. "
   ]
  },
  {
   "cell_type": "markdown",
   "metadata": {},
   "source": [
    "<a id='11 Find the statistical significance of the difference in conversion between the groups using the filtered data. Make conclusions and conjectures.'></a>"
   ]
  },
  {
   "cell_type": "markdown",
   "metadata": {},
   "source": [
    "### Find the statistical significance of the difference in conversion between the groups using the filtered data. Make conclusions and conjectures."
   ]
  },
  {
   "cell_type": "markdown",
   "metadata": {},
   "source": [
    "In regards to this test, I will be using filtered data instead of raw:\n",
    "\n",
    "The null hypothesis is that there is a not significant statistical difference in conversion between the two groups, the distribution underlying Group A is the same as the distribution underlying Group B.\n",
    "\n",
    "The alternate hypothesis is that there was a significant statistical difference in the conversion between the two groups and that the distribution underlying Group A differs from that underying Group B.\n",
    "\n",
    "My alpha will be 0.05, this is a standard threshold for statistical anaylsis and will ensure that the results are accuate.\n",
    "\n",
    "The relative difference will be in reference to Group B vs Group A and will gauge percentage loss or gain for Group B compared to Group A. The reasoning behind this is that Group B appears to B the favorite going into the test. "
   ]
  },
  {
   "cell_type": "code",
   "execution_count": 58,
   "metadata": {},
   "outputs": [],
   "source": [
    "filtered_ordersByVisitorsA = filtered_data[filtered_data['group']=='A'].groupby('visitorId', as_index=False).agg({'transactionId' : pd.Series.nunique})\n",
    "filtered_ordersByVisitorsA.columns = ['visitorId', 'orders']\n",
    "\n",
    "filtered_ordersByVisitorsB = filtered_data[filtered_data['group']=='B'].groupby('visitorId', as_index=False).agg({'transactionId' : pd.Series.nunique})\n",
    "filtered_ordersByVisitorsB.columns = ['visitorId', 'orders'] "
   ]
  },
  {
   "cell_type": "code",
   "execution_count": 59,
   "metadata": {},
   "outputs": [
    {
     "data": {
      "text/html": [
       "<div>\n",
       "<style scoped>\n",
       "    .dataframe tbody tr th:only-of-type {\n",
       "        vertical-align: middle;\n",
       "    }\n",
       "\n",
       "    .dataframe tbody tr th {\n",
       "        vertical-align: top;\n",
       "    }\n",
       "\n",
       "    .dataframe thead th {\n",
       "        text-align: right;\n",
       "    }\n",
       "</style>\n",
       "<table border=\"1\" class=\"dataframe\">\n",
       "  <thead>\n",
       "    <tr style=\"text-align: right;\">\n",
       "      <th></th>\n",
       "      <th>visitorId</th>\n",
       "      <th>orders</th>\n",
       "    </tr>\n",
       "  </thead>\n",
       "  <tbody>\n",
       "    <tr>\n",
       "      <th>0</th>\n",
       "      <td>8300375</td>\n",
       "      <td>1</td>\n",
       "    </tr>\n",
       "    <tr>\n",
       "      <th>1</th>\n",
       "      <td>11685486</td>\n",
       "      <td>1</td>\n",
       "    </tr>\n",
       "    <tr>\n",
       "      <th>2</th>\n",
       "      <td>54447517</td>\n",
       "      <td>1</td>\n",
       "    </tr>\n",
       "    <tr>\n",
       "      <th>3</th>\n",
       "      <td>66685450</td>\n",
       "      <td>1</td>\n",
       "    </tr>\n",
       "    <tr>\n",
       "      <th>4</th>\n",
       "      <td>78758296</td>\n",
       "      <td>1</td>\n",
       "    </tr>\n",
       "  </tbody>\n",
       "</table>\n",
       "</div>"
      ],
      "text/plain": [
       "   visitorId  orders\n",
       "0    8300375       1\n",
       "1   11685486       1\n",
       "2   54447517       1\n",
       "3   66685450       1\n",
       "4   78758296       1"
      ]
     },
     "execution_count": 59,
     "metadata": {},
     "output_type": "execute_result"
    }
   ],
   "source": [
    "filtered_ordersByVisitorsA.head()"
   ]
  },
  {
   "cell_type": "code",
   "execution_count": 60,
   "metadata": {},
   "outputs": [
    {
     "data": {
      "text/html": [
       "<div>\n",
       "<style scoped>\n",
       "    .dataframe tbody tr th:only-of-type {\n",
       "        vertical-align: middle;\n",
       "    }\n",
       "\n",
       "    .dataframe tbody tr th {\n",
       "        vertical-align: top;\n",
       "    }\n",
       "\n",
       "    .dataframe thead th {\n",
       "        text-align: right;\n",
       "    }\n",
       "</style>\n",
       "<table border=\"1\" class=\"dataframe\">\n",
       "  <thead>\n",
       "    <tr style=\"text-align: right;\">\n",
       "      <th></th>\n",
       "      <th>visitorId</th>\n",
       "      <th>orders</th>\n",
       "    </tr>\n",
       "  </thead>\n",
       "  <tbody>\n",
       "    <tr>\n",
       "      <th>0</th>\n",
       "      <td>5114589</td>\n",
       "      <td>1</td>\n",
       "    </tr>\n",
       "    <tr>\n",
       "      <th>1</th>\n",
       "      <td>6958315</td>\n",
       "      <td>1</td>\n",
       "    </tr>\n",
       "    <tr>\n",
       "      <th>2</th>\n",
       "      <td>8300375</td>\n",
       "      <td>1</td>\n",
       "    </tr>\n",
       "    <tr>\n",
       "      <th>3</th>\n",
       "      <td>39475350</td>\n",
       "      <td>1</td>\n",
       "    </tr>\n",
       "    <tr>\n",
       "      <th>4</th>\n",
       "      <td>47206413</td>\n",
       "      <td>1</td>\n",
       "    </tr>\n",
       "  </tbody>\n",
       "</table>\n",
       "</div>"
      ],
      "text/plain": [
       "   visitorId  orders\n",
       "0    5114589       1\n",
       "1    6958315       1\n",
       "2    8300375       1\n",
       "3   39475350       1\n",
       "4   47206413       1"
      ]
     },
     "execution_count": 60,
     "metadata": {},
     "output_type": "execute_result"
    }
   ],
   "source": [
    "filtered_ordersByVisitorsB.head()"
   ]
  },
  {
   "cell_type": "code",
   "execution_count": 61,
   "metadata": {},
   "outputs": [
    {
     "name": "stdout",
     "output_type": "stream",
     "text": [
      "Relative Difference: 0.156\n",
      "p-value:  0.006327902684180415\n",
      "Null hypothesis rejected: the difference is statistically significant\n"
     ]
    }
   ],
   "source": [
    "alpha = 0.05\n",
    "\n",
    "filtered_sampleA = pd.concat([filtered_ordersByVisitorsA['orders'],pd.Series(0, index=np.arange(df_orders[df_orders['group']=='A']['visits'].sum() - len(filtered_ordersByVisitorsA['orders'])), name='orders')],axis=0)\n",
    "\n",
    "filtered_sampleB = pd.concat([filtered_ordersByVisitorsB['orders'],pd.Series(0, index=np.arange(df_orders[df_orders['group']=='B']['visits'].sum() - len(filtered_ordersByVisitorsB['orders'])), name='orders')],axis=0)\n",
    "\n",
    "results_3 = stats.mannwhitneyu(filtered_sampleA, filtered_sampleB)\n",
    "\n",
    "print(\"Relative Difference:\", \"{0:.3f}\".format(filtered_sampleB.mean()/filtered_sampleA.mean()-1))\n",
    "\n",
    "print('p-value: ', results_3.pvalue)\n",
    "\n",
    "if (results_3.pvalue < alpha):\n",
    "    print(\"Null hypothesis rejected: the difference is statistically significant\")\n",
    "else:\n",
    "    print(\"Failed to reject the null hypothesis: the groups are not significantly different statisitically\") "
   ]
  },
  {
   "cell_type": "markdown",
   "metadata": {},
   "source": [
    "The filtered data gives us very similar results to the raw in terms of conversion betweem the groups. The p-value is below 0.05 which therefore suggests that the null hypothesis can be rejected. The difference in the groups is most likely significantly differenct statisically. In terms of the relative difference, Group B had a 15.6% gain in terms of conversion between the two groups. Despite the filtering, this is still similar to the results of the raw data test."
   ]
  },
  {
   "cell_type": "markdown",
   "metadata": {},
   "source": [
    "Below is another method running the filtering for the test results. I will run this as well to ensure the accuracy of the results."
   ]
  },
  {
   "cell_type": "code",
   "execution_count": 62,
   "metadata": {},
   "outputs": [
    {
     "name": "stdout",
     "output_type": "stream",
     "text": [
      "p-value is 0.007\n",
      "Relative Difference is 0.153\n"
     ]
    }
   ],
   "source": [
    "GroupAFiltered = pd.concat([ordersByVisitorsA[np.logical_not(ordersByVisitorsA['visitorId'].isin(abnormalVisitors))]['orders'],pd.Series(0, index=np.arange(df_orders[df_orders['group']=='A']['visits'].sum() - len(ordersByVisitorsA['orders'])),name='orders')],axis=0)\n",
    "\n",
    "GroupBFiltered = pd.concat([ordersByVisitorsB[np.logical_not(ordersByVisitorsB['visitorId'].isin(abnormalVisitors))]['orders'],pd.Series(0, index=np.arange(df_orders[df_orders['group']=='B']['visits'].sum() - len(ordersByVisitorsB['orders'])),name='orders')],axis=0)\n",
    "\n",
    "print(\"p-value is\", \"{0:.3f}\".format(stats.mannwhitneyu(GroupAFiltered, GroupBFiltered)[1]))\n",
    "print(\"Relative Difference is\", \"{0:.3f}\".format(GroupBFiltered.mean()/GroupAFiltered.mean()-1))"
   ]
  },
  {
   "cell_type": "markdown",
   "metadata": {},
   "source": [
    "Indeed, the results are essentialy the same. I retain my previous conclusion that the null hypothesis can be rejected. In terms of conversion Group B appears to be greater than group A.  "
   ]
  },
  {
   "cell_type": "markdown",
   "metadata": {},
   "source": [
    "<a id='12 Find the statistical significance of the difference in average order size between the groups using the filtered data. Make conclusions and conjectures.'></a>"
   ]
  },
  {
   "cell_type": "markdown",
   "metadata": {},
   "source": [
    "### Find the statistical significance of the difference in average order size between the groups using the filtered data. Make conclusions and conjectures."
   ]
  },
  {
   "cell_type": "markdown",
   "metadata": {},
   "source": [
    "In regards to this test, I will be using the filtered data instead of the raw:\n",
    "\n",
    "The null hypothesis is that there is not a significant statistical difference between the groups in terms of average order size. The distribution underlying Group A is the same as the distribution underlying Group B.\n",
    "\n",
    "The alternate hypothesis is that there is a significant statistical difference between the groups in terms of average order size. In this case the distribution underlying Group A differs from that underlying Group B. \n",
    "\n",
    "The alpha is set to 0.05, this is a standard threshold for statistical anaylsis and will ensure that the results are accuate.\n",
    "\n",
    "The relative difference will be in reference to Group B vs Group A and will gauge percentage loss or gain for Group B compared to Group A. The reasoning behind this is that Group B appears to B the favorite going into the test. "
   ]
  },
  {
   "cell_type": "code",
   "execution_count": 63,
   "metadata": {},
   "outputs": [
    {
     "name": "stdout",
     "output_type": "stream",
     "text": [
      "Relative Difference is -0.015\n",
      "p-value:  0.4665918374974994\n",
      "Failed to reject the null hypothesis: the difference is not signficantly statistically different\n"
     ]
    }
   ],
   "source": [
    "alpha = 0.05\n",
    "\n",
    "results_4 = stats.mannwhitneyu(filtered_data[filtered_data['group']=='A']['revenue'], \n",
    "                                                       filtered_data[filtered_data['group']=='B']['revenue'])\n",
    "             \n",
    "print(\"Relative Difference is\",'{0:.3f}'.format(filtered_data[filtered_data['group']=='B']['revenue'].mean()\n",
    "                                                /filtered_data[filtered_data['group']=='A']['revenue'].mean()-1))\n",
    "\n",
    "print('p-value: ', results_4.pvalue)\n",
    "\n",
    "if (results_4.pvalue < alpha):\n",
    "    print(\"Null hypothesis rejected: the difference is statistically significant\")\n",
    "else:\n",
    "    print(\"Failed to reject the null hypothesis: the difference is not signficantly statistically different\") "
   ]
  },
  {
   "cell_type": "markdown",
   "metadata": {},
   "source": [
    "The results of this test suggests that we cannot reject the null hypothesis. The difference in distribution between the groups of filtered data in terms of order size is not significantly statistically different. This is much like the results of the raw data, where the null hypothesis also could not be rejected. However there is a noticable change in relative difference, after removing the anomalies, the difference in order size for group B compared to group A resulted in a 1.5% loss vs a 25% gain in the raw data test. This shows that the anomalies were indeed signifcant in terms of order size but not distribution overall. "
   ]
  },
  {
   "cell_type": "markdown",
   "metadata": {},
   "source": [
    "<a id='13 Revised Filtered Tests'></a>"
   ]
  },
  {
   "cell_type": "markdown",
   "metadata": {},
   "source": [
    "Below I ran another method of filtering for the test, with the goal of ensuring that my results were accurate."
   ]
  },
  {
   "cell_type": "code",
   "execution_count": 64,
   "metadata": {},
   "outputs": [
    {
     "name": "stdout",
     "output_type": "stream",
     "text": [
      "p-value is: 0.410\n",
      "Relative difference is: -0.006\n"
     ]
    }
   ],
   "source": [
    "print(\"p-value is:\",'{0:.3f}'.format(stats.mannwhitneyu(\n",
    "    visits_w_orders[np.logical_and(\n",
    "        visits_w_orders['group']=='A',\n",
    "        np.logical_not(visits_w_orders['visitorId'].isin(abnormalVisitors)))]['revenue'],\n",
    "    visits_w_orders[np.logical_and(\n",
    "        visits_w_orders['group']=='B',\n",
    "        np.logical_not(visits_w_orders['visitorId'].isin(abnormalVisitors)))]['revenue'])[1]))\n",
    "\n",
    "print(\"Relative difference is:\",'{0:.3f}'.format(\n",
    "    visits_w_orders[np.logical_and(visits_w_orders['group']=='B',np.logical_not(visits_w_orders['visitorId'].isin(abnormalVisitors)))]['revenue'].mean()/\n",
    "    visits_w_orders[np.logical_and(\n",
    "        visits_w_orders['group']=='A',\n",
    "        np.logical_not(visits_w_orders['visitorId'].isin(abnormalVisitors)))]['revenue'].mean() - 1))"
   ]
  },
  {
   "cell_type": "markdown",
   "metadata": {},
   "source": [
    "The results for the second test are within the margin of error and essentially the same, although there was a slight change in the relative difference. I retain my previous conclusion that the null hypothesis cannot be rejected, the difference between the groups of filtered data in terms of order size are not significantly statistically different."
   ]
  },
  {
   "cell_type": "markdown",
   "metadata": {},
   "source": [
    "<a id='Make a decision based on the test results.'></a>"
   ]
  },
  {
   "cell_type": "markdown",
   "metadata": {},
   "source": [
    "### Make a decision based on the test results. The possible decisions are: 1. Stop the test, consider one of the groups the leader. 2. Stop the test, conclude that there is no difference between the groups. 3. Continue the test."
   ]
  },
  {
   "cell_type": "markdown",
   "metadata": {},
   "source": [
    "Based on the results of both the raw and filtered data tests, I would recommend stopping the tests and declaring group B the leader."
   ]
  },
  {
   "cell_type": "markdown",
   "metadata": {},
   "source": [
    "<a id='Conclusion and Recommendations'></a>"
   ]
  },
  {
   "cell_type": "markdown",
   "metadata": {},
   "source": [
    "## Conclusion and Recommendations"
   ]
  },
  {
   "cell_type": "markdown",
   "metadata": {},
   "source": [
    "In conclusion, I would recommend stopping the tests and declaring group B the leader compared to Group A. Both the raw and filtered tests suggested that the groups were significantly statistically different in terms of conversion rate. The relative difference calculation suggested that group B had a 13.8% gain in conversion rate of the raw data and 15.6% in terms of the filtered data. In regards to order size, the tests suggested that there was not a significant statisitical difference between the groups. For the raw it appeared that group B had a greater order size overall in terms of relative difference, 25.2%,  but not significantly different. After filtering the result was even stronger and relative difference much smaller, at -1.5%. This suggests that after removing the anomalies in order size, group B still had a significantly greater conversion rate compared to group A. The results of the tests confirmed the earlier suspicions that group B had a higher potential for profitablility compared to group A. \n",
    "\n",
    "I would like to declare the A/B test a success and recommend moving forward with group B."
   ]
  },
  {
   "cell_type": "markdown",
   "metadata": {},
   "source": [
    "<a href='#Top of Page'> Top of Page</a>"
   ]
  }
 ],
 "metadata": {
  "ExecuteTimeLog": [
   {
    "duration": 4,
    "start_time": "2021-09-01T23:35:16.781Z"
   },
   {
    "duration": 337,
    "start_time": "2021-09-02T14:22:38.905Z"
   },
   {
    "duration": 444,
    "start_time": "2021-09-02T14:25:05.601Z"
   },
   {
    "duration": 1566,
    "start_time": "2021-09-02T14:25:26.037Z"
   },
   {
    "duration": 17,
    "start_time": "2021-09-02T14:35:43.118Z"
   },
   {
    "duration": 13,
    "start_time": "2021-09-02T14:35:51.522Z"
   },
   {
    "duration": 17,
    "start_time": "2021-09-02T14:44:47.946Z"
   },
   {
    "duration": 8,
    "start_time": "2021-09-02T14:44:59.990Z"
   },
   {
    "duration": 361,
    "start_time": "2021-09-02T14:46:33.673Z"
   },
   {
    "duration": 271,
    "start_time": "2021-09-02T14:46:36.302Z"
   },
   {
    "duration": 5,
    "start_time": "2021-09-02T14:46:44.030Z"
   },
   {
    "duration": 9,
    "start_time": "2021-09-02T14:49:55.319Z"
   },
   {
    "duration": 7,
    "start_time": "2021-09-02T14:50:02.936Z"
   },
   {
    "duration": 3,
    "start_time": "2021-09-02T15:12:28.248Z"
   },
   {
    "duration": 88,
    "start_time": "2021-09-02T15:15:50.679Z"
   },
   {
    "duration": 1468,
    "start_time": "2021-09-02T15:59:25.451Z"
   },
   {
    "duration": 16,
    "start_time": "2021-09-02T15:59:26.921Z"
   },
   {
    "duration": 15,
    "start_time": "2021-09-02T15:59:26.940Z"
   },
   {
    "duration": 28,
    "start_time": "2021-09-02T15:59:26.957Z"
   },
   {
    "duration": 17,
    "start_time": "2021-09-02T15:59:26.988Z"
   },
   {
    "duration": 18,
    "start_time": "2021-09-02T15:59:27.007Z"
   },
   {
    "duration": 1399,
    "start_time": "2021-09-02T16:14:15.834Z"
   },
   {
    "duration": 16,
    "start_time": "2021-09-02T16:14:17.236Z"
   },
   {
    "duration": 10,
    "start_time": "2021-09-02T16:14:17.255Z"
   },
   {
    "duration": 22,
    "start_time": "2021-09-02T16:14:17.267Z"
   },
   {
    "duration": 7,
    "start_time": "2021-09-02T16:14:17.292Z"
   },
   {
    "duration": 6,
    "start_time": "2021-09-02T16:14:17.301Z"
   },
   {
    "duration": 71,
    "start_time": "2021-09-02T16:19:33.350Z"
   },
   {
    "duration": 1886,
    "start_time": "2021-09-02T16:36:33.290Z"
   },
   {
    "duration": 54,
    "start_time": "2021-09-02T16:37:04.106Z"
   },
   {
    "duration": 12,
    "start_time": "2021-09-02T16:37:17.392Z"
   },
   {
    "duration": 12,
    "start_time": "2021-09-02T16:37:24.942Z"
   },
   {
    "duration": 9,
    "start_time": "2021-09-02T16:37:45.648Z"
   },
   {
    "duration": 8,
    "start_time": "2021-09-02T16:37:53.890Z"
   },
   {
    "duration": 11,
    "start_time": "2021-09-02T16:38:18.069Z"
   },
   {
    "duration": 8,
    "start_time": "2021-09-02T16:38:50.239Z"
   },
   {
    "duration": 12,
    "start_time": "2021-09-02T16:49:27.594Z"
   },
   {
    "duration": 258,
    "start_time": "2021-09-02T16:49:54.610Z"
   },
   {
    "duration": 8,
    "start_time": "2021-09-02T16:50:07.139Z"
   },
   {
    "duration": 8,
    "start_time": "2021-09-02T16:51:36.484Z"
   },
   {
    "duration": 11,
    "start_time": "2021-09-02T17:01:58.736Z"
   },
   {
    "duration": 7,
    "start_time": "2021-09-02T17:06:24.217Z"
   },
   {
    "duration": 8,
    "start_time": "2021-09-02T17:06:35.173Z"
   },
   {
    "duration": 28,
    "start_time": "2021-09-02T18:11:38.378Z"
   },
   {
    "duration": 16,
    "start_time": "2021-09-02T18:11:46.714Z"
   },
   {
    "duration": 15,
    "start_time": "2021-09-02T18:14:32.997Z"
   },
   {
    "duration": 9,
    "start_time": "2021-09-02T18:15:08.865Z"
   },
   {
    "duration": 9,
    "start_time": "2021-09-02T18:16:24.291Z"
   },
   {
    "duration": 6,
    "start_time": "2021-09-02T18:16:41.108Z"
   },
   {
    "duration": 17,
    "start_time": "2021-09-02T18:18:12.733Z"
   },
   {
    "duration": 12,
    "start_time": "2021-09-02T18:18:39.191Z"
   },
   {
    "duration": 6136,
    "start_time": "2021-09-02T18:23:55.899Z"
   },
   {
    "duration": 6,
    "start_time": "2021-09-02T18:24:09.353Z"
   },
   {
    "duration": 8,
    "start_time": "2021-09-02T18:24:37.891Z"
   },
   {
    "duration": 10,
    "start_time": "2021-09-02T18:27:14.950Z"
   },
   {
    "duration": 322,
    "start_time": "2021-09-02T18:30:33.765Z"
   },
   {
    "duration": 16,
    "start_time": "2021-09-02T18:31:58.839Z"
   },
   {
    "duration": 21,
    "start_time": "2021-09-02T18:33:09.715Z"
   },
   {
    "duration": 8,
    "start_time": "2021-09-02T18:33:42.569Z"
   },
   {
    "duration": 7,
    "start_time": "2021-09-02T18:34:07.589Z"
   },
   {
    "duration": 5,
    "start_time": "2021-09-02T18:34:29.837Z"
   },
   {
    "duration": 6,
    "start_time": "2021-09-02T18:34:39.410Z"
   },
   {
    "duration": 6664,
    "start_time": "2021-09-02T18:35:31.214Z"
   },
   {
    "duration": 6100,
    "start_time": "2021-09-02T18:35:44.322Z"
   },
   {
    "duration": 1449,
    "start_time": "2021-09-02T18:36:21.891Z"
   },
   {
    "duration": 16,
    "start_time": "2021-09-02T18:36:23.342Z"
   },
   {
    "duration": 11,
    "start_time": "2021-09-02T18:36:23.361Z"
   },
   {
    "duration": 23,
    "start_time": "2021-09-02T18:36:23.375Z"
   },
   {
    "duration": 7,
    "start_time": "2021-09-02T18:36:23.401Z"
   },
   {
    "duration": 8,
    "start_time": "2021-09-02T18:36:23.411Z"
   },
   {
    "duration": 53,
    "start_time": "2021-09-02T18:36:23.422Z"
   },
   {
    "duration": 12,
    "start_time": "2021-09-02T18:36:23.479Z"
   },
   {
    "duration": 19,
    "start_time": "2021-09-02T18:36:23.494Z"
   },
   {
    "duration": 15,
    "start_time": "2021-09-02T18:36:23.515Z"
   },
   {
    "duration": 17,
    "start_time": "2021-09-02T18:36:23.532Z"
   },
   {
    "duration": 36,
    "start_time": "2021-09-02T18:36:23.551Z"
   },
   {
    "duration": 17,
    "start_time": "2021-09-02T18:36:23.590Z"
   },
   {
    "duration": 8,
    "start_time": "2021-09-02T18:36:23.610Z"
   },
   {
    "duration": 45,
    "start_time": "2021-09-02T18:36:23.620Z"
   },
   {
    "duration": 8,
    "start_time": "2021-09-02T18:36:23.667Z"
   },
   {
    "duration": 10,
    "start_time": "2021-09-02T18:36:23.678Z"
   },
   {
    "duration": 14,
    "start_time": "2021-09-02T18:36:23.691Z"
   },
   {
    "duration": 61,
    "start_time": "2021-09-02T18:36:23.708Z"
   },
   {
    "duration": 12,
    "start_time": "2021-09-02T18:36:23.772Z"
   },
   {
    "duration": 9,
    "start_time": "2021-09-02T18:36:23.787Z"
   },
   {
    "duration": 11,
    "start_time": "2021-09-02T18:36:23.799Z"
   },
   {
    "duration": 53,
    "start_time": "2021-09-02T18:36:23.814Z"
   },
   {
    "duration": 13,
    "start_time": "2021-09-02T18:36:23.869Z"
   },
   {
    "duration": 9,
    "start_time": "2021-09-02T18:36:23.884Z"
   },
   {
    "duration": 7,
    "start_time": "2021-09-02T18:36:23.896Z"
   },
   {
    "duration": 7,
    "start_time": "2021-09-02T18:36:23.905Z"
   },
   {
    "duration": 53,
    "start_time": "2021-09-02T18:36:23.914Z"
   },
   {
    "duration": 17,
    "start_time": "2021-09-03T12:47:31.897Z"
   },
   {
    "duration": 8,
    "start_time": "2021-09-03T12:47:35.009Z"
   },
   {
    "duration": 1475,
    "start_time": "2021-09-03T12:58:12.665Z"
   },
   {
    "duration": 21,
    "start_time": "2021-09-03T12:58:14.143Z"
   },
   {
    "duration": 10,
    "start_time": "2021-09-03T12:58:14.167Z"
   },
   {
    "duration": 40,
    "start_time": "2021-09-03T12:58:14.179Z"
   },
   {
    "duration": 8,
    "start_time": "2021-09-03T12:58:14.221Z"
   },
   {
    "duration": 32,
    "start_time": "2021-09-03T12:58:14.231Z"
   },
   {
    "duration": 65,
    "start_time": "2021-09-03T12:58:14.266Z"
   },
   {
    "duration": 12,
    "start_time": "2021-09-03T12:58:14.335Z"
   },
   {
    "duration": 14,
    "start_time": "2021-09-03T12:58:14.350Z"
   },
   {
    "duration": 13,
    "start_time": "2021-09-03T12:58:14.366Z"
   },
   {
    "duration": 14,
    "start_time": "2021-09-03T12:58:14.381Z"
   },
   {
    "duration": 28,
    "start_time": "2021-09-03T12:58:14.399Z"
   },
   {
    "duration": 44,
    "start_time": "2021-09-03T12:58:14.430Z"
   },
   {
    "duration": 13,
    "start_time": "2021-09-03T12:58:14.476Z"
   },
   {
    "duration": 9,
    "start_time": "2021-09-03T12:58:14.492Z"
   },
   {
    "duration": 10,
    "start_time": "2021-09-03T12:58:14.504Z"
   },
   {
    "duration": 9,
    "start_time": "2021-09-03T12:58:14.517Z"
   },
   {
    "duration": 12,
    "start_time": "2021-09-03T12:58:14.563Z"
   },
   {
    "duration": 24,
    "start_time": "2021-09-03T12:58:14.588Z"
   },
   {
    "duration": 18,
    "start_time": "2021-09-03T12:58:14.615Z"
   },
   {
    "duration": 27,
    "start_time": "2021-09-03T12:58:14.637Z"
   },
   {
    "duration": 7,
    "start_time": "2021-09-03T12:58:14.667Z"
   },
   {
    "duration": 21,
    "start_time": "2021-09-03T12:58:14.681Z"
   },
   {
    "duration": 16,
    "start_time": "2021-09-03T12:58:14.705Z"
   },
   {
    "duration": 10,
    "start_time": "2021-09-03T12:58:14.763Z"
   },
   {
    "duration": 10,
    "start_time": "2021-09-03T12:58:14.776Z"
   },
   {
    "duration": 12,
    "start_time": "2021-09-03T12:58:14.788Z"
   },
   {
    "duration": 7,
    "start_time": "2021-09-03T12:58:14.803Z"
   },
   {
    "duration": 391,
    "start_time": "2021-09-03T18:34:44.263Z"
   },
   {
    "duration": 1185,
    "start_time": "2021-09-03T18:34:58.423Z"
   },
   {
    "duration": 19,
    "start_time": "2021-09-03T18:34:59.609Z"
   },
   {
    "duration": 7,
    "start_time": "2021-09-03T18:34:59.631Z"
   },
   {
    "duration": 22,
    "start_time": "2021-09-03T18:34:59.641Z"
   },
   {
    "duration": 15,
    "start_time": "2021-09-03T18:34:59.665Z"
   },
   {
    "duration": 8,
    "start_time": "2021-09-03T18:34:59.682Z"
   },
   {
    "duration": 10,
    "start_time": "2021-09-03T18:34:59.692Z"
   },
   {
    "duration": 91,
    "start_time": "2021-09-03T18:34:59.706Z"
   },
   {
    "duration": 8,
    "start_time": "2021-09-03T18:34:59.800Z"
   },
   {
    "duration": 8,
    "start_time": "2021-09-03T18:34:59.810Z"
   },
   {
    "duration": 10,
    "start_time": "2021-09-03T18:34:59.820Z"
   },
   {
    "duration": 10,
    "start_time": "2021-09-03T18:34:59.832Z"
   },
   {
    "duration": 20,
    "start_time": "2021-09-03T18:34:59.843Z"
   },
   {
    "duration": 11,
    "start_time": "2021-09-03T18:34:59.877Z"
   },
   {
    "duration": 7,
    "start_time": "2021-09-03T18:34:59.890Z"
   },
   {
    "duration": 5,
    "start_time": "2021-09-03T18:34:59.899Z"
   },
   {
    "duration": 10,
    "start_time": "2021-09-03T18:34:59.906Z"
   },
   {
    "duration": 6,
    "start_time": "2021-09-03T18:34:59.917Z"
   },
   {
    "duration": 10,
    "start_time": "2021-09-03T18:34:59.924Z"
   },
   {
    "duration": 43,
    "start_time": "2021-09-03T18:34:59.935Z"
   },
   {
    "duration": 8,
    "start_time": "2021-09-03T18:34:59.980Z"
   },
   {
    "duration": 6,
    "start_time": "2021-09-03T18:34:59.990Z"
   },
   {
    "duration": 6,
    "start_time": "2021-09-03T18:34:59.999Z"
   },
   {
    "duration": 17,
    "start_time": "2021-09-03T18:35:00.006Z"
   },
   {
    "duration": 13,
    "start_time": "2021-09-03T18:35:00.024Z"
   },
   {
    "duration": 13,
    "start_time": "2021-09-03T18:35:00.038Z"
   },
   {
    "duration": 25,
    "start_time": "2021-09-03T18:35:00.053Z"
   },
   {
    "duration": 4,
    "start_time": "2021-09-03T18:35:00.079Z"
   },
   {
    "duration": 9,
    "start_time": "2021-09-03T18:35:00.084Z"
   },
   {
    "duration": 11129,
    "start_time": "2021-09-03T18:44:50.721Z"
   },
   {
    "duration": 8928,
    "start_time": "2021-09-03T18:45:33.117Z"
   },
   {
    "duration": 9,
    "start_time": "2021-09-03T18:45:48.776Z"
   },
   {
    "duration": 6,
    "start_time": "2021-09-03T19:11:31.497Z"
   },
   {
    "duration": 1167,
    "start_time": "2021-09-03T19:17:33.935Z"
   },
   {
    "duration": 20,
    "start_time": "2021-09-03T19:17:35.104Z"
   },
   {
    "duration": 8,
    "start_time": "2021-09-03T19:17:35.126Z"
   },
   {
    "duration": 23,
    "start_time": "2021-09-03T19:17:35.136Z"
   },
   {
    "duration": 6,
    "start_time": "2021-09-03T19:17:35.160Z"
   },
   {
    "duration": 12,
    "start_time": "2021-09-03T19:17:35.167Z"
   },
   {
    "duration": 12,
    "start_time": "2021-09-03T19:17:35.182Z"
   },
   {
    "duration": 9,
    "start_time": "2021-09-03T19:17:35.196Z"
   },
   {
    "duration": 99,
    "start_time": "2021-09-03T19:17:35.207Z"
   },
   {
    "duration": 8,
    "start_time": "2021-09-03T19:17:35.308Z"
   },
   {
    "duration": 10,
    "start_time": "2021-09-03T19:17:35.318Z"
   },
   {
    "duration": 8,
    "start_time": "2021-09-03T19:17:35.329Z"
   },
   {
    "duration": 7,
    "start_time": "2021-09-03T19:17:35.339Z"
   },
   {
    "duration": 18,
    "start_time": "2021-09-03T19:17:35.348Z"
   },
   {
    "duration": 17,
    "start_time": "2021-09-03T19:17:35.368Z"
   },
   {
    "duration": 6,
    "start_time": "2021-09-03T19:17:35.387Z"
   },
   {
    "duration": 9,
    "start_time": "2021-09-03T19:17:35.395Z"
   },
   {
    "duration": 10,
    "start_time": "2021-09-03T19:17:35.406Z"
   },
   {
    "duration": 7,
    "start_time": "2021-09-03T19:17:35.418Z"
   },
   {
    "duration": 8,
    "start_time": "2021-09-03T19:17:35.426Z"
   },
   {
    "duration": 111,
    "start_time": "2021-09-03T19:17:35.436Z"
   },
   {
    "duration": -110,
    "start_time": "2021-09-03T19:17:35.659Z"
   },
   {
    "duration": -116,
    "start_time": "2021-09-03T19:17:35.666Z"
   },
   {
    "duration": -162,
    "start_time": "2021-09-03T19:17:35.713Z"
   },
   {
    "duration": -166,
    "start_time": "2021-09-03T19:17:35.718Z"
   },
   {
    "duration": -171,
    "start_time": "2021-09-03T19:17:35.724Z"
   },
   {
    "duration": -175,
    "start_time": "2021-09-03T19:17:35.729Z"
   },
   {
    "duration": -179,
    "start_time": "2021-09-03T19:17:35.734Z"
   },
   {
    "duration": 10,
    "start_time": "2021-09-03T19:18:00.308Z"
   },
   {
    "duration": 187,
    "start_time": "2021-09-03T19:21:03.744Z"
   },
   {
    "duration": 287,
    "start_time": "2021-09-03T19:21:24.528Z"
   },
   {
    "duration": 9,
    "start_time": "2021-09-03T19:22:38.808Z"
   },
   {
    "duration": 13,
    "start_time": "2021-09-03T19:22:53.885Z"
   },
   {
    "duration": 1200,
    "start_time": "2021-09-03T19:24:30.610Z"
   },
   {
    "duration": 18,
    "start_time": "2021-09-03T19:24:31.812Z"
   },
   {
    "duration": 12,
    "start_time": "2021-09-03T19:24:31.832Z"
   },
   {
    "duration": 29,
    "start_time": "2021-09-03T19:24:31.846Z"
   },
   {
    "duration": 6,
    "start_time": "2021-09-03T19:24:31.877Z"
   },
   {
    "duration": 11,
    "start_time": "2021-09-03T19:24:31.885Z"
   },
   {
    "duration": 11,
    "start_time": "2021-09-03T19:24:31.898Z"
   },
   {
    "duration": 17,
    "start_time": "2021-09-03T19:24:31.912Z"
   },
   {
    "duration": 80,
    "start_time": "2021-09-03T19:24:31.932Z"
   },
   {
    "duration": 9,
    "start_time": "2021-09-03T19:24:32.014Z"
   },
   {
    "duration": 9,
    "start_time": "2021-09-03T19:24:32.025Z"
   },
   {
    "duration": 8,
    "start_time": "2021-09-03T19:24:32.036Z"
   },
   {
    "duration": 8,
    "start_time": "2021-09-03T19:24:32.046Z"
   },
   {
    "duration": 23,
    "start_time": "2021-09-03T19:24:32.057Z"
   },
   {
    "duration": 11,
    "start_time": "2021-09-03T19:24:32.082Z"
   },
   {
    "duration": 8,
    "start_time": "2021-09-03T19:24:32.095Z"
   },
   {
    "duration": 7,
    "start_time": "2021-09-03T19:24:32.104Z"
   },
   {
    "duration": 12,
    "start_time": "2021-09-03T19:24:32.113Z"
   },
   {
    "duration": 10,
    "start_time": "2021-09-03T19:24:32.127Z"
   },
   {
    "duration": 14,
    "start_time": "2021-09-03T19:24:32.138Z"
   },
   {
    "duration": 29,
    "start_time": "2021-09-03T19:24:32.154Z"
   },
   {
    "duration": 9,
    "start_time": "2021-09-03T19:24:32.185Z"
   },
   {
    "duration": 485,
    "start_time": "2021-09-03T19:24:32.197Z"
   },
   {
    "duration": -207,
    "start_time": "2021-09-03T19:24:32.891Z"
   },
   {
    "duration": -215,
    "start_time": "2021-09-03T19:24:32.900Z"
   },
   {
    "duration": -229,
    "start_time": "2021-09-03T19:24:32.915Z"
   },
   {
    "duration": -239,
    "start_time": "2021-09-03T19:24:32.925Z"
   },
   {
    "duration": -248,
    "start_time": "2021-09-03T19:24:32.935Z"
   },
   {
    "duration": 11,
    "start_time": "2021-09-03T19:24:41.830Z"
   },
   {
    "duration": 14,
    "start_time": "2021-09-03T19:26:53.968Z"
   },
   {
    "duration": 14,
    "start_time": "2021-09-03T19:27:12.721Z"
   },
   {
    "duration": 15,
    "start_time": "2021-09-03T19:27:52.819Z"
   },
   {
    "duration": 15,
    "start_time": "2021-09-03T19:27:54.773Z"
   },
   {
    "duration": 14,
    "start_time": "2021-09-03T19:28:04.158Z"
   },
   {
    "duration": 15,
    "start_time": "2021-09-03T19:28:05.945Z"
   },
   {
    "duration": 14,
    "start_time": "2021-09-03T19:44:11.893Z"
   },
   {
    "duration": 13,
    "start_time": "2021-09-03T19:44:27.904Z"
   },
   {
    "duration": 17,
    "start_time": "2021-09-03T19:45:44.593Z"
   },
   {
    "duration": 18,
    "start_time": "2021-09-03T19:45:51.226Z"
   },
   {
    "duration": 7,
    "start_time": "2021-09-03T19:46:55.104Z"
   },
   {
    "duration": 5,
    "start_time": "2021-09-03T19:49:03.761Z"
   },
   {
    "duration": 4,
    "start_time": "2021-09-03T19:51:13.735Z"
   },
   {
    "duration": 4720,
    "start_time": "2021-09-03T19:51:33.608Z"
   },
   {
    "duration": 6,
    "start_time": "2021-09-03T19:52:05.226Z"
   },
   {
    "duration": 350,
    "start_time": "2021-09-03T20:00:03.572Z"
   },
   {
    "duration": 4,
    "start_time": "2021-09-03T20:00:10.807Z"
   },
   {
    "duration": 6,
    "start_time": "2021-09-03T20:00:32.225Z"
   },
   {
    "duration": 4,
    "start_time": "2021-09-03T20:00:45.168Z"
   },
   {
    "duration": 5,
    "start_time": "2021-09-03T20:00:46.793Z"
   },
   {
    "duration": 5,
    "start_time": "2021-09-03T20:00:56.014Z"
   },
   {
    "duration": 4,
    "start_time": "2021-09-03T20:01:10.237Z"
   },
   {
    "duration": 5,
    "start_time": "2021-09-03T20:01:12.010Z"
   },
   {
    "duration": 4,
    "start_time": "2021-09-03T20:01:13.857Z"
   },
   {
    "duration": 1112,
    "start_time": "2021-09-03T20:01:44.604Z"
   },
   {
    "duration": 19,
    "start_time": "2021-09-03T20:01:45.717Z"
   },
   {
    "duration": 8,
    "start_time": "2021-09-03T20:01:45.738Z"
   },
   {
    "duration": 26,
    "start_time": "2021-09-03T20:01:45.747Z"
   },
   {
    "duration": 6,
    "start_time": "2021-09-03T20:01:45.774Z"
   },
   {
    "duration": 9,
    "start_time": "2021-09-03T20:01:45.781Z"
   },
   {
    "duration": 10,
    "start_time": "2021-09-03T20:01:45.792Z"
   },
   {
    "duration": 8,
    "start_time": "2021-09-03T20:01:45.804Z"
   },
   {
    "duration": 64,
    "start_time": "2021-09-03T20:01:45.814Z"
   },
   {
    "duration": 8,
    "start_time": "2021-09-03T20:01:45.880Z"
   },
   {
    "duration": 9,
    "start_time": "2021-09-03T20:01:45.889Z"
   },
   {
    "duration": 11,
    "start_time": "2021-09-03T20:01:45.900Z"
   },
   {
    "duration": 10,
    "start_time": "2021-09-03T20:01:45.913Z"
   },
   {
    "duration": 21,
    "start_time": "2021-09-03T20:01:45.925Z"
   },
   {
    "duration": 10,
    "start_time": "2021-09-03T20:01:45.948Z"
   },
   {
    "duration": 5,
    "start_time": "2021-09-03T20:01:45.977Z"
   },
   {
    "duration": 10,
    "start_time": "2021-09-03T20:01:45.984Z"
   },
   {
    "duration": 10,
    "start_time": "2021-09-03T20:01:45.995Z"
   },
   {
    "duration": 7,
    "start_time": "2021-09-03T20:01:46.007Z"
   },
   {
    "duration": 10,
    "start_time": "2021-09-03T20:01:46.016Z"
   },
   {
    "duration": 14,
    "start_time": "2021-09-03T20:01:46.027Z"
   },
   {
    "duration": 36,
    "start_time": "2021-09-03T20:01:46.043Z"
   },
   {
    "duration": 5,
    "start_time": "2021-09-03T20:01:46.082Z"
   },
   {
    "duration": 8,
    "start_time": "2021-09-03T20:01:46.088Z"
   },
   {
    "duration": 7,
    "start_time": "2021-09-03T20:01:46.098Z"
   },
   {
    "duration": 8,
    "start_time": "2021-09-03T20:01:46.107Z"
   },
   {
    "duration": 433,
    "start_time": "2021-09-03T20:01:46.116Z"
   },
   {
    "duration": -197,
    "start_time": "2021-09-03T20:01:46.748Z"
   },
   {
    "duration": -211,
    "start_time": "2021-09-03T20:01:46.763Z"
   },
   {
    "duration": -215,
    "start_time": "2021-09-03T20:01:46.768Z"
   },
   {
    "duration": -266,
    "start_time": "2021-09-03T20:01:46.820Z"
   },
   {
    "duration": 8,
    "start_time": "2021-09-03T20:02:09.842Z"
   },
   {
    "duration": 5,
    "start_time": "2021-09-03T20:02:15.884Z"
   },
   {
    "duration": 5,
    "start_time": "2021-09-03T20:02:17.959Z"
   },
   {
    "duration": 1244,
    "start_time": "2021-09-03T20:02:51.266Z"
   },
   {
    "duration": 19,
    "start_time": "2021-09-03T20:02:52.512Z"
   },
   {
    "duration": 10,
    "start_time": "2021-09-03T20:02:52.533Z"
   },
   {
    "duration": 21,
    "start_time": "2021-09-03T20:02:52.545Z"
   },
   {
    "duration": 8,
    "start_time": "2021-09-03T20:02:52.568Z"
   },
   {
    "duration": 8,
    "start_time": "2021-09-03T20:02:52.578Z"
   },
   {
    "duration": 11,
    "start_time": "2021-09-03T20:02:52.588Z"
   },
   {
    "duration": 8,
    "start_time": "2021-09-03T20:02:52.602Z"
   },
   {
    "duration": 53,
    "start_time": "2021-09-03T20:02:52.613Z"
   },
   {
    "duration": 10,
    "start_time": "2021-09-03T20:02:52.669Z"
   },
   {
    "duration": 11,
    "start_time": "2021-09-03T20:02:52.681Z"
   },
   {
    "duration": 9,
    "start_time": "2021-09-03T20:02:52.694Z"
   },
   {
    "duration": 7,
    "start_time": "2021-09-03T20:02:52.705Z"
   },
   {
    "duration": 26,
    "start_time": "2021-09-03T20:02:52.714Z"
   },
   {
    "duration": 40,
    "start_time": "2021-09-03T20:02:52.742Z"
   },
   {
    "duration": 7,
    "start_time": "2021-09-03T20:02:52.784Z"
   },
   {
    "duration": 9,
    "start_time": "2021-09-03T20:02:52.793Z"
   },
   {
    "duration": 11,
    "start_time": "2021-09-03T20:02:52.804Z"
   },
   {
    "duration": 7,
    "start_time": "2021-09-03T20:02:52.817Z"
   },
   {
    "duration": 12,
    "start_time": "2021-09-03T20:02:52.826Z"
   },
   {
    "duration": 47,
    "start_time": "2021-09-03T20:02:52.840Z"
   },
   {
    "duration": 18,
    "start_time": "2021-09-03T20:02:52.889Z"
   },
   {
    "duration": 6,
    "start_time": "2021-09-03T20:02:52.911Z"
   },
   {
    "duration": 534,
    "start_time": "2021-09-03T20:02:52.919Z"
   },
   {
    "duration": -133,
    "start_time": "2021-09-03T20:02:53.588Z"
   },
   {
    "duration": -138,
    "start_time": "2021-09-03T20:02:53.594Z"
   },
   {
    "duration": -142,
    "start_time": "2021-09-03T20:02:53.599Z"
   },
   {
    "duration": -146,
    "start_time": "2021-09-03T20:02:53.604Z"
   },
   {
    "duration": 6,
    "start_time": "2021-09-03T20:07:31.228Z"
   },
   {
    "duration": 5,
    "start_time": "2021-09-03T20:07:46.727Z"
   },
   {
    "duration": 5,
    "start_time": "2021-09-03T20:08:20.538Z"
   },
   {
    "duration": 10,
    "start_time": "2021-09-03T20:12:23.751Z"
   },
   {
    "duration": 397,
    "start_time": "2021-09-03T20:13:12.393Z"
   },
   {
    "duration": 10,
    "start_time": "2021-09-03T20:13:17.892Z"
   },
   {
    "duration": -159,
    "start_time": "2021-09-03T20:13:57.466Z"
   },
   {
    "duration": 7,
    "start_time": "2021-09-03T20:14:00.540Z"
   },
   {
    "duration": 15,
    "start_time": "2021-09-03T20:17:02.425Z"
   },
   {
    "duration": 344,
    "start_time": "2021-09-03T20:25:59.213Z"
   },
   {
    "duration": 15,
    "start_time": "2021-09-03T20:26:09.012Z"
   },
   {
    "duration": 1400,
    "start_time": "2021-09-03T20:26:21.263Z"
   },
   {
    "duration": 357,
    "start_time": "2021-09-03T20:26:38.262Z"
   },
   {
    "duration": 14,
    "start_time": "2021-09-03T21:02:56.629Z"
   },
   {
    "duration": 5,
    "start_time": "2021-09-03T21:03:58.587Z"
   },
   {
    "duration": 9,
    "start_time": "2021-09-03T21:04:11.207Z"
   },
   {
    "duration": 6,
    "start_time": "2021-09-03T21:04:39.110Z"
   },
   {
    "duration": 14,
    "start_time": "2021-09-03T21:09:54.392Z"
   },
   {
    "duration": 344,
    "start_time": "2021-09-03T21:15:05.359Z"
   },
   {
    "duration": 353,
    "start_time": "2021-09-03T21:15:11.617Z"
   },
   {
    "duration": 5,
    "start_time": "2021-09-03T21:22:23.226Z"
   },
   {
    "duration": 396,
    "start_time": "2021-09-03T21:23:35.364Z"
   },
   {
    "duration": 1458,
    "start_time": "2021-09-03T21:24:11.783Z"
   },
   {
    "duration": 20,
    "start_time": "2021-09-03T21:24:13.243Z"
   },
   {
    "duration": 9,
    "start_time": "2021-09-03T21:24:13.265Z"
   },
   {
    "duration": 30,
    "start_time": "2021-09-03T21:24:13.276Z"
   },
   {
    "duration": 6,
    "start_time": "2021-09-03T21:24:13.308Z"
   },
   {
    "duration": 5,
    "start_time": "2021-09-03T21:24:13.316Z"
   },
   {
    "duration": 9,
    "start_time": "2021-09-03T21:24:13.323Z"
   },
   {
    "duration": 8,
    "start_time": "2021-09-03T21:24:13.334Z"
   },
   {
    "duration": 140,
    "start_time": "2021-09-03T21:24:13.344Z"
   },
   {
    "duration": 10,
    "start_time": "2021-09-03T21:24:13.485Z"
   },
   {
    "duration": 9,
    "start_time": "2021-09-03T21:24:13.497Z"
   },
   {
    "duration": 10,
    "start_time": "2021-09-03T21:24:13.507Z"
   },
   {
    "duration": 9,
    "start_time": "2021-09-03T21:24:13.519Z"
   },
   {
    "duration": 18,
    "start_time": "2021-09-03T21:24:13.531Z"
   },
   {
    "duration": 35,
    "start_time": "2021-09-03T21:24:13.551Z"
   },
   {
    "duration": 7,
    "start_time": "2021-09-03T21:24:13.588Z"
   },
   {
    "duration": 10,
    "start_time": "2021-09-03T21:24:13.597Z"
   },
   {
    "duration": 7,
    "start_time": "2021-09-03T21:24:13.609Z"
   },
   {
    "duration": 5,
    "start_time": "2021-09-03T21:24:13.618Z"
   },
   {
    "duration": 8,
    "start_time": "2021-09-03T21:24:13.625Z"
   },
   {
    "duration": 58,
    "start_time": "2021-09-03T21:24:13.635Z"
   },
   {
    "duration": 16,
    "start_time": "2021-09-03T21:24:13.695Z"
   },
   {
    "duration": 4,
    "start_time": "2021-09-03T21:24:13.714Z"
   },
   {
    "duration": 7,
    "start_time": "2021-09-03T21:24:13.720Z"
   },
   {
    "duration": 468,
    "start_time": "2021-09-03T21:24:13.728Z"
   },
   {
    "duration": 7,
    "start_time": "2021-09-03T21:26:54.864Z"
   },
   {
    "duration": 355,
    "start_time": "2021-09-03T21:27:17.060Z"
   },
   {
    "duration": 14,
    "start_time": "2021-09-03T21:27:26.103Z"
   },
   {
    "duration": 1250,
    "start_time": "2021-09-03T21:27:34.705Z"
   },
   {
    "duration": 18,
    "start_time": "2021-09-03T21:27:35.956Z"
   },
   {
    "duration": 10,
    "start_time": "2021-09-03T21:27:35.976Z"
   },
   {
    "duration": 28,
    "start_time": "2021-09-03T21:27:35.988Z"
   },
   {
    "duration": 5,
    "start_time": "2021-09-03T21:27:36.018Z"
   },
   {
    "duration": 10,
    "start_time": "2021-09-03T21:27:36.025Z"
   },
   {
    "duration": 10,
    "start_time": "2021-09-03T21:27:36.037Z"
   },
   {
    "duration": 11,
    "start_time": "2021-09-03T21:27:36.078Z"
   },
   {
    "duration": 78,
    "start_time": "2021-09-03T21:27:36.091Z"
   },
   {
    "duration": 9,
    "start_time": "2021-09-03T21:27:36.171Z"
   },
   {
    "duration": 14,
    "start_time": "2021-09-03T21:27:36.182Z"
   },
   {
    "duration": 8,
    "start_time": "2021-09-03T21:27:36.198Z"
   },
   {
    "duration": 9,
    "start_time": "2021-09-03T21:27:36.208Z"
   },
   {
    "duration": 26,
    "start_time": "2021-09-03T21:27:36.218Z"
   },
   {
    "duration": 10,
    "start_time": "2021-09-03T21:27:36.246Z"
   },
   {
    "duration": 25,
    "start_time": "2021-09-03T21:27:36.258Z"
   },
   {
    "duration": 10,
    "start_time": "2021-09-03T21:27:36.285Z"
   },
   {
    "duration": 12,
    "start_time": "2021-09-03T21:27:36.297Z"
   },
   {
    "duration": 7,
    "start_time": "2021-09-03T21:27:36.311Z"
   },
   {
    "duration": 9,
    "start_time": "2021-09-03T21:27:36.319Z"
   },
   {
    "duration": 14,
    "start_time": "2021-09-03T21:27:36.330Z"
   },
   {
    "duration": 16,
    "start_time": "2021-09-03T21:27:36.378Z"
   },
   {
    "duration": 6,
    "start_time": "2021-09-03T21:27:36.398Z"
   },
   {
    "duration": 7,
    "start_time": "2021-09-03T21:27:36.405Z"
   },
   {
    "duration": 12,
    "start_time": "2021-09-03T21:27:36.414Z"
   },
   {
    "duration": 6,
    "start_time": "2021-09-03T21:28:02.316Z"
   },
   {
    "duration": 10,
    "start_time": "2021-09-03T21:32:25.787Z"
   },
   {
    "duration": 13,
    "start_time": "2021-09-03T21:35:19.224Z"
   },
   {
    "duration": 5,
    "start_time": "2021-09-03T21:40:35.169Z"
   },
   {
    "duration": 7,
    "start_time": "2021-09-03T21:46:30.991Z"
   },
   {
    "duration": 445,
    "start_time": "2021-09-03T21:46:32.557Z"
   },
   {
    "duration": 1147,
    "start_time": "2021-09-03T21:47:43.312Z"
   },
   {
    "duration": 19,
    "start_time": "2021-09-03T21:47:44.461Z"
   },
   {
    "duration": 8,
    "start_time": "2021-09-03T21:47:44.482Z"
   },
   {
    "duration": 22,
    "start_time": "2021-09-03T21:47:44.492Z"
   },
   {
    "duration": 6,
    "start_time": "2021-09-03T21:47:44.516Z"
   },
   {
    "duration": 5,
    "start_time": "2021-09-03T21:47:44.524Z"
   },
   {
    "duration": 46,
    "start_time": "2021-09-03T21:47:44.531Z"
   },
   {
    "duration": 10,
    "start_time": "2021-09-03T21:47:44.580Z"
   },
   {
    "duration": 66,
    "start_time": "2021-09-03T21:47:44.593Z"
   },
   {
    "duration": 9,
    "start_time": "2021-09-03T21:47:44.661Z"
   },
   {
    "duration": 8,
    "start_time": "2021-09-03T21:47:44.672Z"
   },
   {
    "duration": 9,
    "start_time": "2021-09-03T21:47:44.682Z"
   },
   {
    "duration": 7,
    "start_time": "2021-09-03T21:47:44.693Z"
   },
   {
    "duration": 19,
    "start_time": "2021-09-03T21:47:44.702Z"
   },
   {
    "duration": 11,
    "start_time": "2021-09-03T21:47:44.723Z"
   },
   {
    "duration": 7,
    "start_time": "2021-09-03T21:47:44.736Z"
   },
   {
    "duration": 35,
    "start_time": "2021-09-03T21:47:44.745Z"
   },
   {
    "duration": 7,
    "start_time": "2021-09-03T21:47:44.782Z"
   },
   {
    "duration": 8,
    "start_time": "2021-09-03T21:47:44.791Z"
   },
   {
    "duration": 630,
    "start_time": "2021-09-03T21:47:44.800Z"
   },
   {
    "duration": -170,
    "start_time": "2021-09-03T21:47:45.602Z"
   },
   {
    "duration": -175,
    "start_time": "2021-09-03T21:47:45.608Z"
   },
   {
    "duration": -178,
    "start_time": "2021-09-03T21:47:45.613Z"
   },
   {
    "duration": -185,
    "start_time": "2021-09-03T21:47:45.621Z"
   },
   {
    "duration": -190,
    "start_time": "2021-09-03T21:47:45.628Z"
   },
   {
    "duration": 424,
    "start_time": "2021-09-03T21:47:59.259Z"
   },
   {
    "duration": 1667,
    "start_time": "2021-09-03T21:48:05.619Z"
   },
   {
    "duration": 12,
    "start_time": "2021-09-03T21:48:47.150Z"
   },
   {
    "duration": 8,
    "start_time": "2021-09-03T21:48:58.897Z"
   },
   {
    "duration": 9,
    "start_time": "2021-09-03T21:49:09.429Z"
   },
   {
    "duration": 7,
    "start_time": "2021-09-03T21:49:24.385Z"
   },
   {
    "duration": 7,
    "start_time": "2021-09-03T21:49:36.697Z"
   },
   {
    "duration": 4,
    "start_time": "2021-09-04T13:09:32.557Z"
   },
   {
    "duration": 3,
    "start_time": "2021-09-04T13:10:07.555Z"
   },
   {
    "duration": 7,
    "start_time": "2021-09-04T13:10:17.029Z"
   },
   {
    "duration": 6,
    "start_time": "2021-09-04T13:10:29.852Z"
   },
   {
    "duration": 10,
    "start_time": "2021-09-04T13:10:38.989Z"
   },
   {
    "duration": 9,
    "start_time": "2021-09-04T13:10:53.059Z"
   },
   {
    "duration": 7,
    "start_time": "2021-09-04T13:11:18.592Z"
   },
   {
    "duration": 6,
    "start_time": "2021-09-04T13:16:22.194Z"
   },
   {
    "duration": 12,
    "start_time": "2021-09-04T13:16:54.785Z"
   },
   {
    "duration": 16,
    "start_time": "2021-09-04T13:21:14.696Z"
   },
   {
    "duration": 5,
    "start_time": "2021-09-04T13:21:47.250Z"
   },
   {
    "duration": 6,
    "start_time": "2021-09-04T13:22:32.184Z"
   },
   {
    "duration": 6,
    "start_time": "2021-09-04T13:22:38.521Z"
   },
   {
    "duration": 1233,
    "start_time": "2021-09-04T13:22:48.736Z"
   },
   {
    "duration": 20,
    "start_time": "2021-09-04T13:22:49.971Z"
   },
   {
    "duration": 16,
    "start_time": "2021-09-04T13:22:49.994Z"
   },
   {
    "duration": 30,
    "start_time": "2021-09-04T13:22:50.013Z"
   },
   {
    "duration": 7,
    "start_time": "2021-09-04T13:22:50.046Z"
   },
   {
    "duration": 21,
    "start_time": "2021-09-04T13:22:50.056Z"
   },
   {
    "duration": 21,
    "start_time": "2021-09-04T13:22:50.079Z"
   },
   {
    "duration": 9,
    "start_time": "2021-09-04T13:22:50.102Z"
   },
   {
    "duration": 91,
    "start_time": "2021-09-04T13:22:50.114Z"
   },
   {
    "duration": 9,
    "start_time": "2021-09-04T13:22:50.207Z"
   },
   {
    "duration": 23,
    "start_time": "2021-09-04T13:22:50.218Z"
   },
   {
    "duration": 20,
    "start_time": "2021-09-04T13:22:50.242Z"
   },
   {
    "duration": 28,
    "start_time": "2021-09-04T13:22:50.264Z"
   },
   {
    "duration": 9,
    "start_time": "2021-09-04T13:22:50.294Z"
   },
   {
    "duration": 19,
    "start_time": "2021-09-04T13:22:50.305Z"
   },
   {
    "duration": 18,
    "start_time": "2021-09-04T13:22:50.326Z"
   },
   {
    "duration": 12,
    "start_time": "2021-09-04T13:22:50.346Z"
   },
   {
    "duration": 31,
    "start_time": "2021-09-04T13:22:50.360Z"
   },
   {
    "duration": 16,
    "start_time": "2021-09-04T13:22:50.393Z"
   },
   {
    "duration": 38,
    "start_time": "2021-09-04T13:22:50.411Z"
   },
   {
    "duration": 12,
    "start_time": "2021-09-04T13:22:50.451Z"
   },
   {
    "duration": 8,
    "start_time": "2021-09-04T13:22:50.466Z"
   },
   {
    "duration": 8,
    "start_time": "2021-09-04T13:22:50.478Z"
   },
   {
    "duration": 26,
    "start_time": "2021-09-04T13:22:50.489Z"
   },
   {
    "duration": 13,
    "start_time": "2021-09-04T13:22:50.517Z"
   },
   {
    "duration": 12,
    "start_time": "2021-09-04T13:22:50.531Z"
   },
   {
    "duration": 13,
    "start_time": "2021-09-04T13:22:50.545Z"
   },
   {
    "duration": 9,
    "start_time": "2021-09-04T13:22:50.560Z"
   },
   {
    "duration": 28,
    "start_time": "2021-09-04T13:22:50.571Z"
   },
   {
    "duration": 12,
    "start_time": "2021-09-04T13:24:31.561Z"
   },
   {
    "duration": 6,
    "start_time": "2021-09-04T13:24:33.691Z"
   },
   {
    "duration": 12,
    "start_time": "2021-09-04T13:25:14.106Z"
   },
   {
    "duration": 5,
    "start_time": "2021-09-04T13:25:16.146Z"
   },
   {
    "duration": 1381,
    "start_time": "2021-09-04T13:25:53.493Z"
   },
   {
    "duration": 20,
    "start_time": "2021-09-04T13:25:54.877Z"
   },
   {
    "duration": 13,
    "start_time": "2021-09-04T13:25:54.899Z"
   },
   {
    "duration": 40,
    "start_time": "2021-09-04T13:25:54.914Z"
   },
   {
    "duration": 12,
    "start_time": "2021-09-04T13:25:54.955Z"
   },
   {
    "duration": 22,
    "start_time": "2021-09-04T13:25:54.968Z"
   },
   {
    "duration": 21,
    "start_time": "2021-09-04T13:25:54.992Z"
   },
   {
    "duration": 15,
    "start_time": "2021-09-04T13:25:55.015Z"
   },
   {
    "duration": 86,
    "start_time": "2021-09-04T13:25:55.033Z"
   },
   {
    "duration": 9,
    "start_time": "2021-09-04T13:25:55.121Z"
   },
   {
    "duration": 13,
    "start_time": "2021-09-04T13:25:55.132Z"
   },
   {
    "duration": 10,
    "start_time": "2021-09-04T13:25:55.146Z"
   },
   {
    "duration": 13,
    "start_time": "2021-09-04T13:25:55.158Z"
   },
   {
    "duration": 12,
    "start_time": "2021-09-04T13:25:55.173Z"
   },
   {
    "duration": 13,
    "start_time": "2021-09-04T13:25:55.187Z"
   },
   {
    "duration": 8,
    "start_time": "2021-09-04T13:25:55.202Z"
   },
   {
    "duration": 7,
    "start_time": "2021-09-04T13:25:55.212Z"
   },
   {
    "duration": 11,
    "start_time": "2021-09-04T13:25:55.220Z"
   },
   {
    "duration": 14,
    "start_time": "2021-09-04T13:25:55.233Z"
   },
   {
    "duration": 42,
    "start_time": "2021-09-04T13:25:55.249Z"
   },
   {
    "duration": 13,
    "start_time": "2021-09-04T13:25:55.293Z"
   },
   {
    "duration": 15,
    "start_time": "2021-09-04T13:25:55.308Z"
   },
   {
    "duration": 13,
    "start_time": "2021-09-04T13:25:55.326Z"
   },
   {
    "duration": 15,
    "start_time": "2021-09-04T13:25:55.341Z"
   },
   {
    "duration": 24,
    "start_time": "2021-09-04T13:25:55.357Z"
   },
   {
    "duration": 27,
    "start_time": "2021-09-04T13:25:55.383Z"
   },
   {
    "duration": 6,
    "start_time": "2021-09-04T13:25:55.413Z"
   },
   {
    "duration": 20,
    "start_time": "2021-09-04T13:25:55.420Z"
   },
   {
    "duration": 5,
    "start_time": "2021-09-04T13:25:55.442Z"
   },
   {
    "duration": 8,
    "start_time": "2021-09-04T13:29:09.191Z"
   },
   {
    "duration": 6,
    "start_time": "2021-09-04T13:29:26.914Z"
   },
   {
    "duration": 7,
    "start_time": "2021-09-04T13:29:31.029Z"
   },
   {
    "duration": 6,
    "start_time": "2021-09-04T13:31:06.035Z"
   },
   {
    "duration": 485,
    "start_time": "2021-09-04T13:31:40.980Z"
   },
   {
    "duration": 1417,
    "start_time": "2021-09-04T13:32:04.250Z"
   },
   {
    "duration": 20,
    "start_time": "2021-09-04T13:32:05.669Z"
   },
   {
    "duration": 16,
    "start_time": "2021-09-04T13:32:05.693Z"
   },
   {
    "duration": 30,
    "start_time": "2021-09-04T13:32:05.711Z"
   },
   {
    "duration": 9,
    "start_time": "2021-09-04T13:32:05.743Z"
   },
   {
    "duration": 11,
    "start_time": "2021-09-04T13:32:05.754Z"
   },
   {
    "duration": 23,
    "start_time": "2021-09-04T13:32:05.767Z"
   },
   {
    "duration": 10,
    "start_time": "2021-09-04T13:32:05.794Z"
   },
   {
    "duration": 83,
    "start_time": "2021-09-04T13:32:05.807Z"
   },
   {
    "duration": 10,
    "start_time": "2021-09-04T13:32:05.892Z"
   },
   {
    "duration": 23,
    "start_time": "2021-09-04T13:32:05.904Z"
   },
   {
    "duration": 13,
    "start_time": "2021-09-04T13:32:05.929Z"
   },
   {
    "duration": 12,
    "start_time": "2021-09-04T13:32:05.945Z"
   },
   {
    "duration": 12,
    "start_time": "2021-09-04T13:32:05.959Z"
   },
   {
    "duration": 12,
    "start_time": "2021-09-04T13:32:05.973Z"
   },
   {
    "duration": 11,
    "start_time": "2021-09-04T13:32:05.987Z"
   },
   {
    "duration": 14,
    "start_time": "2021-09-04T13:32:06.000Z"
   },
   {
    "duration": 17,
    "start_time": "2021-09-04T13:32:06.016Z"
   },
   {
    "duration": 10,
    "start_time": "2021-09-04T13:32:06.035Z"
   },
   {
    "duration": 19,
    "start_time": "2021-09-04T13:32:06.047Z"
   },
   {
    "duration": 19,
    "start_time": "2021-09-04T13:32:06.067Z"
   },
   {
    "duration": 11,
    "start_time": "2021-09-04T13:32:06.088Z"
   },
   {
    "duration": 6,
    "start_time": "2021-09-04T13:32:06.102Z"
   },
   {
    "duration": 9,
    "start_time": "2021-09-04T13:32:06.110Z"
   },
   {
    "duration": 8,
    "start_time": "2021-09-04T13:32:06.121Z"
   },
   {
    "duration": 6,
    "start_time": "2021-09-04T13:32:06.131Z"
   },
   {
    "duration": 42,
    "start_time": "2021-09-04T13:32:06.139Z"
   },
   {
    "duration": 16,
    "start_time": "2021-09-04T13:32:06.183Z"
   },
   {
    "duration": 459,
    "start_time": "2021-09-04T13:32:06.200Z"
   },
   {
    "duration": -152,
    "start_time": "2021-09-04T13:32:06.813Z"
   },
   {
    "duration": 1252,
    "start_time": "2021-09-04T13:32:45.205Z"
   },
   {
    "duration": 19,
    "start_time": "2021-09-04T13:32:46.459Z"
   },
   {
    "duration": 11,
    "start_time": "2021-09-04T13:32:46.481Z"
   },
   {
    "duration": 25,
    "start_time": "2021-09-04T13:32:46.494Z"
   },
   {
    "duration": 6,
    "start_time": "2021-09-04T13:32:46.521Z"
   },
   {
    "duration": 5,
    "start_time": "2021-09-04T13:32:46.530Z"
   },
   {
    "duration": 48,
    "start_time": "2021-09-04T13:32:46.537Z"
   },
   {
    "duration": 10,
    "start_time": "2021-09-04T13:32:46.591Z"
   },
   {
    "duration": 58,
    "start_time": "2021-09-04T13:32:46.604Z"
   },
   {
    "duration": 9,
    "start_time": "2021-09-04T13:32:46.664Z"
   },
   {
    "duration": 15,
    "start_time": "2021-09-04T13:32:46.675Z"
   },
   {
    "duration": 9,
    "start_time": "2021-09-04T13:32:46.693Z"
   },
   {
    "duration": 7,
    "start_time": "2021-09-04T13:32:46.705Z"
   },
   {
    "duration": 8,
    "start_time": "2021-09-04T13:32:46.714Z"
   },
   {
    "duration": 9,
    "start_time": "2021-09-04T13:32:46.723Z"
   },
   {
    "duration": 9,
    "start_time": "2021-09-04T13:32:46.734Z"
   },
   {
    "duration": 9,
    "start_time": "2021-09-04T13:32:46.777Z"
   },
   {
    "duration": 12,
    "start_time": "2021-09-04T13:32:46.788Z"
   },
   {
    "duration": 8,
    "start_time": "2021-09-04T13:32:46.803Z"
   },
   {
    "duration": 18,
    "start_time": "2021-09-04T13:32:46.813Z"
   },
   {
    "duration": 44,
    "start_time": "2021-09-04T13:32:46.833Z"
   },
   {
    "duration": 9,
    "start_time": "2021-09-04T13:32:46.880Z"
   },
   {
    "duration": 7,
    "start_time": "2021-09-04T13:32:46.894Z"
   },
   {
    "duration": 10,
    "start_time": "2021-09-04T13:32:46.903Z"
   },
   {
    "duration": 7,
    "start_time": "2021-09-04T13:32:46.915Z"
   },
   {
    "duration": 5,
    "start_time": "2021-09-04T13:32:46.924Z"
   },
   {
    "duration": 47,
    "start_time": "2021-09-04T13:32:46.930Z"
   },
   {
    "duration": 472,
    "start_time": "2021-09-04T13:32:46.980Z"
   },
   {
    "duration": -108,
    "start_time": "2021-09-04T13:32:47.563Z"
   },
   {
    "duration": 1662,
    "start_time": "2021-09-04T13:34:04.102Z"
   },
   {
    "duration": 21,
    "start_time": "2021-09-04T13:34:05.767Z"
   },
   {
    "duration": 10,
    "start_time": "2021-09-04T13:34:05.792Z"
   },
   {
    "duration": 28,
    "start_time": "2021-09-04T13:34:05.805Z"
   },
   {
    "duration": 9,
    "start_time": "2021-09-04T13:34:05.835Z"
   },
   {
    "duration": 28,
    "start_time": "2021-09-04T13:34:05.847Z"
   },
   {
    "duration": 18,
    "start_time": "2021-09-04T13:34:05.878Z"
   },
   {
    "duration": 12,
    "start_time": "2021-09-04T13:34:05.899Z"
   },
   {
    "duration": 59,
    "start_time": "2021-09-04T13:34:05.919Z"
   },
   {
    "duration": 12,
    "start_time": "2021-09-04T13:34:05.980Z"
   },
   {
    "duration": 16,
    "start_time": "2021-09-04T13:34:05.994Z"
   },
   {
    "duration": 15,
    "start_time": "2021-09-04T13:34:06.013Z"
   },
   {
    "duration": 9,
    "start_time": "2021-09-04T13:34:06.030Z"
   },
   {
    "duration": 35,
    "start_time": "2021-09-04T13:34:06.041Z"
   },
   {
    "duration": 6,
    "start_time": "2021-09-04T13:34:06.079Z"
   },
   {
    "duration": 11,
    "start_time": "2021-09-04T13:34:06.088Z"
   },
   {
    "duration": 9,
    "start_time": "2021-09-04T13:34:06.102Z"
   },
   {
    "duration": 15,
    "start_time": "2021-09-04T13:34:06.113Z"
   },
   {
    "duration": 15,
    "start_time": "2021-09-04T13:34:06.130Z"
   },
   {
    "duration": 53,
    "start_time": "2021-09-04T13:34:06.147Z"
   },
   {
    "duration": 13,
    "start_time": "2021-09-04T13:34:06.202Z"
   },
   {
    "duration": 14,
    "start_time": "2021-09-04T13:34:06.217Z"
   },
   {
    "duration": 11,
    "start_time": "2021-09-04T13:34:06.234Z"
   },
   {
    "duration": 20,
    "start_time": "2021-09-04T13:34:06.247Z"
   },
   {
    "duration": 13,
    "start_time": "2021-09-04T13:34:06.278Z"
   },
   {
    "duration": 9,
    "start_time": "2021-09-04T13:34:06.293Z"
   },
   {
    "duration": 6,
    "start_time": "2021-09-04T13:34:06.305Z"
   },
   {
    "duration": 470,
    "start_time": "2021-09-04T13:34:06.313Z"
   },
   {
    "duration": -148,
    "start_time": "2021-09-04T13:34:06.933Z"
   },
   {
    "duration": 13,
    "start_time": "2021-09-04T13:34:17.978Z"
   },
   {
    "duration": 5,
    "start_time": "2021-09-04T13:34:20.501Z"
   },
   {
    "duration": 4,
    "start_time": "2021-09-04T13:36:26.971Z"
   },
   {
    "duration": 6,
    "start_time": "2021-09-04T13:36:28.579Z"
   },
   {
    "duration": 1219,
    "start_time": "2021-09-04T13:36:48.123Z"
   },
   {
    "duration": 19,
    "start_time": "2021-09-04T13:36:49.344Z"
   },
   {
    "duration": 7,
    "start_time": "2021-09-04T13:36:49.366Z"
   },
   {
    "duration": 34,
    "start_time": "2021-09-04T13:36:49.375Z"
   },
   {
    "duration": 7,
    "start_time": "2021-09-04T13:36:49.411Z"
   },
   {
    "duration": 7,
    "start_time": "2021-09-04T13:36:49.419Z"
   },
   {
    "duration": 12,
    "start_time": "2021-09-04T13:36:49.429Z"
   },
   {
    "duration": 40,
    "start_time": "2021-09-04T13:36:49.444Z"
   },
   {
    "duration": 55,
    "start_time": "2021-09-04T13:36:49.488Z"
   },
   {
    "duration": 10,
    "start_time": "2021-09-04T13:36:49.545Z"
   },
   {
    "duration": 15,
    "start_time": "2021-09-04T13:36:49.557Z"
   },
   {
    "duration": 12,
    "start_time": "2021-09-04T13:36:49.574Z"
   },
   {
    "duration": 11,
    "start_time": "2021-09-04T13:36:49.589Z"
   },
   {
    "duration": 8,
    "start_time": "2021-09-04T13:36:49.602Z"
   },
   {
    "duration": 10,
    "start_time": "2021-09-04T13:36:49.613Z"
   },
   {
    "duration": 21,
    "start_time": "2021-09-04T13:36:49.625Z"
   },
   {
    "duration": 11,
    "start_time": "2021-09-04T13:36:49.648Z"
   },
   {
    "duration": 23,
    "start_time": "2021-09-04T13:36:49.661Z"
   },
   {
    "duration": 12,
    "start_time": "2021-09-04T13:36:49.688Z"
   },
   {
    "duration": 23,
    "start_time": "2021-09-04T13:36:49.702Z"
   },
   {
    "duration": 12,
    "start_time": "2021-09-04T13:36:49.726Z"
   },
   {
    "duration": 6,
    "start_time": "2021-09-04T13:36:49.740Z"
   },
   {
    "duration": 33,
    "start_time": "2021-09-04T13:36:49.749Z"
   },
   {
    "duration": 8,
    "start_time": "2021-09-04T13:36:49.785Z"
   },
   {
    "duration": 8,
    "start_time": "2021-09-04T13:36:49.795Z"
   },
   {
    "duration": 5,
    "start_time": "2021-09-04T13:36:49.805Z"
   },
   {
    "duration": 8,
    "start_time": "2021-09-04T13:36:49.811Z"
   },
   {
    "duration": 5,
    "start_time": "2021-09-04T13:39:59.535Z"
   },
   {
    "duration": 6,
    "start_time": "2021-09-04T13:40:01.615Z"
   },
   {
    "duration": 1307,
    "start_time": "2021-09-04T13:40:10.755Z"
   },
   {
    "duration": 22,
    "start_time": "2021-09-04T13:40:12.064Z"
   },
   {
    "duration": 8,
    "start_time": "2021-09-04T13:40:12.089Z"
   },
   {
    "duration": 29,
    "start_time": "2021-09-04T13:40:12.099Z"
   },
   {
    "duration": 7,
    "start_time": "2021-09-04T13:40:12.130Z"
   },
   {
    "duration": 6,
    "start_time": "2021-09-04T13:40:12.138Z"
   },
   {
    "duration": 32,
    "start_time": "2021-09-04T13:40:12.146Z"
   },
   {
    "duration": 16,
    "start_time": "2021-09-04T13:40:12.182Z"
   },
   {
    "duration": 57,
    "start_time": "2021-09-04T13:40:12.201Z"
   },
   {
    "duration": 10,
    "start_time": "2021-09-04T13:40:12.260Z"
   },
   {
    "duration": 12,
    "start_time": "2021-09-04T13:40:12.273Z"
   },
   {
    "duration": 10,
    "start_time": "2021-09-04T13:40:12.288Z"
   },
   {
    "duration": 8,
    "start_time": "2021-09-04T13:40:12.301Z"
   },
   {
    "duration": 21,
    "start_time": "2021-09-04T13:40:12.311Z"
   },
   {
    "duration": 44,
    "start_time": "2021-09-04T13:40:12.334Z"
   },
   {
    "duration": 8,
    "start_time": "2021-09-04T13:40:12.380Z"
   },
   {
    "duration": 10,
    "start_time": "2021-09-04T13:40:12.390Z"
   },
   {
    "duration": 8,
    "start_time": "2021-09-04T13:40:12.403Z"
   },
   {
    "duration": 9,
    "start_time": "2021-09-04T13:40:12.413Z"
   },
   {
    "duration": 6,
    "start_time": "2021-09-04T13:40:12.424Z"
   },
   {
    "duration": 47,
    "start_time": "2021-09-04T13:40:12.432Z"
   },
   {
    "duration": 8,
    "start_time": "2021-09-04T13:40:12.481Z"
   },
   {
    "duration": 9,
    "start_time": "2021-09-04T13:40:12.494Z"
   },
   {
    "duration": 6,
    "start_time": "2021-09-04T13:40:12.505Z"
   },
   {
    "duration": 7,
    "start_time": "2021-09-04T13:40:12.513Z"
   },
   {
    "duration": 1193,
    "start_time": "2021-09-04T13:42:49.642Z"
   },
   {
    "duration": 18,
    "start_time": "2021-09-04T13:42:50.837Z"
   },
   {
    "duration": 8,
    "start_time": "2021-09-04T13:42:50.858Z"
   },
   {
    "duration": 29,
    "start_time": "2021-09-04T13:42:50.868Z"
   },
   {
    "duration": 6,
    "start_time": "2021-09-04T13:42:50.899Z"
   },
   {
    "duration": 10,
    "start_time": "2021-09-04T13:42:50.907Z"
   },
   {
    "duration": 15,
    "start_time": "2021-09-04T13:42:50.918Z"
   },
   {
    "duration": 8,
    "start_time": "2021-09-04T13:42:50.936Z"
   },
   {
    "duration": 61,
    "start_time": "2021-09-04T13:42:50.946Z"
   },
   {
    "duration": 9,
    "start_time": "2021-09-04T13:42:51.009Z"
   },
   {
    "duration": 10,
    "start_time": "2021-09-04T13:42:51.020Z"
   },
   {
    "duration": 10,
    "start_time": "2021-09-04T13:42:51.031Z"
   },
   {
    "duration": 9,
    "start_time": "2021-09-04T13:42:51.042Z"
   },
   {
    "duration": 20,
    "start_time": "2021-09-04T13:42:51.053Z"
   },
   {
    "duration": 22,
    "start_time": "2021-09-04T13:42:51.075Z"
   },
   {
    "duration": 7,
    "start_time": "2021-09-04T13:42:51.098Z"
   },
   {
    "duration": 12,
    "start_time": "2021-09-04T13:42:51.107Z"
   },
   {
    "duration": 10,
    "start_time": "2021-09-04T13:42:51.122Z"
   },
   {
    "duration": 9,
    "start_time": "2021-09-04T13:42:51.135Z"
   },
   {
    "duration": 36,
    "start_time": "2021-09-04T13:42:51.146Z"
   },
   {
    "duration": 6,
    "start_time": "2021-09-04T13:42:51.185Z"
   },
   {
    "duration": 17,
    "start_time": "2021-09-04T13:42:51.193Z"
   },
   {
    "duration": 5,
    "start_time": "2021-09-04T13:42:51.213Z"
   },
   {
    "duration": 8,
    "start_time": "2021-09-04T13:42:51.219Z"
   },
   {
    "duration": 4,
    "start_time": "2021-09-04T13:42:51.229Z"
   },
   {
    "duration": 6,
    "start_time": "2021-09-04T13:43:19.284Z"
   },
   {
    "duration": 6,
    "start_time": "2021-09-04T13:43:21.043Z"
   },
   {
    "duration": 1271,
    "start_time": "2021-09-04T13:43:29.212Z"
   },
   {
    "duration": 19,
    "start_time": "2021-09-04T13:43:30.486Z"
   },
   {
    "duration": 25,
    "start_time": "2021-09-04T13:43:30.507Z"
   },
   {
    "duration": 56,
    "start_time": "2021-09-04T13:43:30.534Z"
   },
   {
    "duration": 7,
    "start_time": "2021-09-04T13:43:30.592Z"
   },
   {
    "duration": 24,
    "start_time": "2021-09-04T13:43:30.601Z"
   },
   {
    "duration": 26,
    "start_time": "2021-09-04T13:43:30.627Z"
   },
   {
    "duration": 15,
    "start_time": "2021-09-04T13:43:30.657Z"
   },
   {
    "duration": 70,
    "start_time": "2021-09-04T13:43:30.675Z"
   },
   {
    "duration": 14,
    "start_time": "2021-09-04T13:43:30.747Z"
   },
   {
    "duration": 22,
    "start_time": "2021-09-04T13:43:30.764Z"
   },
   {
    "duration": 21,
    "start_time": "2021-09-04T13:43:30.789Z"
   },
   {
    "duration": 22,
    "start_time": "2021-09-04T13:43:30.813Z"
   },
   {
    "duration": 34,
    "start_time": "2021-09-04T13:43:30.838Z"
   },
   {
    "duration": 32,
    "start_time": "2021-09-04T13:43:30.875Z"
   },
   {
    "duration": 26,
    "start_time": "2021-09-04T13:43:30.910Z"
   },
   {
    "duration": 52,
    "start_time": "2021-09-04T13:43:30.938Z"
   },
   {
    "duration": 17,
    "start_time": "2021-09-04T13:43:30.992Z"
   },
   {
    "duration": 20,
    "start_time": "2021-09-04T13:43:31.011Z"
   },
   {
    "duration": 17,
    "start_time": "2021-09-04T13:43:31.033Z"
   },
   {
    "duration": 22,
    "start_time": "2021-09-04T13:43:31.052Z"
   },
   {
    "duration": 21,
    "start_time": "2021-09-04T13:43:31.078Z"
   },
   {
    "duration": 26,
    "start_time": "2021-09-04T13:43:31.103Z"
   },
   {
    "duration": 26,
    "start_time": "2021-09-04T13:43:31.131Z"
   },
   {
    "duration": 27,
    "start_time": "2021-09-04T13:43:31.159Z"
   },
   {
    "duration": 10,
    "start_time": "2021-09-04T13:43:44.089Z"
   },
   {
    "duration": 1226,
    "start_time": "2021-09-04T13:44:04.842Z"
   },
   {
    "duration": 24,
    "start_time": "2021-09-04T13:44:06.070Z"
   },
   {
    "duration": 7,
    "start_time": "2021-09-04T13:44:06.096Z"
   },
   {
    "duration": 28,
    "start_time": "2021-09-04T13:44:06.105Z"
   },
   {
    "duration": 6,
    "start_time": "2021-09-04T13:44:06.135Z"
   },
   {
    "duration": 11,
    "start_time": "2021-09-04T13:44:06.143Z"
   },
   {
    "duration": 23,
    "start_time": "2021-09-04T13:44:06.155Z"
   },
   {
    "duration": 17,
    "start_time": "2021-09-04T13:44:06.181Z"
   },
   {
    "duration": 55,
    "start_time": "2021-09-04T13:44:06.201Z"
   },
   {
    "duration": 10,
    "start_time": "2021-09-04T13:44:06.258Z"
   },
   {
    "duration": 22,
    "start_time": "2021-09-04T13:44:06.270Z"
   },
   {
    "duration": 8,
    "start_time": "2021-09-04T13:44:06.294Z"
   },
   {
    "duration": 12,
    "start_time": "2021-09-04T13:44:06.304Z"
   },
   {
    "duration": 22,
    "start_time": "2021-09-04T13:44:06.318Z"
   },
   {
    "duration": 13,
    "start_time": "2021-09-04T13:44:06.341Z"
   },
   {
    "duration": 31,
    "start_time": "2021-09-04T13:44:06.355Z"
   },
   {
    "duration": 7,
    "start_time": "2021-09-04T13:44:06.388Z"
   },
   {
    "duration": 8,
    "start_time": "2021-09-04T13:44:06.396Z"
   },
   {
    "duration": 9,
    "start_time": "2021-09-04T13:44:06.406Z"
   },
   {
    "duration": 5,
    "start_time": "2021-09-04T13:44:06.417Z"
   },
   {
    "duration": 11,
    "start_time": "2021-09-04T13:44:06.424Z"
   },
   {
    "duration": 7,
    "start_time": "2021-09-04T13:44:06.437Z"
   },
   {
    "duration": 8,
    "start_time": "2021-09-04T13:44:06.485Z"
   },
   {
    "duration": 17,
    "start_time": "2021-09-04T13:44:06.495Z"
   },
   {
    "duration": 11,
    "start_time": "2021-09-04T13:44:06.514Z"
   },
   {
    "duration": 15,
    "start_time": "2021-09-04T13:44:06.527Z"
   },
   {
    "duration": 1266,
    "start_time": "2021-09-04T13:44:19.790Z"
   },
   {
    "duration": 20,
    "start_time": "2021-09-04T13:44:21.059Z"
   },
   {
    "duration": 9,
    "start_time": "2021-09-04T13:44:21.082Z"
   },
   {
    "duration": 28,
    "start_time": "2021-09-04T13:44:21.093Z"
   },
   {
    "duration": 7,
    "start_time": "2021-09-04T13:44:21.123Z"
   },
   {
    "duration": 7,
    "start_time": "2021-09-04T13:44:21.132Z"
   },
   {
    "duration": 42,
    "start_time": "2021-09-04T13:44:21.141Z"
   },
   {
    "duration": 12,
    "start_time": "2021-09-04T13:44:21.189Z"
   },
   {
    "duration": 58,
    "start_time": "2021-09-04T13:44:21.204Z"
   },
   {
    "duration": 9,
    "start_time": "2021-09-04T13:44:21.264Z"
   },
   {
    "duration": 14,
    "start_time": "2021-09-04T13:44:21.275Z"
   },
   {
    "duration": 8,
    "start_time": "2021-09-04T13:44:21.291Z"
   },
   {
    "duration": 10,
    "start_time": "2021-09-04T13:44:21.301Z"
   },
   {
    "duration": 21,
    "start_time": "2021-09-04T13:44:21.313Z"
   },
   {
    "duration": 48,
    "start_time": "2021-09-04T13:44:21.336Z"
   },
   {
    "duration": 7,
    "start_time": "2021-09-04T13:44:21.387Z"
   },
   {
    "duration": 11,
    "start_time": "2021-09-04T13:44:21.397Z"
   },
   {
    "duration": 11,
    "start_time": "2021-09-04T13:44:21.410Z"
   },
   {
    "duration": 9,
    "start_time": "2021-09-04T13:44:21.423Z"
   },
   {
    "duration": 6,
    "start_time": "2021-09-04T13:44:21.434Z"
   },
   {
    "duration": 44,
    "start_time": "2021-09-04T13:44:21.442Z"
   },
   {
    "duration": 9,
    "start_time": "2021-09-04T13:44:21.489Z"
   },
   {
    "duration": 6,
    "start_time": "2021-09-04T13:44:21.502Z"
   },
   {
    "duration": 10,
    "start_time": "2021-09-04T13:44:21.511Z"
   },
   {
    "duration": 7,
    "start_time": "2021-09-04T13:44:21.524Z"
   },
   {
    "duration": 6,
    "start_time": "2021-09-04T13:44:21.533Z"
   },
   {
    "duration": 7,
    "start_time": "2021-09-04T13:44:59.118Z"
   },
   {
    "duration": 10,
    "start_time": "2021-09-04T13:45:19.082Z"
   },
   {
    "duration": 7,
    "start_time": "2021-09-04T13:45:34.024Z"
   },
   {
    "duration": 11,
    "start_time": "2021-09-04T13:46:09.633Z"
   },
   {
    "duration": 8,
    "start_time": "2021-09-04T13:46:17.197Z"
   },
   {
    "duration": 9346,
    "start_time": "2021-09-04T14:21:56.404Z"
   },
   {
    "duration": 9418,
    "start_time": "2021-09-04T14:25:23.543Z"
   },
   {
    "duration": 768,
    "start_time": "2021-09-04T14:25:47.267Z"
   },
   {
    "duration": 740,
    "start_time": "2021-09-04T14:25:56.304Z"
   },
   {
    "duration": 397,
    "start_time": "2021-09-04T14:26:08.745Z"
   },
   {
    "duration": 329,
    "start_time": "2021-09-04T14:31:31.450Z"
   },
   {
    "duration": 377,
    "start_time": "2021-09-04T14:47:25.738Z"
   },
   {
    "duration": 215,
    "start_time": "2021-09-04T14:47:42.112Z"
   },
   {
    "duration": 225,
    "start_time": "2021-09-04T14:47:50.410Z"
   },
   {
    "duration": 277,
    "start_time": "2021-09-04T14:48:00.688Z"
   },
   {
    "duration": 242,
    "start_time": "2021-09-04T14:51:37.070Z"
   },
   {
    "duration": 505,
    "start_time": "2021-09-04T14:54:19.229Z"
   },
   {
    "duration": 565,
    "start_time": "2021-09-04T14:54:31.213Z"
   },
   {
    "duration": 213,
    "start_time": "2021-09-04T14:56:48.458Z"
   },
   {
    "duration": 653,
    "start_time": "2021-09-04T14:57:33.686Z"
   },
   {
    "duration": 375,
    "start_time": "2021-09-04T14:58:20.426Z"
   },
   {
    "duration": 1205,
    "start_time": "2021-09-04T14:58:34.223Z"
   },
   {
    "duration": 18,
    "start_time": "2021-09-04T14:58:35.430Z"
   },
   {
    "duration": 10,
    "start_time": "2021-09-04T14:58:35.451Z"
   },
   {
    "duration": 25,
    "start_time": "2021-09-04T14:58:35.463Z"
   },
   {
    "duration": 6,
    "start_time": "2021-09-04T14:58:35.490Z"
   },
   {
    "duration": 8,
    "start_time": "2021-09-04T14:58:35.498Z"
   },
   {
    "duration": 10,
    "start_time": "2021-09-04T14:58:35.508Z"
   },
   {
    "duration": 8,
    "start_time": "2021-09-04T14:58:35.521Z"
   },
   {
    "duration": 88,
    "start_time": "2021-09-04T14:58:35.531Z"
   },
   {
    "duration": 8,
    "start_time": "2021-09-04T14:58:35.621Z"
   },
   {
    "duration": 9,
    "start_time": "2021-09-04T14:58:35.630Z"
   },
   {
    "duration": 8,
    "start_time": "2021-09-04T14:58:35.641Z"
   },
   {
    "duration": 9,
    "start_time": "2021-09-04T14:58:35.651Z"
   },
   {
    "duration": 24,
    "start_time": "2021-09-04T14:58:35.662Z"
   },
   {
    "duration": 14,
    "start_time": "2021-09-04T14:58:35.688Z"
   },
   {
    "duration": 9,
    "start_time": "2021-09-04T14:58:35.704Z"
   },
   {
    "duration": 9,
    "start_time": "2021-09-04T14:58:35.714Z"
   },
   {
    "duration": 9,
    "start_time": "2021-09-04T14:58:35.725Z"
   },
   {
    "duration": 8,
    "start_time": "2021-09-04T14:58:35.736Z"
   },
   {
    "duration": 5,
    "start_time": "2021-09-04T14:58:35.746Z"
   },
   {
    "duration": 28,
    "start_time": "2021-09-04T14:58:35.753Z"
   },
   {
    "duration": 7,
    "start_time": "2021-09-04T14:58:35.783Z"
   },
   {
    "duration": 4,
    "start_time": "2021-09-04T14:58:35.794Z"
   },
   {
    "duration": 9,
    "start_time": "2021-09-04T14:58:35.800Z"
   },
   {
    "duration": 6,
    "start_time": "2021-09-04T14:58:35.811Z"
   },
   {
    "duration": 6,
    "start_time": "2021-09-04T14:58:35.818Z"
   },
   {
    "duration": 10,
    "start_time": "2021-09-04T14:58:35.826Z"
   },
   {
    "duration": 41,
    "start_time": "2021-09-04T14:58:35.838Z"
   },
   {
    "duration": 13,
    "start_time": "2021-09-04T14:58:35.881Z"
   },
   {
    "duration": 11,
    "start_time": "2021-09-04T14:58:35.896Z"
   },
   {
    "duration": 402,
    "start_time": "2021-09-04T14:58:35.909Z"
   },
   {
    "duration": 223,
    "start_time": "2021-09-04T14:58:36.313Z"
   },
   {
    "duration": 215,
    "start_time": "2021-09-04T15:06:39.691Z"
   },
   {
    "duration": 224,
    "start_time": "2021-09-04T15:12:49.048Z"
   },
   {
    "duration": 1060,
    "start_time": "2021-09-04T15:20:11.559Z"
   },
   {
    "duration": 218,
    "start_time": "2021-09-04T15:20:34.091Z"
   },
   {
    "duration": 321,
    "start_time": "2021-09-04T15:22:53.297Z"
   },
   {
    "duration": 419,
    "start_time": "2021-09-04T15:26:20.961Z"
   },
   {
    "duration": 374,
    "start_time": "2021-09-04T15:26:30.249Z"
   },
   {
    "duration": 372,
    "start_time": "2021-09-04T15:26:38.754Z"
   },
   {
    "duration": 204,
    "start_time": "2021-09-05T23:12:46.021Z"
   },
   {
    "duration": 9,
    "start_time": "2021-09-06T17:35:56.337Z"
   },
   {
    "duration": 409,
    "start_time": "2021-09-06T17:36:46.345Z"
   },
   {
    "duration": 1140,
    "start_time": "2021-09-06T17:43:13.670Z"
   },
   {
    "duration": 17,
    "start_time": "2021-09-06T17:43:14.812Z"
   },
   {
    "duration": 8,
    "start_time": "2021-09-06T17:43:14.831Z"
   },
   {
    "duration": 23,
    "start_time": "2021-09-06T17:43:14.840Z"
   },
   {
    "duration": 5,
    "start_time": "2021-09-06T17:43:14.865Z"
   },
   {
    "duration": 7,
    "start_time": "2021-09-06T17:43:14.872Z"
   },
   {
    "duration": 10,
    "start_time": "2021-09-06T17:43:14.881Z"
   },
   {
    "duration": 9,
    "start_time": "2021-09-06T17:43:14.894Z"
   },
   {
    "duration": 70,
    "start_time": "2021-09-06T17:43:14.906Z"
   },
   {
    "duration": 9,
    "start_time": "2021-09-06T17:43:14.978Z"
   },
   {
    "duration": 8,
    "start_time": "2021-09-06T17:43:14.989Z"
   },
   {
    "duration": 12,
    "start_time": "2021-09-06T17:43:14.999Z"
   },
   {
    "duration": 20,
    "start_time": "2021-09-06T17:43:15.013Z"
   },
   {
    "duration": 20,
    "start_time": "2021-09-06T17:43:15.035Z"
   },
   {
    "duration": 27,
    "start_time": "2021-09-06T17:43:15.056Z"
   },
   {
    "duration": 9,
    "start_time": "2021-09-06T17:43:15.085Z"
   },
   {
    "duration": 10,
    "start_time": "2021-09-06T17:43:15.096Z"
   },
   {
    "duration": 9,
    "start_time": "2021-09-06T17:43:15.107Z"
   },
   {
    "duration": 11,
    "start_time": "2021-09-06T17:43:15.118Z"
   },
   {
    "duration": 8,
    "start_time": "2021-09-06T17:43:15.130Z"
   },
   {
    "duration": 7,
    "start_time": "2021-09-06T17:43:15.140Z"
   },
   {
    "duration": 27,
    "start_time": "2021-09-06T17:43:15.149Z"
   },
   {
    "duration": 7,
    "start_time": "2021-09-06T17:43:15.180Z"
   },
   {
    "duration": 6,
    "start_time": "2021-09-06T17:43:15.189Z"
   },
   {
    "duration": 10,
    "start_time": "2021-09-06T17:43:15.197Z"
   },
   {
    "duration": 8,
    "start_time": "2021-09-06T17:43:15.208Z"
   },
   {
    "duration": 382,
    "start_time": "2021-09-06T17:43:15.217Z"
   },
   {
    "duration": 212,
    "start_time": "2021-09-06T17:43:15.601Z"
   },
   {
    "duration": 225,
    "start_time": "2021-09-06T17:43:15.815Z"
   },
   {
    "duration": 321,
    "start_time": "2021-09-06T17:43:16.042Z"
   },
   {
    "duration": 202,
    "start_time": "2021-09-06T17:43:16.364Z"
   },
   {
    "duration": 14,
    "start_time": "2021-09-06T17:43:16.568Z"
   },
   {
    "duration": 373,
    "start_time": "2021-09-06T17:43:16.584Z"
   },
   {
    "duration": 7,
    "start_time": "2021-09-06T17:45:53.890Z"
   },
   {
    "duration": 6,
    "start_time": "2021-09-06T17:46:41.359Z"
   },
   {
    "duration": 9,
    "start_time": "2021-09-06T17:48:10.177Z"
   },
   {
    "duration": 5,
    "start_time": "2021-09-06T17:49:01.219Z"
   },
   {
    "duration": 9,
    "start_time": "2021-09-06T17:49:42.626Z"
   },
   {
    "duration": 8,
    "start_time": "2021-09-06T17:49:45.377Z"
   },
   {
    "duration": 173,
    "start_time": "2021-09-06T17:52:38.484Z"
   },
   {
    "duration": 10,
    "start_time": "2021-09-06T17:53:45.416Z"
   },
   {
    "duration": 355,
    "start_time": "2021-09-06T17:54:04.014Z"
   },
   {
    "duration": 307,
    "start_time": "2021-09-06T17:54:52.272Z"
   },
   {
    "duration": 294,
    "start_time": "2021-09-06T17:54:57.785Z"
   },
   {
    "duration": 290,
    "start_time": "2021-09-06T17:55:32.493Z"
   },
   {
    "duration": 10,
    "start_time": "2021-09-06T17:59:08.508Z"
   },
   {
    "duration": 11,
    "start_time": "2021-09-06T17:59:27.078Z"
   },
   {
    "duration": 13,
    "start_time": "2021-09-06T17:59:31.571Z"
   },
   {
    "duration": 463,
    "start_time": "2021-09-06T18:01:29.972Z"
   },
   {
    "duration": 4,
    "start_time": "2021-09-06T18:01:40.058Z"
   },
   {
    "duration": 195,
    "start_time": "2021-09-06T18:17:18.096Z"
   },
   {
    "duration": 302,
    "start_time": "2021-09-06T18:17:33.886Z"
   },
   {
    "duration": 222,
    "start_time": "2021-09-06T18:17:40.794Z"
   },
   {
    "duration": 216,
    "start_time": "2021-09-06T18:17:47.265Z"
   },
   {
    "duration": 14,
    "start_time": "2021-09-06T18:30:44.361Z"
   },
   {
    "duration": 351,
    "start_time": "2021-09-06T18:32:08.521Z"
   },
   {
    "duration": 352,
    "start_time": "2021-09-06T18:32:37.340Z"
   },
   {
    "duration": 372,
    "start_time": "2021-09-06T18:32:52.481Z"
   },
   {
    "duration": 410,
    "start_time": "2021-09-06T18:33:05.396Z"
   },
   {
    "duration": 211,
    "start_time": "2021-09-06T18:35:41.759Z"
   },
   {
    "duration": 120,
    "start_time": "2021-09-06T18:37:39.636Z"
   },
   {
    "duration": 222,
    "start_time": "2021-09-06T18:38:08.966Z"
   },
   {
    "duration": 402,
    "start_time": "2021-09-06T18:38:13.121Z"
   },
   {
    "duration": 11,
    "start_time": "2021-09-06T18:39:44.612Z"
   },
   {
    "duration": 12,
    "start_time": "2021-09-06T18:39:52.428Z"
   },
   {
    "duration": 13,
    "start_time": "2021-09-06T18:40:51.070Z"
   },
   {
    "duration": 7,
    "start_time": "2021-09-06T18:41:11.300Z"
   },
   {
    "duration": 418,
    "start_time": "2021-09-06T23:00:14.624Z"
   },
   {
    "duration": 124,
    "start_time": "2021-09-06T23:03:31.774Z"
   },
   {
    "duration": 8,
    "start_time": "2021-09-06T23:12:05.291Z"
   },
   {
    "duration": 9252,
    "start_time": "2021-09-06T23:12:52.236Z"
   },
   {
    "duration": 7,
    "start_time": "2021-09-06T23:13:41.027Z"
   },
   {
    "duration": 7,
    "start_time": "2021-09-06T23:13:43.859Z"
   },
   {
    "duration": 130,
    "start_time": "2021-09-06T23:14:00.068Z"
   },
   {
    "duration": 6,
    "start_time": "2021-09-06T23:14:02.008Z"
   },
   {
    "duration": 7,
    "start_time": "2021-09-06T23:14:03.706Z"
   },
   {
    "duration": 412,
    "start_time": "2021-09-06T23:14:06.766Z"
   },
   {
    "duration": 375,
    "start_time": "2021-09-06T23:14:55.913Z"
   },
   {
    "duration": 1258,
    "start_time": "2021-09-06T23:15:30.575Z"
   },
   {
    "duration": 18,
    "start_time": "2021-09-06T23:15:31.835Z"
   },
   {
    "duration": 20,
    "start_time": "2021-09-06T23:15:31.855Z"
   },
   {
    "duration": 37,
    "start_time": "2021-09-06T23:15:31.877Z"
   },
   {
    "duration": 6,
    "start_time": "2021-09-06T23:15:31.916Z"
   },
   {
    "duration": 14,
    "start_time": "2021-09-06T23:15:31.924Z"
   },
   {
    "duration": 27,
    "start_time": "2021-09-06T23:15:31.940Z"
   },
   {
    "duration": 22,
    "start_time": "2021-09-06T23:15:31.969Z"
   },
   {
    "duration": 102,
    "start_time": "2021-09-06T23:15:31.993Z"
   },
   {
    "duration": 10,
    "start_time": "2021-09-06T23:15:32.097Z"
   },
   {
    "duration": 25,
    "start_time": "2021-09-06T23:15:32.109Z"
   },
   {
    "duration": 30,
    "start_time": "2021-09-06T23:15:32.136Z"
   },
   {
    "duration": 15,
    "start_time": "2021-09-06T23:15:32.168Z"
   },
   {
    "duration": 43,
    "start_time": "2021-09-06T23:15:32.185Z"
   },
   {
    "duration": 13,
    "start_time": "2021-09-06T23:15:32.230Z"
   },
   {
    "duration": 12,
    "start_time": "2021-09-06T23:15:32.245Z"
   },
   {
    "duration": 13,
    "start_time": "2021-09-06T23:15:32.259Z"
   },
   {
    "duration": 16,
    "start_time": "2021-09-06T23:15:32.274Z"
   },
   {
    "duration": 25,
    "start_time": "2021-09-06T23:15:32.292Z"
   },
   {
    "duration": 20,
    "start_time": "2021-09-06T23:15:32.319Z"
   },
   {
    "duration": 17,
    "start_time": "2021-09-06T23:15:32.342Z"
   },
   {
    "duration": 14,
    "start_time": "2021-09-06T23:15:32.361Z"
   },
   {
    "duration": 8,
    "start_time": "2021-09-06T23:15:32.380Z"
   },
   {
    "duration": 19,
    "start_time": "2021-09-06T23:15:32.390Z"
   },
   {
    "duration": 21,
    "start_time": "2021-09-06T23:15:32.411Z"
   },
   {
    "duration": 17,
    "start_time": "2021-09-06T23:15:32.433Z"
   },
   {
    "duration": 386,
    "start_time": "2021-09-06T23:15:32.452Z"
   },
   {
    "duration": 246,
    "start_time": "2021-09-06T23:15:32.840Z"
   },
   {
    "duration": 250,
    "start_time": "2021-09-06T23:15:33.088Z"
   },
   {
    "duration": 352,
    "start_time": "2021-09-06T23:15:33.340Z"
   },
   {
    "duration": 222,
    "start_time": "2021-09-06T23:15:33.694Z"
   },
   {
    "duration": 9,
    "start_time": "2021-09-06T23:15:33.918Z"
   },
   {
    "duration": 411,
    "start_time": "2021-09-06T23:15:33.928Z"
   },
   {
    "duration": 10,
    "start_time": "2021-09-06T23:15:34.341Z"
   },
   {
    "duration": 25,
    "start_time": "2021-09-06T23:15:34.353Z"
   },
   {
    "duration": 15,
    "start_time": "2021-09-06T23:15:34.380Z"
   },
   {
    "duration": 308,
    "start_time": "2021-09-06T23:15:34.397Z"
   },
   {
    "duration": 13,
    "start_time": "2021-09-06T23:15:34.708Z"
   },
   {
    "duration": 12,
    "start_time": "2021-09-06T23:15:34.723Z"
   },
   {
    "duration": 17,
    "start_time": "2021-09-06T23:15:34.737Z"
   },
   {
    "duration": 96,
    "start_time": "2021-09-06T23:15:34.757Z"
   },
   {
    "duration": 5,
    "start_time": "2021-09-06T23:15:34.855Z"
   },
   {
    "duration": 22,
    "start_time": "2021-09-06T23:15:34.862Z"
   },
   {
    "duration": 140,
    "start_time": "2021-09-06T23:15:34.886Z"
   },
   {
    "duration": 6,
    "start_time": "2021-09-06T23:15:35.028Z"
   },
   {
    "duration": 9,
    "start_time": "2021-09-06T23:15:35.036Z"
   },
   {
    "duration": 31,
    "start_time": "2021-09-06T23:15:35.047Z"
   },
   {
    "duration": 8,
    "start_time": "2021-09-06T23:17:33.292Z"
   },
   {
    "duration": 172,
    "start_time": "2021-09-06T23:21:00.391Z"
   },
   {
    "duration": 132,
    "start_time": "2021-09-06T23:21:15.995Z"
   },
   {
    "duration": 123,
    "start_time": "2021-09-06T23:21:18.549Z"
   },
   {
    "duration": 117,
    "start_time": "2021-09-06T23:21:21.795Z"
   },
   {
    "duration": 112,
    "start_time": "2021-09-06T23:21:24.494Z"
   },
   {
    "duration": 1189,
    "start_time": "2021-09-06T23:21:55.315Z"
   },
   {
    "duration": 17,
    "start_time": "2021-09-06T23:21:56.506Z"
   },
   {
    "duration": 7,
    "start_time": "2021-09-06T23:21:56.526Z"
   },
   {
    "duration": 21,
    "start_time": "2021-09-06T23:21:56.535Z"
   },
   {
    "duration": 5,
    "start_time": "2021-09-06T23:21:56.557Z"
   },
   {
    "duration": 14,
    "start_time": "2021-09-06T23:21:56.564Z"
   },
   {
    "duration": 10,
    "start_time": "2021-09-06T23:21:56.580Z"
   },
   {
    "duration": 8,
    "start_time": "2021-09-06T23:21:56.592Z"
   },
   {
    "duration": 72,
    "start_time": "2021-09-06T23:21:56.602Z"
   },
   {
    "duration": 8,
    "start_time": "2021-09-06T23:21:56.676Z"
   },
   {
    "duration": 8,
    "start_time": "2021-09-06T23:21:56.685Z"
   },
   {
    "duration": 7,
    "start_time": "2021-09-06T23:21:56.695Z"
   },
   {
    "duration": 10,
    "start_time": "2021-09-06T23:21:56.704Z"
   },
   {
    "duration": 18,
    "start_time": "2021-09-06T23:21:56.716Z"
   },
   {
    "duration": 11,
    "start_time": "2021-09-06T23:21:56.735Z"
   },
   {
    "duration": 34,
    "start_time": "2021-09-06T23:21:56.747Z"
   },
   {
    "duration": 7,
    "start_time": "2021-09-06T23:21:56.782Z"
   },
   {
    "duration": 5,
    "start_time": "2021-09-06T23:21:56.791Z"
   },
   {
    "duration": 9,
    "start_time": "2021-09-06T23:21:56.797Z"
   },
   {
    "duration": 10,
    "start_time": "2021-09-06T23:21:56.808Z"
   },
   {
    "duration": 5,
    "start_time": "2021-09-06T23:21:56.820Z"
   },
   {
    "duration": 5,
    "start_time": "2021-09-06T23:21:56.827Z"
   },
   {
    "duration": 5,
    "start_time": "2021-09-06T23:21:56.835Z"
   },
   {
    "duration": 39,
    "start_time": "2021-09-06T23:21:56.842Z"
   },
   {
    "duration": 14,
    "start_time": "2021-09-06T23:21:56.883Z"
   },
   {
    "duration": 8,
    "start_time": "2021-09-06T23:21:56.899Z"
   },
   {
    "duration": 385,
    "start_time": "2021-09-06T23:21:56.909Z"
   },
   {
    "duration": 376,
    "start_time": "2021-09-06T23:21:57.296Z"
   },
   {
    "duration": 229,
    "start_time": "2021-09-06T23:21:57.673Z"
   },
   {
    "duration": 298,
    "start_time": "2021-09-06T23:21:57.904Z"
   },
   {
    "duration": 209,
    "start_time": "2021-09-06T23:21:58.204Z"
   },
   {
    "duration": 8,
    "start_time": "2021-09-06T23:21:58.414Z"
   },
   {
    "duration": 409,
    "start_time": "2021-09-06T23:21:58.424Z"
   },
   {
    "duration": 8,
    "start_time": "2021-09-06T23:21:58.834Z"
   },
   {
    "duration": 15,
    "start_time": "2021-09-06T23:21:58.843Z"
   },
   {
    "duration": 25,
    "start_time": "2021-09-06T23:21:58.860Z"
   },
   {
    "duration": 299,
    "start_time": "2021-09-06T23:21:58.886Z"
   },
   {
    "duration": 11,
    "start_time": "2021-09-06T23:21:59.187Z"
   },
   {
    "duration": 3,
    "start_time": "2021-09-06T23:21:59.200Z"
   },
   {
    "duration": 13,
    "start_time": "2021-09-06T23:21:59.205Z"
   },
   {
    "duration": 97,
    "start_time": "2021-09-06T23:21:59.219Z"
   },
   {
    "duration": 5,
    "start_time": "2021-09-06T23:21:59.318Z"
   },
   {
    "duration": 140,
    "start_time": "2021-09-06T23:21:59.325Z"
   },
   {
    "duration": -94,
    "start_time": "2021-09-06T23:21:59.560Z"
   },
   {
    "duration": -100,
    "start_time": "2021-09-06T23:21:59.567Z"
   },
   {
    "duration": -104,
    "start_time": "2021-09-06T23:21:59.572Z"
   },
   {
    "duration": -108,
    "start_time": "2021-09-06T23:21:59.577Z"
   },
   {
    "duration": -113,
    "start_time": "2021-09-06T23:21:59.583Z"
   },
   {
    "duration": 316,
    "start_time": "2021-09-06T23:23:02.471Z"
   },
   {
    "duration": 7,
    "start_time": "2021-09-06T23:24:22.265Z"
   },
   {
    "duration": 135,
    "start_time": "2021-09-06T23:24:23.869Z"
   },
   {
    "duration": 114,
    "start_time": "2021-09-06T23:24:31.440Z"
   },
   {
    "duration": 7,
    "start_time": "2021-09-06T23:24:35.211Z"
   },
   {
    "duration": 7,
    "start_time": "2021-09-06T23:24:37.309Z"
   },
   {
    "duration": 8839,
    "start_time": "2021-09-06T23:24:39.982Z"
   },
   {
    "duration": 119,
    "start_time": "2021-09-06T23:25:04.567Z"
   },
   {
    "duration": 6,
    "start_time": "2021-09-06T23:25:06.679Z"
   },
   {
    "duration": 6,
    "start_time": "2021-09-06T23:25:08.087Z"
   },
   {
    "duration": 14,
    "start_time": "2021-09-06T23:25:10.385Z"
   },
   {
    "duration": 11,
    "start_time": "2021-09-06T23:32:37.429Z"
   },
   {
    "duration": 101,
    "start_time": "2021-09-06T23:35:33.809Z"
   },
   {
    "duration": 8,
    "start_time": "2021-09-06T23:35:46.445Z"
   },
   {
    "duration": 8,
    "start_time": "2021-09-06T23:35:53.749Z"
   },
   {
    "duration": 7,
    "start_time": "2021-09-06T23:35:55.593Z"
   },
   {
    "duration": 7,
    "start_time": "2021-09-06T23:36:02.166Z"
   },
   {
    "duration": 13,
    "start_time": "2021-09-06T23:37:24.090Z"
   },
   {
    "duration": 10,
    "start_time": "2021-09-06T23:40:37.814Z"
   },
   {
    "duration": 332,
    "start_time": "2021-09-07T13:06:31.231Z"
   },
   {
    "duration": 357,
    "start_time": "2021-09-07T13:14:27.672Z"
   },
   {
    "duration": 293,
    "start_time": "2021-09-07T13:17:41.121Z"
   },
   {
    "duration": 355,
    "start_time": "2021-09-07T13:49:36.236Z"
   },
   {
    "duration": 376,
    "start_time": "2021-09-07T13:50:57.354Z"
   },
   {
    "duration": 11,
    "start_time": "2021-09-07T13:51:19.961Z"
   },
   {
    "duration": 9,
    "start_time": "2021-09-07T14:02:00.184Z"
   },
   {
    "duration": 18,
    "start_time": "2021-09-07T14:04:12.273Z"
   },
   {
    "duration": 16,
    "start_time": "2021-09-07T14:15:42.259Z"
   },
   {
    "duration": 12,
    "start_time": "2021-09-07T14:16:10.676Z"
   },
   {
    "duration": 14,
    "start_time": "2021-09-07T14:16:41.122Z"
   },
   {
    "duration": 12,
    "start_time": "2021-09-07T14:17:06.115Z"
   },
   {
    "duration": 15,
    "start_time": "2021-09-07T14:17:31.850Z"
   },
   {
    "duration": 17,
    "start_time": "2021-09-07T14:21:46.541Z"
   },
   {
    "duration": 371,
    "start_time": "2021-09-07T14:28:58.549Z"
   },
   {
    "duration": 9361,
    "start_time": "2021-09-07T14:29:25.698Z"
   },
   {
    "duration": 16,
    "start_time": "2021-09-07T14:29:43.927Z"
   },
   {
    "duration": 11,
    "start_time": "2021-09-07T14:29:58.092Z"
   },
   {
    "duration": 361,
    "start_time": "2021-09-07T14:36:20.460Z"
   },
   {
    "duration": 16,
    "start_time": "2021-09-07T15:04:00.690Z"
   },
   {
    "duration": 234,
    "start_time": "2021-09-07T15:20:05.650Z"
   },
   {
    "duration": 1072,
    "start_time": "2021-09-07T21:35:43.016Z"
   },
   {
    "duration": 45,
    "start_time": "2021-09-07T21:35:44.092Z"
   },
   {
    "duration": 6,
    "start_time": "2021-09-07T21:35:44.139Z"
   },
   {
    "duration": 26,
    "start_time": "2021-09-07T21:35:44.146Z"
   },
   {
    "duration": 5,
    "start_time": "2021-09-07T21:35:44.173Z"
   },
   {
    "duration": 7,
    "start_time": "2021-09-07T21:35:44.180Z"
   },
   {
    "duration": 9,
    "start_time": "2021-09-07T21:35:44.189Z"
   },
   {
    "duration": 8,
    "start_time": "2021-09-07T21:35:44.200Z"
   },
   {
    "duration": 99,
    "start_time": "2021-09-07T21:35:44.209Z"
   },
   {
    "duration": 8,
    "start_time": "2021-09-07T21:35:44.310Z"
   },
   {
    "duration": 9,
    "start_time": "2021-09-07T21:35:44.319Z"
   },
   {
    "duration": 7,
    "start_time": "2021-09-07T21:35:44.330Z"
   },
   {
    "duration": 7,
    "start_time": "2021-09-07T21:35:44.339Z"
   },
   {
    "duration": 24,
    "start_time": "2021-09-07T21:35:44.348Z"
   },
   {
    "duration": 10,
    "start_time": "2021-09-07T21:35:44.374Z"
   },
   {
    "duration": 8,
    "start_time": "2021-09-07T21:35:44.385Z"
   },
   {
    "duration": 6,
    "start_time": "2021-09-07T21:35:44.394Z"
   },
   {
    "duration": 6,
    "start_time": "2021-09-07T21:35:44.401Z"
   },
   {
    "duration": 6,
    "start_time": "2021-09-07T21:35:44.409Z"
   },
   {
    "duration": 9,
    "start_time": "2021-09-07T21:35:44.417Z"
   },
   {
    "duration": 7,
    "start_time": "2021-09-07T21:35:44.427Z"
   },
   {
    "duration": 6,
    "start_time": "2021-09-07T21:35:44.437Z"
   },
   {
    "duration": 7,
    "start_time": "2021-09-07T21:35:44.445Z"
   },
   {
    "duration": 35,
    "start_time": "2021-09-07T21:35:44.454Z"
   },
   {
    "duration": 12,
    "start_time": "2021-09-07T21:35:44.490Z"
   },
   {
    "duration": 8,
    "start_time": "2021-09-07T21:35:44.504Z"
   },
   {
    "duration": 365,
    "start_time": "2021-09-07T21:35:44.514Z"
   },
   {
    "duration": 231,
    "start_time": "2021-09-07T21:35:44.881Z"
   },
   {
    "duration": 248,
    "start_time": "2021-09-07T21:35:45.114Z"
   },
   {
    "duration": 327,
    "start_time": "2021-09-07T21:35:45.364Z"
   },
   {
    "duration": 239,
    "start_time": "2021-09-07T21:35:45.692Z"
   },
   {
    "duration": 9,
    "start_time": "2021-09-07T21:35:45.933Z"
   },
   {
    "duration": 443,
    "start_time": "2021-09-07T21:35:45.943Z"
   },
   {
    "duration": 8,
    "start_time": "2021-09-07T21:35:46.388Z"
   },
   {
    "duration": 3,
    "start_time": "2021-09-07T21:35:46.398Z"
   },
   {
    "duration": 13,
    "start_time": "2021-09-07T21:35:46.403Z"
   },
   {
    "duration": 303,
    "start_time": "2021-09-07T21:35:46.417Z"
   },
   {
    "duration": 11,
    "start_time": "2021-09-07T21:35:46.722Z"
   },
   {
    "duration": 3,
    "start_time": "2021-09-07T21:35:46.735Z"
   },
   {
    "duration": 13,
    "start_time": "2021-09-07T21:35:46.740Z"
   },
   {
    "duration": 96,
    "start_time": "2021-09-07T21:35:46.755Z"
   },
   {
    "duration": 5,
    "start_time": "2021-09-07T21:35:46.853Z"
   },
   {
    "duration": 318,
    "start_time": "2021-09-07T21:35:46.859Z"
   },
   {
    "duration": 8,
    "start_time": "2021-09-07T21:35:47.184Z"
   },
   {
    "duration": 126,
    "start_time": "2021-09-07T21:35:47.194Z"
   },
   {
    "duration": 7,
    "start_time": "2021-09-07T21:35:47.322Z"
   },
   {
    "duration": 7,
    "start_time": "2021-09-07T21:35:47.331Z"
   },
   {
    "duration": 14,
    "start_time": "2021-09-07T21:35:47.340Z"
   },
   {
    "duration": 34,
    "start_time": "2021-09-07T21:35:47.356Z"
   },
   {
    "duration": 115,
    "start_time": "2021-09-07T21:35:47.392Z"
   },
   {
    "duration": 7,
    "start_time": "2021-09-07T21:35:47.509Z"
   },
   {
    "duration": 7,
    "start_time": "2021-09-07T21:35:47.518Z"
   },
   {
    "duration": 13,
    "start_time": "2021-09-07T21:35:47.527Z"
   },
   {
    "duration": 10,
    "start_time": "2021-09-07T21:35:47.542Z"
   },
   {
    "duration": 9,
    "start_time": "2021-09-07T21:35:47.585Z"
   },
   {
    "duration": 15,
    "start_time": "2021-09-07T21:35:47.596Z"
   },
   {
    "duration": 14,
    "start_time": "2021-09-07T21:35:47.613Z"
   },
   {
    "duration": 1792,
    "start_time": "2021-09-08T13:39:54.812Z"
   },
   {
    "duration": 18,
    "start_time": "2021-09-08T13:39:56.607Z"
   },
   {
    "duration": 10,
    "start_time": "2021-09-08T13:39:56.628Z"
   },
   {
    "duration": 49,
    "start_time": "2021-09-08T13:39:56.641Z"
   },
   {
    "duration": 11,
    "start_time": "2021-09-08T13:39:56.692Z"
   },
   {
    "duration": 7,
    "start_time": "2021-09-08T13:39:56.705Z"
   },
   {
    "duration": 12,
    "start_time": "2021-09-08T13:39:56.715Z"
   },
   {
    "duration": 55,
    "start_time": "2021-09-08T13:39:56.732Z"
   },
   {
    "duration": 46,
    "start_time": "2021-09-08T13:39:56.790Z"
   },
   {
    "duration": 10,
    "start_time": "2021-09-08T13:39:56.838Z"
   },
   {
    "duration": 10,
    "start_time": "2021-09-08T13:39:56.850Z"
   },
   {
    "duration": 13,
    "start_time": "2021-09-08T13:39:56.862Z"
   },
   {
    "duration": 11,
    "start_time": "2021-09-08T13:39:56.878Z"
   },
   {
    "duration": 26,
    "start_time": "2021-09-08T13:39:56.892Z"
   },
   {
    "duration": 13,
    "start_time": "2021-09-08T13:39:56.920Z"
   },
   {
    "duration": 9,
    "start_time": "2021-09-08T13:39:56.935Z"
   },
   {
    "duration": 6,
    "start_time": "2021-09-08T13:39:56.983Z"
   },
   {
    "duration": 8,
    "start_time": "2021-09-08T13:39:56.992Z"
   },
   {
    "duration": 8,
    "start_time": "2021-09-08T13:39:57.002Z"
   },
   {
    "duration": 10,
    "start_time": "2021-09-08T13:39:57.012Z"
   },
   {
    "duration": 11,
    "start_time": "2021-09-08T13:39:57.025Z"
   },
   {
    "duration": 47,
    "start_time": "2021-09-08T13:39:57.038Z"
   },
   {
    "duration": 8,
    "start_time": "2021-09-08T13:39:57.090Z"
   },
   {
    "duration": 7,
    "start_time": "2021-09-08T13:39:57.102Z"
   },
   {
    "duration": 11,
    "start_time": "2021-09-08T13:39:57.112Z"
   },
   {
    "duration": 57,
    "start_time": "2021-09-08T13:39:57.125Z"
   },
   {
    "duration": 547,
    "start_time": "2021-09-08T13:39:57.185Z"
   },
   {
    "duration": 334,
    "start_time": "2021-09-08T13:39:57.735Z"
   },
   {
    "duration": 340,
    "start_time": "2021-09-08T13:39:58.072Z"
   },
   {
    "duration": 371,
    "start_time": "2021-09-08T13:39:58.414Z"
   },
   {
    "duration": 329,
    "start_time": "2021-09-08T13:39:58.787Z"
   },
   {
    "duration": 11,
    "start_time": "2021-09-08T13:39:59.119Z"
   },
   {
    "duration": 508,
    "start_time": "2021-09-08T13:39:59.133Z"
   },
   {
    "duration": 11,
    "start_time": "2021-09-08T13:39:59.643Z"
   },
   {
    "duration": 27,
    "start_time": "2021-09-08T13:39:59.657Z"
   },
   {
    "duration": 14,
    "start_time": "2021-09-08T13:39:59.686Z"
   },
   {
    "duration": 383,
    "start_time": "2021-09-08T13:39:59.703Z"
   },
   {
    "duration": 16,
    "start_time": "2021-09-08T13:40:00.089Z"
   },
   {
    "duration": 11,
    "start_time": "2021-09-08T13:40:00.107Z"
   },
   {
    "duration": 22,
    "start_time": "2021-09-08T13:40:00.121Z"
   },
   {
    "duration": 104,
    "start_time": "2021-09-08T13:40:00.146Z"
   },
   {
    "duration": 25,
    "start_time": "2021-09-08T13:40:00.252Z"
   },
   {
    "duration": 382,
    "start_time": "2021-09-08T13:40:00.282Z"
   },
   {
    "duration": 19,
    "start_time": "2021-09-08T13:40:00.667Z"
   },
   {
    "duration": 231,
    "start_time": "2021-09-08T13:40:00.688Z"
   },
   {
    "duration": 9,
    "start_time": "2021-09-08T13:40:00.921Z"
   },
   {
    "duration": 12,
    "start_time": "2021-09-08T13:40:00.933Z"
   },
   {
    "duration": 41,
    "start_time": "2021-09-08T13:40:00.948Z"
   },
   {
    "duration": 15,
    "start_time": "2021-09-08T13:40:00.992Z"
   },
   {
    "duration": 204,
    "start_time": "2021-09-08T13:40:01.009Z"
   },
   {
    "duration": 9,
    "start_time": "2021-09-08T13:40:01.215Z"
   },
   {
    "duration": 19,
    "start_time": "2021-09-08T13:40:01.226Z"
   },
   {
    "duration": 24,
    "start_time": "2021-09-08T13:40:01.247Z"
   },
   {
    "duration": 22,
    "start_time": "2021-09-08T13:40:01.283Z"
   },
   {
    "duration": 38,
    "start_time": "2021-09-08T13:40:01.307Z"
   },
   {
    "duration": 36,
    "start_time": "2021-09-08T13:40:01.347Z"
   },
   {
    "duration": 40,
    "start_time": "2021-09-08T13:40:01.386Z"
   },
   {
    "duration": 4,
    "start_time": "2021-09-08T14:06:44.006Z"
   },
   {
    "duration": 298,
    "start_time": "2021-09-08T14:06:44.693Z"
   },
   {
    "duration": 494,
    "start_time": "2021-09-08T15:42:40.060Z"
   },
   {
    "duration": 1460,
    "start_time": "2021-09-08T15:42:49.163Z"
   },
   {
    "duration": 19,
    "start_time": "2021-09-08T15:42:50.626Z"
   },
   {
    "duration": 24,
    "start_time": "2021-09-08T15:42:50.648Z"
   },
   {
    "duration": 35,
    "start_time": "2021-09-08T15:42:50.675Z"
   },
   {
    "duration": 8,
    "start_time": "2021-09-08T15:42:50.713Z"
   },
   {
    "duration": 12,
    "start_time": "2021-09-08T15:42:50.724Z"
   },
   {
    "duration": 42,
    "start_time": "2021-09-08T15:42:50.738Z"
   },
   {
    "duration": 24,
    "start_time": "2021-09-08T15:42:50.784Z"
   },
   {
    "duration": 67,
    "start_time": "2021-09-08T15:42:50.811Z"
   },
   {
    "duration": 12,
    "start_time": "2021-09-08T15:42:50.881Z"
   },
   {
    "duration": 38,
    "start_time": "2021-09-08T15:42:50.895Z"
   },
   {
    "duration": 14,
    "start_time": "2021-09-08T15:42:50.935Z"
   },
   {
    "duration": 16,
    "start_time": "2021-09-08T15:42:50.951Z"
   },
   {
    "duration": 48,
    "start_time": "2021-09-08T15:42:50.969Z"
   },
   {
    "duration": 24,
    "start_time": "2021-09-08T15:42:51.020Z"
   },
   {
    "duration": 9,
    "start_time": "2021-09-08T15:42:51.047Z"
   },
   {
    "duration": 13,
    "start_time": "2021-09-08T15:42:51.058Z"
   },
   {
    "duration": 18,
    "start_time": "2021-09-08T15:42:51.073Z"
   },
   {
    "duration": 12,
    "start_time": "2021-09-08T15:42:51.094Z"
   },
   {
    "duration": 15,
    "start_time": "2021-09-08T15:42:51.109Z"
   },
   {
    "duration": 23,
    "start_time": "2021-09-08T15:42:51.126Z"
   },
   {
    "duration": 25,
    "start_time": "2021-09-08T15:42:51.155Z"
   },
   {
    "duration": 31,
    "start_time": "2021-09-08T15:42:51.186Z"
   },
   {
    "duration": 20,
    "start_time": "2021-09-08T15:42:51.221Z"
   },
   {
    "duration": 36,
    "start_time": "2021-09-08T15:42:51.243Z"
   },
   {
    "duration": 14,
    "start_time": "2021-09-08T15:42:51.282Z"
   },
   {
    "duration": 612,
    "start_time": "2021-09-08T15:42:51.299Z"
   },
   {
    "duration": 4,
    "start_time": "2021-09-08T15:42:51.913Z"
   },
   {
    "duration": 361,
    "start_time": "2021-09-08T15:42:51.919Z"
   },
   {
    "duration": 384,
    "start_time": "2021-09-08T15:42:52.283Z"
   },
   {
    "duration": 419,
    "start_time": "2021-09-08T15:42:52.669Z"
   },
   {
    "duration": 362,
    "start_time": "2021-09-08T15:42:53.092Z"
   },
   {
    "duration": 14,
    "start_time": "2021-09-08T15:42:53.456Z"
   },
   {
    "duration": 565,
    "start_time": "2021-09-08T15:42:53.473Z"
   },
   {
    "duration": 20,
    "start_time": "2021-09-08T15:42:54.041Z"
   },
   {
    "duration": 6,
    "start_time": "2021-09-08T15:42:54.063Z"
   },
   {
    "duration": 23,
    "start_time": "2021-09-08T15:42:54.071Z"
   },
   {
    "duration": 409,
    "start_time": "2021-09-08T15:42:54.096Z"
   },
   {
    "duration": 18,
    "start_time": "2021-09-08T15:42:54.507Z"
   },
   {
    "duration": 27,
    "start_time": "2021-09-08T15:42:54.527Z"
   },
   {
    "duration": 19,
    "start_time": "2021-09-08T15:42:54.557Z"
   },
   {
    "duration": 106,
    "start_time": "2021-09-08T15:42:54.579Z"
   },
   {
    "duration": 8,
    "start_time": "2021-09-08T15:42:54.688Z"
   },
   {
    "duration": 440,
    "start_time": "2021-09-08T15:42:54.699Z"
   },
   {
    "duration": 16,
    "start_time": "2021-09-08T15:42:55.141Z"
   },
   {
    "duration": 222,
    "start_time": "2021-09-08T15:42:55.160Z"
   },
   {
    "duration": 9,
    "start_time": "2021-09-08T15:42:55.384Z"
   },
   {
    "duration": 14,
    "start_time": "2021-09-08T15:42:55.396Z"
   },
   {
    "duration": 51,
    "start_time": "2021-09-08T15:42:55.413Z"
   },
   {
    "duration": 14,
    "start_time": "2021-09-08T15:42:55.466Z"
   },
   {
    "duration": 215,
    "start_time": "2021-09-08T15:42:55.483Z"
   },
   {
    "duration": 8,
    "start_time": "2021-09-08T15:42:55.701Z"
   },
   {
    "duration": 12,
    "start_time": "2021-09-08T15:42:55.712Z"
   },
   {
    "duration": 43,
    "start_time": "2021-09-08T15:42:55.726Z"
   },
   {
    "duration": 21,
    "start_time": "2021-09-08T15:42:55.771Z"
   },
   {
    "duration": 14,
    "start_time": "2021-09-08T15:42:55.794Z"
   },
   {
    "duration": 53,
    "start_time": "2021-09-08T15:42:55.810Z"
   },
   {
    "duration": 20,
    "start_time": "2021-09-08T15:42:55.865Z"
   },
   {
    "duration": 99,
    "start_time": "2021-09-08T15:59:52.428Z"
   },
   {
    "duration": 342,
    "start_time": "2021-09-08T16:00:13.491Z"
   },
   {
    "duration": 340,
    "start_time": "2021-09-08T16:00:40.827Z"
   },
   {
    "duration": 462,
    "start_time": "2021-09-08T16:04:32.874Z"
   },
   {
    "duration": 697,
    "start_time": "2021-09-08T16:05:46.542Z"
   },
   {
    "duration": 640,
    "start_time": "2021-09-08T16:06:18.837Z"
   },
   {
    "duration": 704,
    "start_time": "2021-09-08T16:09:57.152Z"
   },
   {
    "duration": 597,
    "start_time": "2021-09-08T16:10:08.704Z"
   },
   {
    "duration": 6885,
    "start_time": "2021-09-08T16:10:39.554Z"
   },
   {
    "duration": 664,
    "start_time": "2021-09-08T16:11:03.252Z"
   },
   {
    "duration": 497,
    "start_time": "2021-09-08T16:11:34.268Z"
   },
   {
    "duration": 692,
    "start_time": "2021-09-08T16:11:41.752Z"
   },
   {
    "duration": 707,
    "start_time": "2021-09-08T16:11:50.837Z"
   },
   {
    "duration": 789,
    "start_time": "2021-09-08T16:11:59.034Z"
   },
   {
    "duration": 945,
    "start_time": "2021-09-08T16:13:47.723Z"
   },
   {
    "duration": 1025,
    "start_time": "2021-09-08T16:13:58.135Z"
   },
   {
    "duration": 642,
    "start_time": "2021-09-08T16:15:47.193Z"
   },
   {
    "duration": 542,
    "start_time": "2021-09-08T16:16:06.441Z"
   },
   {
    "duration": 677,
    "start_time": "2021-09-08T16:16:14.232Z"
   },
   {
    "duration": 640,
    "start_time": "2021-09-08T16:16:23.237Z"
   },
   {
    "duration": 600,
    "start_time": "2021-09-08T16:30:09.954Z"
   },
   {
    "duration": 1692,
    "start_time": "2021-09-08T16:32:01.285Z"
   },
   {
    "duration": 18,
    "start_time": "2021-09-08T16:32:02.979Z"
   },
   {
    "duration": 43,
    "start_time": "2021-09-08T16:32:03.000Z"
   },
   {
    "duration": 35,
    "start_time": "2021-09-08T16:32:03.046Z"
   },
   {
    "duration": 9,
    "start_time": "2021-09-08T16:32:03.083Z"
   },
   {
    "duration": 11,
    "start_time": "2021-09-08T16:32:03.094Z"
   },
   {
    "duration": 22,
    "start_time": "2021-09-08T16:32:03.107Z"
   },
   {
    "duration": 13,
    "start_time": "2021-09-08T16:32:03.155Z"
   },
   {
    "duration": 730,
    "start_time": "2021-09-08T16:32:03.171Z"
   },
   {
    "duration": 52,
    "start_time": "2021-09-08T16:32:03.903Z"
   },
   {
    "duration": 13,
    "start_time": "2021-09-08T16:32:03.957Z"
   },
   {
    "duration": 13,
    "start_time": "2021-09-08T16:32:03.972Z"
   },
   {
    "duration": 16,
    "start_time": "2021-09-08T16:32:03.988Z"
   },
   {
    "duration": 14,
    "start_time": "2021-09-08T16:32:04.007Z"
   },
   {
    "duration": 54,
    "start_time": "2021-09-08T16:32:04.023Z"
   },
   {
    "duration": 17,
    "start_time": "2021-09-08T16:32:04.079Z"
   },
   {
    "duration": 12,
    "start_time": "2021-09-08T16:32:04.099Z"
   },
   {
    "duration": 43,
    "start_time": "2021-09-08T16:32:04.113Z"
   },
   {
    "duration": 12,
    "start_time": "2021-09-08T16:32:04.159Z"
   },
   {
    "duration": 12,
    "start_time": "2021-09-08T16:32:04.173Z"
   },
   {
    "duration": 20,
    "start_time": "2021-09-08T16:32:04.187Z"
   },
   {
    "duration": 10,
    "start_time": "2021-09-08T16:32:04.210Z"
   },
   {
    "duration": 33,
    "start_time": "2021-09-08T16:32:04.225Z"
   },
   {
    "duration": 11,
    "start_time": "2021-09-08T16:32:04.261Z"
   },
   {
    "duration": 9,
    "start_time": "2021-09-08T16:32:04.275Z"
   },
   {
    "duration": 28,
    "start_time": "2021-09-08T16:32:04.286Z"
   },
   {
    "duration": 18,
    "start_time": "2021-09-08T16:32:04.316Z"
   },
   {
    "duration": 684,
    "start_time": "2021-09-08T16:32:04.354Z"
   },
   {
    "duration": 15,
    "start_time": "2021-09-08T16:32:05.040Z"
   },
   {
    "duration": 832,
    "start_time": "2021-09-08T16:32:05.057Z"
   },
   {
    "duration": -1136,
    "start_time": "2021-09-08T16:32:07.028Z"
   },
   {
    "duration": -1147,
    "start_time": "2021-09-08T16:32:07.041Z"
   },
   {
    "duration": -1153,
    "start_time": "2021-09-08T16:32:07.048Z"
   },
   {
    "duration": -1171,
    "start_time": "2021-09-08T16:32:07.068Z"
   },
   {
    "duration": -1178,
    "start_time": "2021-09-08T16:32:07.076Z"
   },
   {
    "duration": -1185,
    "start_time": "2021-09-08T16:32:07.085Z"
   },
   {
    "duration": -1193,
    "start_time": "2021-09-08T16:32:07.095Z"
   },
   {
    "duration": -1203,
    "start_time": "2021-09-08T16:32:07.106Z"
   },
   {
    "duration": -1212,
    "start_time": "2021-09-08T16:32:07.117Z"
   },
   {
    "duration": -1226,
    "start_time": "2021-09-08T16:32:07.132Z"
   },
   {
    "duration": -1234,
    "start_time": "2021-09-08T16:32:07.142Z"
   },
   {
    "duration": -1246,
    "start_time": "2021-09-08T16:32:07.155Z"
   },
   {
    "duration": -1251,
    "start_time": "2021-09-08T16:32:07.162Z"
   },
   {
    "duration": -1221,
    "start_time": "2021-09-08T16:32:07.174Z"
   },
   {
    "duration": -1227,
    "start_time": "2021-09-08T16:32:07.182Z"
   },
   {
    "duration": -1238,
    "start_time": "2021-09-08T16:32:07.194Z"
   },
   {
    "duration": -1246,
    "start_time": "2021-09-08T16:32:07.204Z"
   },
   {
    "duration": -1254,
    "start_time": "2021-09-08T16:32:07.213Z"
   },
   {
    "duration": -1264,
    "start_time": "2021-09-08T16:32:07.224Z"
   },
   {
    "duration": -1274,
    "start_time": "2021-09-08T16:32:07.236Z"
   },
   {
    "duration": -1281,
    "start_time": "2021-09-08T16:32:07.244Z"
   },
   {
    "duration": -1290,
    "start_time": "2021-09-08T16:32:07.254Z"
   },
   {
    "duration": -1294,
    "start_time": "2021-09-08T16:32:07.260Z"
   },
   {
    "duration": -1303,
    "start_time": "2021-09-08T16:32:07.270Z"
   },
   {
    "duration": -1310,
    "start_time": "2021-09-08T16:32:07.278Z"
   },
   {
    "duration": -1320,
    "start_time": "2021-09-08T16:32:07.289Z"
   },
   {
    "duration": -1327,
    "start_time": "2021-09-08T16:32:07.297Z"
   },
   {
    "duration": -1336,
    "start_time": "2021-09-08T16:32:07.308Z"
   },
   {
    "duration": -1341,
    "start_time": "2021-09-08T16:32:07.314Z"
   },
   {
    "duration": 591,
    "start_time": "2021-09-08T16:33:03.101Z"
   },
   {
    "duration": 331,
    "start_time": "2021-09-08T16:33:30.931Z"
   },
   {
    "duration": 222,
    "start_time": "2021-09-08T16:48:08.395Z"
   },
   {
    "duration": 494,
    "start_time": "2021-09-08T16:48:43.679Z"
   },
   {
    "duration": 492,
    "start_time": "2021-09-08T16:49:01.119Z"
   },
   {
    "duration": 563,
    "start_time": "2021-09-08T16:49:14.069Z"
   },
   {
    "duration": 6,
    "start_time": "2021-09-08T16:50:04.151Z"
   },
   {
    "duration": 560,
    "start_time": "2021-09-08T16:54:40.532Z"
   },
   {
    "duration": 20,
    "start_time": "2021-09-08T16:55:51.731Z"
   },
   {
    "duration": 536,
    "start_time": "2021-09-08T16:57:05.097Z"
   },
   {
    "duration": 544,
    "start_time": "2021-09-08T16:57:20.180Z"
   },
   {
    "duration": 317,
    "start_time": "2021-09-08T16:59:21.716Z"
   },
   {
    "duration": 325,
    "start_time": "2021-09-08T16:59:46.136Z"
   },
   {
    "duration": 1622,
    "start_time": "2021-09-08T17:00:04.317Z"
   },
   {
    "duration": 21,
    "start_time": "2021-09-08T17:00:05.942Z"
   },
   {
    "duration": 16,
    "start_time": "2021-09-08T17:00:05.967Z"
   },
   {
    "duration": 45,
    "start_time": "2021-09-08T17:00:05.986Z"
   },
   {
    "duration": 21,
    "start_time": "2021-09-08T17:00:06.033Z"
   },
   {
    "duration": 8,
    "start_time": "2021-09-08T17:00:06.057Z"
   },
   {
    "duration": 29,
    "start_time": "2021-09-08T17:00:06.067Z"
   },
   {
    "duration": 13,
    "start_time": "2021-09-08T17:00:06.100Z"
   },
   {
    "duration": 634,
    "start_time": "2021-09-08T17:00:06.117Z"
   },
   {
    "duration": 53,
    "start_time": "2021-09-08T17:00:06.754Z"
   },
   {
    "duration": 12,
    "start_time": "2021-09-08T17:00:06.810Z"
   },
   {
    "duration": 24,
    "start_time": "2021-09-08T17:00:06.824Z"
   },
   {
    "duration": 34,
    "start_time": "2021-09-08T17:00:06.850Z"
   },
   {
    "duration": 19,
    "start_time": "2021-09-08T17:00:06.887Z"
   },
   {
    "duration": 41,
    "start_time": "2021-09-08T17:00:06.908Z"
   },
   {
    "duration": 17,
    "start_time": "2021-09-08T17:00:06.952Z"
   },
   {
    "duration": 20,
    "start_time": "2021-09-08T17:00:06.971Z"
   },
   {
    "duration": 25,
    "start_time": "2021-09-08T17:00:06.993Z"
   },
   {
    "duration": 27,
    "start_time": "2021-09-08T17:00:07.020Z"
   },
   {
    "duration": 15,
    "start_time": "2021-09-08T17:00:07.049Z"
   },
   {
    "duration": 21,
    "start_time": "2021-09-08T17:00:07.067Z"
   },
   {
    "duration": 19,
    "start_time": "2021-09-08T17:00:07.090Z"
   },
   {
    "duration": 19,
    "start_time": "2021-09-08T17:00:07.115Z"
   },
   {
    "duration": 34,
    "start_time": "2021-09-08T17:00:07.138Z"
   },
   {
    "duration": 20,
    "start_time": "2021-09-08T17:00:07.175Z"
   },
   {
    "duration": 33,
    "start_time": "2021-09-08T17:00:07.197Z"
   },
   {
    "duration": 38,
    "start_time": "2021-09-08T17:00:07.232Z"
   },
   {
    "duration": 677,
    "start_time": "2021-09-08T17:00:07.272Z"
   },
   {
    "duration": 21,
    "start_time": "2021-09-08T17:00:07.955Z"
   },
   {
    "duration": 17,
    "start_time": "2021-09-08T17:00:07.979Z"
   },
   {
    "duration": 649,
    "start_time": "2021-09-08T17:00:07.998Z"
   },
   {
    "duration": 355,
    "start_time": "2021-09-08T17:00:08.649Z"
   },
   {
    "duration": 478,
    "start_time": "2021-09-08T17:00:09.007Z"
   },
   {
    "duration": 343,
    "start_time": "2021-09-08T17:00:09.488Z"
   },
   {
    "duration": 22,
    "start_time": "2021-09-08T17:00:09.834Z"
   },
   {
    "duration": 653,
    "start_time": "2021-09-08T17:00:09.859Z"
   },
   {
    "duration": 14,
    "start_time": "2021-09-08T17:00:10.515Z"
   },
   {
    "duration": 25,
    "start_time": "2021-09-08T17:00:10.533Z"
   },
   {
    "duration": 16,
    "start_time": "2021-09-08T17:00:10.561Z"
   },
   {
    "duration": 409,
    "start_time": "2021-09-08T17:00:10.579Z"
   },
   {
    "duration": 19,
    "start_time": "2021-09-08T17:00:10.990Z"
   },
   {
    "duration": 9,
    "start_time": "2021-09-08T17:00:11.011Z"
   },
   {
    "duration": 47,
    "start_time": "2021-09-08T17:00:11.023Z"
   },
   {
    "duration": 20,
    "start_time": "2021-09-08T17:00:11.072Z"
   },
   {
    "duration": 8,
    "start_time": "2021-09-08T17:00:11.095Z"
   },
   {
    "duration": 448,
    "start_time": "2021-09-08T17:00:11.106Z"
   },
   {
    "duration": 10,
    "start_time": "2021-09-08T17:00:11.557Z"
   },
   {
    "duration": 222,
    "start_time": "2021-09-08T17:00:11.569Z"
   },
   {
    "duration": 9,
    "start_time": "2021-09-08T17:00:11.793Z"
   },
   {
    "duration": 12,
    "start_time": "2021-09-08T17:00:11.804Z"
   },
   {
    "duration": 40,
    "start_time": "2021-09-08T17:00:11.818Z"
   },
   {
    "duration": 15,
    "start_time": "2021-09-08T17:00:11.860Z"
   },
   {
    "duration": 283,
    "start_time": "2021-09-08T17:00:11.877Z"
   },
   {
    "duration": 9,
    "start_time": "2021-09-08T17:00:12.163Z"
   },
   {
    "duration": 13,
    "start_time": "2021-09-08T17:00:12.175Z"
   },
   {
    "duration": 20,
    "start_time": "2021-09-08T17:00:12.191Z"
   },
   {
    "duration": 54,
    "start_time": "2021-09-08T17:00:12.214Z"
   },
   {
    "duration": 14,
    "start_time": "2021-09-08T17:00:12.271Z"
   },
   {
    "duration": 20,
    "start_time": "2021-09-08T17:00:12.288Z"
   },
   {
    "duration": 57,
    "start_time": "2021-09-08T17:00:12.311Z"
   },
   {
    "duration": 718,
    "start_time": "2021-09-08T17:01:08.585Z"
   },
   {
    "duration": 322,
    "start_time": "2021-09-08T17:01:18.801Z"
   },
   {
    "duration": 456,
    "start_time": "2021-09-08T17:01:54.268Z"
   },
   {
    "duration": 463,
    "start_time": "2021-09-08T17:02:17.431Z"
   },
   {
    "duration": 516,
    "start_time": "2021-09-08T17:03:32.885Z"
   },
   {
    "duration": 436,
    "start_time": "2021-09-08T17:04:06.359Z"
   },
   {
    "duration": 438,
    "start_time": "2021-09-08T17:04:30.262Z"
   },
   {
    "duration": 740,
    "start_time": "2021-09-08T17:07:14.918Z"
   },
   {
    "duration": 823,
    "start_time": "2021-09-08T17:07:23.440Z"
   },
   {
    "duration": 573,
    "start_time": "2021-09-08T17:07:33.511Z"
   },
   {
    "duration": 602,
    "start_time": "2021-09-08T17:07:40.331Z"
   },
   {
    "duration": 591,
    "start_time": "2021-09-08T17:07:46.333Z"
   },
   {
    "duration": 14,
    "start_time": "2021-09-08T17:46:22.737Z"
   },
   {
    "duration": 14,
    "start_time": "2021-09-08T17:47:53.686Z"
   },
   {
    "duration": 395,
    "start_time": "2021-09-09T14:40:54.509Z"
   },
   {
    "duration": 422,
    "start_time": "2021-09-09T14:41:32.030Z"
   },
   {
    "duration": 432,
    "start_time": "2021-09-09T14:45:42.954Z"
   },
   {
    "duration": 1182,
    "start_time": "2021-09-09T14:46:02.296Z"
   },
   {
    "duration": 17,
    "start_time": "2021-09-09T14:46:10.224Z"
   },
   {
    "duration": 127,
    "start_time": "2021-09-09T15:00:24.262Z"
   },
   {
    "duration": 16,
    "start_time": "2021-09-09T15:00:40.895Z"
   },
   {
    "duration": 19,
    "start_time": "2021-09-09T15:02:50.197Z"
   },
   {
    "duration": 16,
    "start_time": "2021-09-09T15:03:16.263Z"
   },
   {
    "duration": 16,
    "start_time": "2021-09-09T15:03:31.933Z"
   },
   {
    "duration": 19,
    "start_time": "2021-09-09T15:10:24.653Z"
   },
   {
    "duration": 18,
    "start_time": "2021-09-09T15:23:21.928Z"
   },
   {
    "duration": 210,
    "start_time": "2021-09-09T15:38:57.154Z"
   },
   {
    "duration": 255,
    "start_time": "2021-09-09T15:39:06.418Z"
   },
   {
    "duration": 129,
    "start_time": "2021-09-09T15:40:14.047Z"
   },
   {
    "duration": 133,
    "start_time": "2021-09-09T15:41:02.282Z"
   },
   {
    "duration": 1561,
    "start_time": "2021-09-09T15:41:11.383Z"
   },
   {
    "duration": 24,
    "start_time": "2021-09-09T15:41:12.948Z"
   },
   {
    "duration": 30,
    "start_time": "2021-09-09T15:41:12.975Z"
   },
   {
    "duration": 50,
    "start_time": "2021-09-09T15:41:13.008Z"
   },
   {
    "duration": 11,
    "start_time": "2021-09-09T15:41:13.061Z"
   },
   {
    "duration": 21,
    "start_time": "2021-09-09T15:41:13.075Z"
   },
   {
    "duration": 24,
    "start_time": "2021-09-09T15:41:13.098Z"
   },
   {
    "duration": 12,
    "start_time": "2021-09-09T15:41:13.126Z"
   },
   {
    "duration": 636,
    "start_time": "2021-09-09T15:41:13.154Z"
   },
   {
    "duration": 52,
    "start_time": "2021-09-09T15:41:13.792Z"
   },
   {
    "duration": 20,
    "start_time": "2021-09-09T15:41:13.847Z"
   },
   {
    "duration": 28,
    "start_time": "2021-09-09T15:41:13.870Z"
   },
   {
    "duration": 20,
    "start_time": "2021-09-09T15:41:13.901Z"
   },
   {
    "duration": 20,
    "start_time": "2021-09-09T15:41:13.924Z"
   },
   {
    "duration": 36,
    "start_time": "2021-09-09T15:41:13.947Z"
   },
   {
    "duration": 16,
    "start_time": "2021-09-09T15:41:13.985Z"
   },
   {
    "duration": 26,
    "start_time": "2021-09-09T15:41:14.004Z"
   },
   {
    "duration": 25,
    "start_time": "2021-09-09T15:41:14.033Z"
   },
   {
    "duration": 22,
    "start_time": "2021-09-09T15:41:14.061Z"
   },
   {
    "duration": 16,
    "start_time": "2021-09-09T15:41:14.085Z"
   },
   {
    "duration": 25,
    "start_time": "2021-09-09T15:41:14.103Z"
   },
   {
    "duration": 14,
    "start_time": "2021-09-09T15:41:14.130Z"
   },
   {
    "duration": 7,
    "start_time": "2021-09-09T15:41:14.150Z"
   },
   {
    "duration": 22,
    "start_time": "2021-09-09T15:41:14.160Z"
   },
   {
    "duration": 13,
    "start_time": "2021-09-09T15:41:14.185Z"
   },
   {
    "duration": 31,
    "start_time": "2021-09-09T15:41:14.200Z"
   },
   {
    "duration": 19,
    "start_time": "2021-09-09T15:41:14.233Z"
   },
   {
    "duration": 593,
    "start_time": "2021-09-09T15:41:14.254Z"
   },
   {
    "duration": 22,
    "start_time": "2021-09-09T15:41:14.849Z"
   },
   {
    "duration": 4,
    "start_time": "2021-09-09T15:41:14.873Z"
   },
   {
    "duration": 477,
    "start_time": "2021-09-09T15:41:14.879Z"
   },
   {
    "duration": 477,
    "start_time": "2021-09-09T15:41:15.359Z"
   },
   {
    "duration": 541,
    "start_time": "2021-09-09T15:41:15.838Z"
   },
   {
    "duration": 454,
    "start_time": "2021-09-09T15:41:16.382Z"
   },
   {
    "duration": 21,
    "start_time": "2021-09-09T15:41:16.838Z"
   },
   {
    "duration": 683,
    "start_time": "2021-09-09T15:41:16.862Z"
   },
   {
    "duration": 16,
    "start_time": "2021-09-09T15:41:17.548Z"
   },
   {
    "duration": 13,
    "start_time": "2021-09-09T15:41:17.566Z"
   },
   {
    "duration": 27,
    "start_time": "2021-09-09T15:41:17.582Z"
   },
   {
    "duration": 439,
    "start_time": "2021-09-09T15:41:17.612Z"
   },
   {
    "duration": 18,
    "start_time": "2021-09-09T15:41:18.055Z"
   },
   {
    "duration": 6,
    "start_time": "2021-09-09T15:41:18.076Z"
   },
   {
    "duration": 24,
    "start_time": "2021-09-09T15:41:18.085Z"
   },
   {
    "duration": 57,
    "start_time": "2021-09-09T15:41:18.111Z"
   },
   {
    "duration": 8,
    "start_time": "2021-09-09T15:41:18.171Z"
   },
   {
    "duration": 374,
    "start_time": "2021-09-09T15:41:18.181Z"
   },
   {
    "duration": 518,
    "start_time": "2021-09-09T15:41:18.557Z"
   },
   {
    "duration": -200,
    "start_time": "2021-09-09T15:41:19.278Z"
   },
   {
    "duration": -222,
    "start_time": "2021-09-09T15:41:19.301Z"
   },
   {
    "duration": -226,
    "start_time": "2021-09-09T15:41:19.307Z"
   },
   {
    "duration": -235,
    "start_time": "2021-09-09T15:41:19.317Z"
   },
   {
    "duration": -239,
    "start_time": "2021-09-09T15:41:19.323Z"
   },
   {
    "duration": -243,
    "start_time": "2021-09-09T15:41:19.328Z"
   },
   {
    "duration": -247,
    "start_time": "2021-09-09T15:41:19.334Z"
   },
   {
    "duration": -251,
    "start_time": "2021-09-09T15:41:19.339Z"
   },
   {
    "duration": -256,
    "start_time": "2021-09-09T15:41:19.345Z"
   },
   {
    "duration": -259,
    "start_time": "2021-09-09T15:41:19.350Z"
   },
   {
    "duration": -264,
    "start_time": "2021-09-09T15:41:19.356Z"
   },
   {
    "duration": -268,
    "start_time": "2021-09-09T15:41:19.362Z"
   },
   {
    "duration": -304,
    "start_time": "2021-09-09T15:41:19.399Z"
   },
   {
    "duration": -308,
    "start_time": "2021-09-09T15:41:19.404Z"
   },
   {
    "duration": 2805,
    "start_time": "2021-09-09T15:45:12.769Z"
   },
   {
    "duration": 1520,
    "start_time": "2021-09-09T15:46:02.532Z"
   },
   {
    "duration": 19,
    "start_time": "2021-09-09T15:46:04.055Z"
   },
   {
    "duration": 16,
    "start_time": "2021-09-09T15:46:04.077Z"
   },
   {
    "duration": 43,
    "start_time": "2021-09-09T15:46:04.096Z"
   },
   {
    "duration": 13,
    "start_time": "2021-09-09T15:46:04.142Z"
   },
   {
    "duration": 9,
    "start_time": "2021-09-09T15:46:04.157Z"
   },
   {
    "duration": 14,
    "start_time": "2021-09-09T15:46:04.168Z"
   },
   {
    "duration": 14,
    "start_time": "2021-09-09T15:46:04.186Z"
   },
   {
    "duration": 678,
    "start_time": "2021-09-09T15:46:04.203Z"
   },
   {
    "duration": 53,
    "start_time": "2021-09-09T15:46:04.884Z"
   },
   {
    "duration": 13,
    "start_time": "2021-09-09T15:46:04.940Z"
   },
   {
    "duration": 18,
    "start_time": "2021-09-09T15:46:04.955Z"
   },
   {
    "duration": 11,
    "start_time": "2021-09-09T15:46:04.975Z"
   },
   {
    "duration": 13,
    "start_time": "2021-09-09T15:46:04.989Z"
   },
   {
    "duration": 54,
    "start_time": "2021-09-09T15:46:05.004Z"
   },
   {
    "duration": 17,
    "start_time": "2021-09-09T15:46:05.061Z"
   },
   {
    "duration": 12,
    "start_time": "2021-09-09T15:46:05.080Z"
   },
   {
    "duration": 11,
    "start_time": "2021-09-09T15:46:05.094Z"
   },
   {
    "duration": 11,
    "start_time": "2021-09-09T15:46:05.107Z"
   },
   {
    "duration": 43,
    "start_time": "2021-09-09T15:46:05.121Z"
   },
   {
    "duration": 17,
    "start_time": "2021-09-09T15:46:05.166Z"
   },
   {
    "duration": 9,
    "start_time": "2021-09-09T15:46:05.186Z"
   },
   {
    "duration": 5,
    "start_time": "2021-09-09T15:46:05.202Z"
   },
   {
    "duration": 14,
    "start_time": "2021-09-09T15:46:05.211Z"
   },
   {
    "duration": 9,
    "start_time": "2021-09-09T15:46:05.254Z"
   },
   {
    "duration": 20,
    "start_time": "2021-09-09T15:46:05.265Z"
   },
   {
    "duration": 16,
    "start_time": "2021-09-09T15:46:05.288Z"
   },
   {
    "duration": 610,
    "start_time": "2021-09-09T15:46:05.307Z"
   },
   {
    "duration": 35,
    "start_time": "2021-09-09T15:46:05.920Z"
   },
   {
    "duration": 8,
    "start_time": "2021-09-09T15:46:05.957Z"
   },
   {
    "duration": 478,
    "start_time": "2021-09-09T15:46:05.967Z"
   },
   {
    "duration": 470,
    "start_time": "2021-09-09T15:46:06.455Z"
   },
   {
    "duration": 577,
    "start_time": "2021-09-09T15:46:06.927Z"
   },
   {
    "duration": 475,
    "start_time": "2021-09-09T15:46:07.507Z"
   },
   {
    "duration": 12,
    "start_time": "2021-09-09T15:46:07.986Z"
   },
   {
    "duration": 683,
    "start_time": "2021-09-09T15:46:08.000Z"
   },
   {
    "duration": 12,
    "start_time": "2021-09-09T15:46:08.686Z"
   },
   {
    "duration": 14,
    "start_time": "2021-09-09T15:46:08.701Z"
   },
   {
    "duration": 45,
    "start_time": "2021-09-09T15:46:08.717Z"
   },
   {
    "duration": 418,
    "start_time": "2021-09-09T15:46:08.765Z"
   },
   {
    "duration": 18,
    "start_time": "2021-09-09T15:46:09.186Z"
   },
   {
    "duration": 18,
    "start_time": "2021-09-09T15:46:09.207Z"
   },
   {
    "duration": 42,
    "start_time": "2021-09-09T15:46:09.228Z"
   },
   {
    "duration": 20,
    "start_time": "2021-09-09T15:46:09.273Z"
   },
   {
    "duration": 19,
    "start_time": "2021-09-09T15:46:09.296Z"
   },
   {
    "duration": 433,
    "start_time": "2021-09-09T15:46:09.317Z"
   },
   {
    "duration": 11,
    "start_time": "2021-09-09T15:46:09.753Z"
   },
   {
    "duration": 231,
    "start_time": "2021-09-09T15:46:09.766Z"
   },
   {
    "duration": 9,
    "start_time": "2021-09-09T15:46:09.999Z"
   },
   {
    "duration": 31,
    "start_time": "2021-09-09T15:46:10.010Z"
   },
   {
    "duration": 28,
    "start_time": "2021-09-09T15:46:10.043Z"
   },
   {
    "duration": 27,
    "start_time": "2021-09-09T15:46:10.074Z"
   },
   {
    "duration": 29,
    "start_time": "2021-09-09T15:46:10.104Z"
   },
   {
    "duration": 244,
    "start_time": "2021-09-09T15:46:10.135Z"
   },
   {
    "duration": 9,
    "start_time": "2021-09-09T15:46:10.381Z"
   },
   {
    "duration": 17,
    "start_time": "2021-09-09T15:46:10.392Z"
   },
   {
    "duration": 43,
    "start_time": "2021-09-09T15:46:10.411Z"
   },
   {
    "duration": 191,
    "start_time": "2021-09-09T15:46:10.456Z"
   },
   {
    "duration": -97,
    "start_time": "2021-09-09T15:46:10.747Z"
   },
   {
    "duration": -104,
    "start_time": "2021-09-09T15:46:10.755Z"
   },
   {
    "duration": -108,
    "start_time": "2021-09-09T15:46:10.760Z"
   },
   {
    "duration": 127,
    "start_time": "2021-09-09T15:49:43.275Z"
   },
   {
    "duration": 146,
    "start_time": "2021-09-09T15:50:40.098Z"
   },
   {
    "duration": 209,
    "start_time": "2021-09-09T15:51:51.847Z"
   },
   {
    "duration": 143,
    "start_time": "2021-09-09T15:52:10.120Z"
   },
   {
    "duration": 15,
    "start_time": "2021-09-09T15:54:05.185Z"
   },
   {
    "duration": 14,
    "start_time": "2021-09-09T15:55:26.941Z"
   },
   {
    "duration": 21,
    "start_time": "2021-09-09T16:03:40.671Z"
   },
   {
    "duration": 21,
    "start_time": "2021-09-09T16:05:32.671Z"
   },
   {
    "duration": 5,
    "start_time": "2021-09-09T16:31:16.551Z"
   },
   {
    "duration": 1467,
    "start_time": "2021-09-10T15:41:32.994Z"
   },
   {
    "duration": 19,
    "start_time": "2021-09-10T15:41:34.464Z"
   },
   {
    "duration": 17,
    "start_time": "2021-09-10T15:41:34.486Z"
   },
   {
    "duration": 48,
    "start_time": "2021-09-10T15:41:34.506Z"
   },
   {
    "duration": 8,
    "start_time": "2021-09-10T15:41:34.557Z"
   },
   {
    "duration": 17,
    "start_time": "2021-09-10T15:41:34.567Z"
   },
   {
    "duration": 14,
    "start_time": "2021-09-10T15:41:34.586Z"
   },
   {
    "duration": 12,
    "start_time": "2021-09-10T15:41:34.604Z"
   },
   {
    "duration": 682,
    "start_time": "2021-09-10T15:41:34.619Z"
   },
   {
    "duration": 101,
    "start_time": "2021-09-10T15:41:35.303Z"
   },
   {
    "duration": 13,
    "start_time": "2021-09-10T15:41:35.407Z"
   },
   {
    "duration": 13,
    "start_time": "2021-09-10T15:41:35.422Z"
   },
   {
    "duration": 26,
    "start_time": "2021-09-10T15:41:35.437Z"
   },
   {
    "duration": 13,
    "start_time": "2021-09-10T15:41:35.465Z"
   },
   {
    "duration": 27,
    "start_time": "2021-09-10T15:41:35.480Z"
   },
   {
    "duration": 16,
    "start_time": "2021-09-10T15:41:35.510Z"
   },
   {
    "duration": 33,
    "start_time": "2021-09-10T15:41:35.528Z"
   },
   {
    "duration": 21,
    "start_time": "2021-09-10T15:41:35.563Z"
   },
   {
    "duration": 21,
    "start_time": "2021-09-10T15:41:35.586Z"
   },
   {
    "duration": 15,
    "start_time": "2021-09-10T15:41:35.609Z"
   },
   {
    "duration": 19,
    "start_time": "2021-09-10T15:41:35.626Z"
   },
   {
    "duration": 21,
    "start_time": "2021-09-10T15:41:35.647Z"
   },
   {
    "duration": 10,
    "start_time": "2021-09-10T15:41:35.673Z"
   },
   {
    "duration": 29,
    "start_time": "2021-09-10T15:41:35.686Z"
   },
   {
    "duration": 11,
    "start_time": "2021-09-10T15:41:35.717Z"
   },
   {
    "duration": 20,
    "start_time": "2021-09-10T15:41:35.731Z"
   },
   {
    "duration": 26,
    "start_time": "2021-09-10T15:41:35.753Z"
   },
   {
    "duration": 587,
    "start_time": "2021-09-10T15:41:35.782Z"
   },
   {
    "duration": 5,
    "start_time": "2021-09-10T15:41:36.371Z"
   },
   {
    "duration": 14,
    "start_time": "2021-09-10T15:41:36.378Z"
   },
   {
    "duration": 471,
    "start_time": "2021-09-10T15:41:36.394Z"
   },
   {
    "duration": 483,
    "start_time": "2021-09-10T15:41:36.867Z"
   },
   {
    "duration": 626,
    "start_time": "2021-09-10T15:41:37.356Z"
   },
   {
    "duration": 455,
    "start_time": "2021-09-10T15:41:37.984Z"
   },
   {
    "duration": 20,
    "start_time": "2021-09-10T15:41:38.443Z"
   },
   {
    "duration": 687,
    "start_time": "2021-09-10T15:41:38.465Z"
   },
   {
    "duration": 11,
    "start_time": "2021-09-10T15:41:39.155Z"
   },
   {
    "duration": 8,
    "start_time": "2021-09-10T15:41:39.169Z"
   },
   {
    "duration": 28,
    "start_time": "2021-09-10T15:41:39.179Z"
   },
   {
    "duration": 449,
    "start_time": "2021-09-10T15:41:39.210Z"
   },
   {
    "duration": 17,
    "start_time": "2021-09-10T15:41:39.662Z"
   },
   {
    "duration": 8,
    "start_time": "2021-09-10T15:41:39.682Z"
   },
   {
    "duration": 38,
    "start_time": "2021-09-10T15:41:39.692Z"
   },
   {
    "duration": 39,
    "start_time": "2021-09-10T15:41:39.732Z"
   },
   {
    "duration": 11,
    "start_time": "2021-09-10T15:41:39.774Z"
   },
   {
    "duration": 396,
    "start_time": "2021-09-10T15:41:39.788Z"
   },
   {
    "duration": 11,
    "start_time": "2021-09-10T15:41:40.187Z"
   },
   {
    "duration": 233,
    "start_time": "2021-09-10T15:41:40.200Z"
   },
   {
    "duration": 9,
    "start_time": "2021-09-10T15:41:40.436Z"
   },
   {
    "duration": 14,
    "start_time": "2021-09-10T15:41:40.448Z"
   },
   {
    "duration": 19,
    "start_time": "2021-09-10T15:41:40.464Z"
   },
   {
    "duration": 15,
    "start_time": "2021-09-10T15:41:40.486Z"
   },
   {
    "duration": 54,
    "start_time": "2021-09-10T15:41:40.504Z"
   },
   {
    "duration": 266,
    "start_time": "2021-09-10T15:41:40.561Z"
   },
   {
    "duration": 25,
    "start_time": "2021-09-10T15:41:40.830Z"
   },
   {
    "duration": 17,
    "start_time": "2021-09-10T15:41:40.858Z"
   },
   {
    "duration": 17,
    "start_time": "2021-09-10T15:41:40.878Z"
   },
   {
    "duration": 21,
    "start_time": "2021-09-10T15:41:40.898Z"
   },
   {
    "duration": 44,
    "start_time": "2021-09-10T15:41:40.922Z"
   },
   {
    "duration": 20,
    "start_time": "2021-09-10T15:41:40.969Z"
   },
   {
    "duration": 1486,
    "start_time": "2021-09-10T16:12:46.070Z"
   },
   {
    "duration": 19,
    "start_time": "2021-09-10T16:12:47.559Z"
   },
   {
    "duration": 11,
    "start_time": "2021-09-10T16:12:47.581Z"
   },
   {
    "duration": 34,
    "start_time": "2021-09-10T16:12:47.595Z"
   },
   {
    "duration": 25,
    "start_time": "2021-09-10T16:12:47.632Z"
   },
   {
    "duration": 12,
    "start_time": "2021-09-10T16:12:47.660Z"
   },
   {
    "duration": 12,
    "start_time": "2021-09-10T16:12:47.674Z"
   },
   {
    "duration": 11,
    "start_time": "2021-09-10T16:12:47.689Z"
   },
   {
    "duration": 658,
    "start_time": "2021-09-10T16:12:47.703Z"
   },
   {
    "duration": 102,
    "start_time": "2021-09-10T16:12:48.363Z"
   },
   {
    "duration": 11,
    "start_time": "2021-09-10T16:12:48.467Z"
   },
   {
    "duration": 11,
    "start_time": "2021-09-10T16:12:48.480Z"
   },
   {
    "duration": 8,
    "start_time": "2021-09-10T16:12:48.494Z"
   },
   {
    "duration": 8,
    "start_time": "2021-09-10T16:12:48.505Z"
   },
   {
    "duration": 54,
    "start_time": "2021-09-10T16:12:48.515Z"
   },
   {
    "duration": 17,
    "start_time": "2021-09-10T16:12:48.571Z"
   },
   {
    "duration": 23,
    "start_time": "2021-09-10T16:12:48.590Z"
   },
   {
    "duration": 8,
    "start_time": "2021-09-10T16:12:48.615Z"
   },
   {
    "duration": 33,
    "start_time": "2021-09-10T16:12:48.625Z"
   },
   {
    "duration": 21,
    "start_time": "2021-09-10T16:12:48.660Z"
   },
   {
    "duration": 13,
    "start_time": "2021-09-10T16:12:48.683Z"
   },
   {
    "duration": 8,
    "start_time": "2021-09-10T16:12:48.698Z"
   },
   {
    "duration": 5,
    "start_time": "2021-09-10T16:12:48.713Z"
   },
   {
    "duration": 35,
    "start_time": "2021-09-10T16:12:48.721Z"
   },
   {
    "duration": 8,
    "start_time": "2021-09-10T16:12:48.758Z"
   },
   {
    "duration": 14,
    "start_time": "2021-09-10T16:12:48.768Z"
   },
   {
    "duration": 11,
    "start_time": "2021-09-10T16:12:48.785Z"
   },
   {
    "duration": 617,
    "start_time": "2021-09-10T16:12:48.798Z"
   },
   {
    "duration": 5,
    "start_time": "2021-09-10T16:12:49.417Z"
   },
   {
    "duration": 14,
    "start_time": "2021-09-10T16:12:49.424Z"
   },
   {
    "duration": 462,
    "start_time": "2021-09-10T16:12:49.441Z"
   },
   {
    "duration": 506,
    "start_time": "2021-09-10T16:12:49.906Z"
   },
   {
    "duration": 562,
    "start_time": "2021-09-10T16:12:50.415Z"
   },
   {
    "duration": 452,
    "start_time": "2021-09-10T16:12:50.980Z"
   },
   {
    "duration": 23,
    "start_time": "2021-09-10T16:12:51.434Z"
   },
   {
    "duration": 705,
    "start_time": "2021-09-10T16:12:51.459Z"
   },
   {
    "duration": 15,
    "start_time": "2021-09-10T16:12:52.167Z"
   },
   {
    "duration": 15,
    "start_time": "2021-09-10T16:12:52.185Z"
   },
   {
    "duration": 26,
    "start_time": "2021-09-10T16:12:52.203Z"
   },
   {
    "duration": 437,
    "start_time": "2021-09-10T16:12:52.232Z"
   },
   {
    "duration": 17,
    "start_time": "2021-09-10T16:12:52.671Z"
   },
   {
    "duration": 9,
    "start_time": "2021-09-10T16:12:52.690Z"
   },
   {
    "duration": 23,
    "start_time": "2021-09-10T16:12:52.702Z"
   },
   {
    "duration": 20,
    "start_time": "2021-09-10T16:12:52.755Z"
   },
   {
    "duration": 7,
    "start_time": "2021-09-10T16:12:52.777Z"
   },
   {
    "duration": 389,
    "start_time": "2021-09-10T16:12:52.786Z"
   },
   {
    "duration": 10,
    "start_time": "2021-09-10T16:12:53.177Z"
   },
   {
    "duration": 232,
    "start_time": "2021-09-10T16:12:53.189Z"
   },
   {
    "duration": 9,
    "start_time": "2021-09-10T16:12:53.423Z"
   },
   {
    "duration": 22,
    "start_time": "2021-09-10T16:12:53.435Z"
   },
   {
    "duration": 19,
    "start_time": "2021-09-10T16:12:53.459Z"
   },
   {
    "duration": 15,
    "start_time": "2021-09-10T16:12:53.481Z"
   },
   {
    "duration": 19,
    "start_time": "2021-09-10T16:12:53.498Z"
   },
   {
    "duration": 267,
    "start_time": "2021-09-10T16:12:53.519Z"
   },
   {
    "duration": 9,
    "start_time": "2021-09-10T16:12:53.788Z"
   },
   {
    "duration": 12,
    "start_time": "2021-09-10T16:12:53.800Z"
   },
   {
    "duration": 49,
    "start_time": "2021-09-10T16:12:53.814Z"
   },
   {
    "duration": 22,
    "start_time": "2021-09-10T16:12:53.866Z"
   },
   {
    "duration": 16,
    "start_time": "2021-09-10T16:12:53.891Z"
   },
   {
    "duration": 63,
    "start_time": "2021-09-10T16:12:53.910Z"
   }
  ],
  "kernelspec": {
   "display_name": "Python 3",
   "language": "python",
   "name": "python3"
  },
  "language_info": {
   "codemirror_mode": {
    "name": "ipython",
    "version": 3
   },
   "file_extension": ".py",
   "mimetype": "text/x-python",
   "name": "python",
   "nbconvert_exporter": "python",
   "pygments_lexer": "ipython3",
   "version": "3.7.10"
  },
  "toc": {
   "base_numbering": 1,
   "nav_menu": {},
   "number_sections": true,
   "sideBar": true,
   "skip_h1_title": true,
   "title_cell": "Table of Contents",
   "title_sidebar": "Contents",
   "toc_cell": false,
   "toc_position": {},
   "toc_section_display": true,
   "toc_window_display": false
  }
 },
 "nbformat": 4,
 "nbformat_minor": 4
}
