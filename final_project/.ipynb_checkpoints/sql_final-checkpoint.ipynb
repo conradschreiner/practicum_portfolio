{
 "cells": [
  {
   "cell_type": "markdown",
   "id": "separated-property",
   "metadata": {},
   "source": [
    "<a id='Top of Page'></a>"
   ]
  },
  {
   "cell_type": "markdown",
   "id": "tropical-making",
   "metadata": {},
   "source": [
    "# SQL Project"
   ]
  },
  {
   "cell_type": "markdown",
   "id": "finnish-norwegian",
   "metadata": {},
   "source": [
    "Table of Contents:\n",
    "\n",
    "<a href='#Step 1 Describe the Goals of the Study'>Step 1 Describe the Goals of the Study</a>\n",
    "\n",
    "<a href='#Step 2 Study the Tables'>Step 2 Study the Tables</a>\n",
    "\n",
    "<a href='#Step 3 Make an SQL Query for each of the Tasks and Output the Results in the Notebook'>Step 3 Make an SQL Query for each of the Tasks and Output the Results in the Notebook</a>\n",
    "\n",
    "<a href='#Step 4 Conclusions and Recommendations'>Step 4 Conclusions and Recommendations</a>\n",
    "\n"
   ]
  },
  {
   "cell_type": "markdown",
   "id": "amended-wonder",
   "metadata": {},
   "source": [
    "<a id='Step 1 Describe the Goals of the Study'><a/>"
   ]
  },
  {
   "cell_type": "markdown",
   "id": "altered-proxy",
   "metadata": {},
   "source": [
    "## Project Description\n",
    "\n",
    "The coronavirus took the entire world by surprise, changing everyone's daily routine. City dwellers no longer spent their free time outside, going to cafes and malls; more people were at home, reading books. That attracted the attention of startups that rushed to develop new apps for book lovers. \n",
    "\n",
    "I've been given a database of one of the services competing in this market. It contains data on books, publishers, authors, and customer ratings and reviews of books. This information will be used to generate a value proposition for a new product."
   ]
  },
  {
   "cell_type": "code",
   "execution_count": 34,
   "id": "conditional-truck",
   "metadata": {},
   "outputs": [],
   "source": [
    "# import libraries and establish connection to the database\n",
    "import psycopg2\n",
    "import pandas as pd\n",
    "import numpy as np\n",
    "import seaborn as sns\n",
    "import matplotlib.pyplot as plt\n",
    "from sqlalchemy import create_engine\n",
    "\n",
    "db_config = {'user': 'praktikum_student',         # user name\n",
    "             'pwd': 'Sdf4$2;d-d30pp', # password\n",
    "             'host': 'rc1b-wcoijxj3yxfsf3fs.mdb.yandexcloud.net',\n",
    "             'port': 6432,              # connection port\n",
    "             'db': 'data-analyst-final-project-db'}          # the name of the data base\n",
    "\n",
    "connection_string = 'postgresql://{}:{}@{}:{}/{}'.format(db_config['user'],\n",
    "                                                                     db_config['pwd'],\n",
    "                                                                       db_config['host'],\n",
    "                                                                       db_config['port'],\n",
    "                                                                       db_config['db'])\n",
    "\n",
    "engine = create_engine(connection_string, connect_args={'sslmode':'require'})\n"
   ]
  },
  {
   "cell_type": "code",
   "execution_count": 2,
   "id": "nearby-blair",
   "metadata": {},
   "outputs": [],
   "source": [
    "# use this code for SQL queries: pd.io.sql.read_sql(query, con = engine)\n",
    "# the unction reads a SQL query or database table into a pandas dataframe"
   ]
  },
  {
   "cell_type": "markdown",
   "id": "lightweight-stress",
   "metadata": {},
   "source": [
    "<a id='Step 2 Study the Tables'><a/>"
   ]
  },
  {
   "cell_type": "markdown",
   "id": "informed-registrar",
   "metadata": {},
   "source": [
    "## Step 2 Study the Tables"
   ]
  },
  {
   "cell_type": "code",
   "execution_count": 35,
   "id": "ultimate-lawrence",
   "metadata": {},
   "outputs": [],
   "source": [
    "# displaying ERD for the database using markdown"
   ]
  },
  {
   "cell_type": "markdown",
   "id": "fatty-cleaner",
   "metadata": {},
   "source": [
    "<img src=\"book_database_ERD.png\">"
   ]
  },
  {
   "cell_type": "markdown",
   "id": "wicked-reviewer",
   "metadata": {},
   "source": [
    "To begin I'm going to get a look at all the tables in the database.\n",
    "\n",
    "I'll proceed in this order:\n",
    "1. Books\n",
    "2. Authors\n",
    "3. Publishers\n",
    "4. Ratings\n",
    "5. Reviews"
   ]
  },
  {
   "cell_type": "code",
   "execution_count": 3,
   "id": "funded-mention",
   "metadata": {},
   "outputs": [],
   "source": [
    "#querying the books table\n",
    "books_query = \"SELECT * FROM books\""
   ]
  },
  {
   "cell_type": "code",
   "execution_count": 4,
   "id": "experienced-moral",
   "metadata": {},
   "outputs": [
    {
     "data": {
      "text/html": [
       "<div>\n",
       "<style scoped>\n",
       "    .dataframe tbody tr th:only-of-type {\n",
       "        vertical-align: middle;\n",
       "    }\n",
       "\n",
       "    .dataframe tbody tr th {\n",
       "        vertical-align: top;\n",
       "    }\n",
       "\n",
       "    .dataframe thead th {\n",
       "        text-align: right;\n",
       "    }\n",
       "</style>\n",
       "<table border=\"1\" class=\"dataframe\">\n",
       "  <thead>\n",
       "    <tr style=\"text-align: right;\">\n",
       "      <th></th>\n",
       "      <th>book_id</th>\n",
       "      <th>author_id</th>\n",
       "      <th>title</th>\n",
       "      <th>num_pages</th>\n",
       "      <th>publication_date</th>\n",
       "      <th>publisher_id</th>\n",
       "    </tr>\n",
       "  </thead>\n",
       "  <tbody>\n",
       "    <tr>\n",
       "      <th>0</th>\n",
       "      <td>1</td>\n",
       "      <td>546</td>\n",
       "      <td>'Salem's Lot</td>\n",
       "      <td>594</td>\n",
       "      <td>2005-11-01</td>\n",
       "      <td>93</td>\n",
       "    </tr>\n",
       "    <tr>\n",
       "      <th>1</th>\n",
       "      <td>2</td>\n",
       "      <td>465</td>\n",
       "      <td>1 000 Places to See Before You Die</td>\n",
       "      <td>992</td>\n",
       "      <td>2003-05-22</td>\n",
       "      <td>336</td>\n",
       "    </tr>\n",
       "    <tr>\n",
       "      <th>2</th>\n",
       "      <td>3</td>\n",
       "      <td>407</td>\n",
       "      <td>13 Little Blue Envelopes (Little Blue Envelope...</td>\n",
       "      <td>322</td>\n",
       "      <td>2010-12-21</td>\n",
       "      <td>135</td>\n",
       "    </tr>\n",
       "    <tr>\n",
       "      <th>3</th>\n",
       "      <td>4</td>\n",
       "      <td>82</td>\n",
       "      <td>1491: New Revelations of the Americas Before C...</td>\n",
       "      <td>541</td>\n",
       "      <td>2006-10-10</td>\n",
       "      <td>309</td>\n",
       "    </tr>\n",
       "    <tr>\n",
       "      <th>4</th>\n",
       "      <td>5</td>\n",
       "      <td>125</td>\n",
       "      <td>1776</td>\n",
       "      <td>386</td>\n",
       "      <td>2006-07-04</td>\n",
       "      <td>268</td>\n",
       "    </tr>\n",
       "  </tbody>\n",
       "</table>\n",
       "</div>"
      ],
      "text/plain": [
       "   book_id  author_id                                              title  \\\n",
       "0        1        546                                       'Salem's Lot   \n",
       "1        2        465                 1 000 Places to See Before You Die   \n",
       "2        3        407  13 Little Blue Envelopes (Little Blue Envelope...   \n",
       "3        4         82  1491: New Revelations of the Americas Before C...   \n",
       "4        5        125                                               1776   \n",
       "\n",
       "   num_pages publication_date  publisher_id  \n",
       "0        594       2005-11-01            93  \n",
       "1        992       2003-05-22           336  \n",
       "2        322       2010-12-21           135  \n",
       "3        541       2006-10-10           309  \n",
       "4        386       2006-07-04           268  "
      ]
     },
     "execution_count": 4,
     "metadata": {},
     "output_type": "execute_result"
    }
   ],
   "source": [
    "#creating variable for the book table\n",
    "books_table = pd.io.sql.read_sql(books_query, con = engine)\n",
    "books_table.head()"
   ]
  },
  {
   "cell_type": "code",
   "execution_count": 5,
   "id": "extreme-adapter",
   "metadata": {},
   "outputs": [],
   "source": [
    "#querying the authors table\n",
    "authors_query = \"SELECT * FROM authors\""
   ]
  },
  {
   "cell_type": "code",
   "execution_count": 6,
   "id": "efficient-tulsa",
   "metadata": {},
   "outputs": [
    {
     "data": {
      "text/html": [
       "<div>\n",
       "<style scoped>\n",
       "    .dataframe tbody tr th:only-of-type {\n",
       "        vertical-align: middle;\n",
       "    }\n",
       "\n",
       "    .dataframe tbody tr th {\n",
       "        vertical-align: top;\n",
       "    }\n",
       "\n",
       "    .dataframe thead th {\n",
       "        text-align: right;\n",
       "    }\n",
       "</style>\n",
       "<table border=\"1\" class=\"dataframe\">\n",
       "  <thead>\n",
       "    <tr style=\"text-align: right;\">\n",
       "      <th></th>\n",
       "      <th>author_id</th>\n",
       "      <th>author</th>\n",
       "    </tr>\n",
       "  </thead>\n",
       "  <tbody>\n",
       "    <tr>\n",
       "      <th>0</th>\n",
       "      <td>1</td>\n",
       "      <td>A.S. Byatt</td>\n",
       "    </tr>\n",
       "    <tr>\n",
       "      <th>1</th>\n",
       "      <td>2</td>\n",
       "      <td>Aesop/Laura Harris/Laura Gibbs</td>\n",
       "    </tr>\n",
       "    <tr>\n",
       "      <th>2</th>\n",
       "      <td>3</td>\n",
       "      <td>Agatha Christie</td>\n",
       "    </tr>\n",
       "    <tr>\n",
       "      <th>3</th>\n",
       "      <td>4</td>\n",
       "      <td>Alan Brennert</td>\n",
       "    </tr>\n",
       "    <tr>\n",
       "      <th>4</th>\n",
       "      <td>5</td>\n",
       "      <td>Alan Moore/David   Lloyd</td>\n",
       "    </tr>\n",
       "  </tbody>\n",
       "</table>\n",
       "</div>"
      ],
      "text/plain": [
       "   author_id                          author\n",
       "0          1                      A.S. Byatt\n",
       "1          2  Aesop/Laura Harris/Laura Gibbs\n",
       "2          3                 Agatha Christie\n",
       "3          4                   Alan Brennert\n",
       "4          5        Alan Moore/David   Lloyd"
      ]
     },
     "execution_count": 6,
     "metadata": {},
     "output_type": "execute_result"
    }
   ],
   "source": [
    "authors_table = pd.io.sql.read_sql(authors_query, con = engine)\n",
    "authors_table.head()"
   ]
  },
  {
   "cell_type": "code",
   "execution_count": 7,
   "id": "processed-pantyhose",
   "metadata": {},
   "outputs": [],
   "source": [
    "#querying the publishers table\n",
    "publishers_query = \"SELECT * FROM publishers\""
   ]
  },
  {
   "cell_type": "code",
   "execution_count": 8,
   "id": "virgin-lease",
   "metadata": {},
   "outputs": [
    {
     "data": {
      "text/html": [
       "<div>\n",
       "<style scoped>\n",
       "    .dataframe tbody tr th:only-of-type {\n",
       "        vertical-align: middle;\n",
       "    }\n",
       "\n",
       "    .dataframe tbody tr th {\n",
       "        vertical-align: top;\n",
       "    }\n",
       "\n",
       "    .dataframe thead th {\n",
       "        text-align: right;\n",
       "    }\n",
       "</style>\n",
       "<table border=\"1\" class=\"dataframe\">\n",
       "  <thead>\n",
       "    <tr style=\"text-align: right;\">\n",
       "      <th></th>\n",
       "      <th>publisher_id</th>\n",
       "      <th>publisher</th>\n",
       "    </tr>\n",
       "  </thead>\n",
       "  <tbody>\n",
       "    <tr>\n",
       "      <th>0</th>\n",
       "      <td>1</td>\n",
       "      <td>Ace</td>\n",
       "    </tr>\n",
       "    <tr>\n",
       "      <th>1</th>\n",
       "      <td>2</td>\n",
       "      <td>Ace Book</td>\n",
       "    </tr>\n",
       "    <tr>\n",
       "      <th>2</th>\n",
       "      <td>3</td>\n",
       "      <td>Ace Books</td>\n",
       "    </tr>\n",
       "    <tr>\n",
       "      <th>3</th>\n",
       "      <td>4</td>\n",
       "      <td>Ace Hardcover</td>\n",
       "    </tr>\n",
       "    <tr>\n",
       "      <th>4</th>\n",
       "      <td>5</td>\n",
       "      <td>Addison Wesley Publishing Company</td>\n",
       "    </tr>\n",
       "  </tbody>\n",
       "</table>\n",
       "</div>"
      ],
      "text/plain": [
       "   publisher_id                          publisher\n",
       "0             1                                Ace\n",
       "1             2                           Ace Book\n",
       "2             3                          Ace Books\n",
       "3             4                      Ace Hardcover\n",
       "4             5  Addison Wesley Publishing Company"
      ]
     },
     "execution_count": 8,
     "metadata": {},
     "output_type": "execute_result"
    }
   ],
   "source": [
    "publishers_table = pd.io.sql.read_sql(publishers_query, con = engine)\n",
    "publishers_table.head()"
   ]
  },
  {
   "cell_type": "code",
   "execution_count": 9,
   "id": "compound-truth",
   "metadata": {},
   "outputs": [],
   "source": [
    "#querying the publishers table\n",
    "ratings_query = \"SELECT * FROM ratings\""
   ]
  },
  {
   "cell_type": "code",
   "execution_count": 10,
   "id": "passive-aircraft",
   "metadata": {},
   "outputs": [
    {
     "data": {
      "text/html": [
       "<div>\n",
       "<style scoped>\n",
       "    .dataframe tbody tr th:only-of-type {\n",
       "        vertical-align: middle;\n",
       "    }\n",
       "\n",
       "    .dataframe tbody tr th {\n",
       "        vertical-align: top;\n",
       "    }\n",
       "\n",
       "    .dataframe thead th {\n",
       "        text-align: right;\n",
       "    }\n",
       "</style>\n",
       "<table border=\"1\" class=\"dataframe\">\n",
       "  <thead>\n",
       "    <tr style=\"text-align: right;\">\n",
       "      <th></th>\n",
       "      <th>rating_id</th>\n",
       "      <th>book_id</th>\n",
       "      <th>username</th>\n",
       "      <th>rating</th>\n",
       "    </tr>\n",
       "  </thead>\n",
       "  <tbody>\n",
       "    <tr>\n",
       "      <th>0</th>\n",
       "      <td>1</td>\n",
       "      <td>1</td>\n",
       "      <td>ryanfranco</td>\n",
       "      <td>4</td>\n",
       "    </tr>\n",
       "    <tr>\n",
       "      <th>1</th>\n",
       "      <td>2</td>\n",
       "      <td>1</td>\n",
       "      <td>grantpatricia</td>\n",
       "      <td>2</td>\n",
       "    </tr>\n",
       "    <tr>\n",
       "      <th>2</th>\n",
       "      <td>3</td>\n",
       "      <td>1</td>\n",
       "      <td>brandtandrea</td>\n",
       "      <td>5</td>\n",
       "    </tr>\n",
       "    <tr>\n",
       "      <th>3</th>\n",
       "      <td>4</td>\n",
       "      <td>2</td>\n",
       "      <td>lorichen</td>\n",
       "      <td>3</td>\n",
       "    </tr>\n",
       "    <tr>\n",
       "      <th>4</th>\n",
       "      <td>5</td>\n",
       "      <td>2</td>\n",
       "      <td>mariokeller</td>\n",
       "      <td>2</td>\n",
       "    </tr>\n",
       "  </tbody>\n",
       "</table>\n",
       "</div>"
      ],
      "text/plain": [
       "   rating_id  book_id       username  rating\n",
       "0          1        1     ryanfranco       4\n",
       "1          2        1  grantpatricia       2\n",
       "2          3        1   brandtandrea       5\n",
       "3          4        2       lorichen       3\n",
       "4          5        2    mariokeller       2"
      ]
     },
     "execution_count": 10,
     "metadata": {},
     "output_type": "execute_result"
    }
   ],
   "source": [
    "ratings_table = pd.io.sql.read_sql(ratings_query, con = engine)\n",
    "ratings_table.head()"
   ]
  },
  {
   "cell_type": "code",
   "execution_count": 11,
   "id": "received-pantyhose",
   "metadata": {},
   "outputs": [],
   "source": [
    "#querying the publishers table\n",
    "reviews_query = \"SELECT * FROM reviews\""
   ]
  },
  {
   "cell_type": "code",
   "execution_count": 12,
   "id": "played-appeal",
   "metadata": {},
   "outputs": [
    {
     "data": {
      "text/html": [
       "<div>\n",
       "<style scoped>\n",
       "    .dataframe tbody tr th:only-of-type {\n",
       "        vertical-align: middle;\n",
       "    }\n",
       "\n",
       "    .dataframe tbody tr th {\n",
       "        vertical-align: top;\n",
       "    }\n",
       "\n",
       "    .dataframe thead th {\n",
       "        text-align: right;\n",
       "    }\n",
       "</style>\n",
       "<table border=\"1\" class=\"dataframe\">\n",
       "  <thead>\n",
       "    <tr style=\"text-align: right;\">\n",
       "      <th></th>\n",
       "      <th>review_id</th>\n",
       "      <th>book_id</th>\n",
       "      <th>username</th>\n",
       "      <th>text</th>\n",
       "    </tr>\n",
       "  </thead>\n",
       "  <tbody>\n",
       "    <tr>\n",
       "      <th>0</th>\n",
       "      <td>1</td>\n",
       "      <td>1</td>\n",
       "      <td>brandtandrea</td>\n",
       "      <td>Mention society tell send professor analysis. ...</td>\n",
       "    </tr>\n",
       "    <tr>\n",
       "      <th>1</th>\n",
       "      <td>2</td>\n",
       "      <td>1</td>\n",
       "      <td>ryanfranco</td>\n",
       "      <td>Foot glass pretty audience hit themselves. Amo...</td>\n",
       "    </tr>\n",
       "    <tr>\n",
       "      <th>2</th>\n",
       "      <td>3</td>\n",
       "      <td>2</td>\n",
       "      <td>lorichen</td>\n",
       "      <td>Listen treat keep worry. Miss husband tax but ...</td>\n",
       "    </tr>\n",
       "    <tr>\n",
       "      <th>3</th>\n",
       "      <td>4</td>\n",
       "      <td>3</td>\n",
       "      <td>johnsonamanda</td>\n",
       "      <td>Finally month interesting blue could nature cu...</td>\n",
       "    </tr>\n",
       "    <tr>\n",
       "      <th>4</th>\n",
       "      <td>5</td>\n",
       "      <td>3</td>\n",
       "      <td>scotttamara</td>\n",
       "      <td>Nation purpose heavy give wait song will. List...</td>\n",
       "    </tr>\n",
       "  </tbody>\n",
       "</table>\n",
       "</div>"
      ],
      "text/plain": [
       "   review_id  book_id       username  \\\n",
       "0          1        1   brandtandrea   \n",
       "1          2        1     ryanfranco   \n",
       "2          3        2       lorichen   \n",
       "3          4        3  johnsonamanda   \n",
       "4          5        3    scotttamara   \n",
       "\n",
       "                                                text  \n",
       "0  Mention society tell send professor analysis. ...  \n",
       "1  Foot glass pretty audience hit themselves. Amo...  \n",
       "2  Listen treat keep worry. Miss husband tax but ...  \n",
       "3  Finally month interesting blue could nature cu...  \n",
       "4  Nation purpose heavy give wait song will. List...  "
      ]
     },
     "execution_count": 12,
     "metadata": {},
     "output_type": "execute_result"
    }
   ],
   "source": [
    "reviews_table = pd.io.sql.read_sql(reviews_query, con = engine)\n",
    "reviews_table.head()"
   ]
  },
  {
   "cell_type": "markdown",
   "id": "central-break",
   "metadata": {},
   "source": [
    "<a id='Step 3 Make an SQL Query for each of the Tasks and Output the Results in the Notebook'><a/>"
   ]
  },
  {
   "cell_type": "markdown",
   "id": "lined-access",
   "metadata": {},
   "source": [
    "<a id='Step 3 Make an SQL Query for each of the Tasks and Output the Results in the Notebook'><a/>"
   ]
  },
  {
   "cell_type": "markdown",
   "id": "surprised-basic",
   "metadata": {},
   "source": [
    "## Step 3 Make an SQL Query for each of the Tasks and Output the Results in the Notebook"
   ]
  },
  {
   "cell_type": "markdown",
   "id": "developed-store",
   "metadata": {},
   "source": [
    "Tasks:\n",
    "1. Find the number of books released after January 1, 2000.\n",
    "2. Find the number of books released after January 1, 2000.\n",
    "3. Identify the publisher that has released the greatest number of books with more than 50 pages (this will help you exclude brochures and similar publications from your analysis).\n",
    "4. Identify the author with the highest average book rating (look only at books with at least 50 ratings).\n",
    "5. Find the average number of text reviews among users who rated more than 50 books. "
   ]
  },
  {
   "cell_type": "markdown",
   "id": "stopped-origin",
   "metadata": {},
   "source": [
    "### Task 1: Find the number of books released after January 1, 2000"
   ]
  },
  {
   "cell_type": "code",
   "execution_count": 13,
   "id": "disciplinary-strategy",
   "metadata": {},
   "outputs": [
    {
     "data": {
      "text/html": [
       "<div>\n",
       "<style scoped>\n",
       "    .dataframe tbody tr th:only-of-type {\n",
       "        vertical-align: middle;\n",
       "    }\n",
       "\n",
       "    .dataframe tbody tr th {\n",
       "        vertical-align: top;\n",
       "    }\n",
       "\n",
       "    .dataframe thead th {\n",
       "        text-align: right;\n",
       "    }\n",
       "</style>\n",
       "<table border=\"1\" class=\"dataframe\">\n",
       "  <thead>\n",
       "    <tr style=\"text-align: right;\">\n",
       "      <th></th>\n",
       "      <th>book_id</th>\n",
       "      <th>author_id</th>\n",
       "      <th>title</th>\n",
       "      <th>num_pages</th>\n",
       "      <th>publication_date</th>\n",
       "      <th>publisher_id</th>\n",
       "    </tr>\n",
       "  </thead>\n",
       "  <tbody>\n",
       "    <tr>\n",
       "      <th>0</th>\n",
       "      <td>1</td>\n",
       "      <td>546</td>\n",
       "      <td>'Salem's Lot</td>\n",
       "      <td>594</td>\n",
       "      <td>2005-11-01</td>\n",
       "      <td>93</td>\n",
       "    </tr>\n",
       "    <tr>\n",
       "      <th>1</th>\n",
       "      <td>2</td>\n",
       "      <td>465</td>\n",
       "      <td>1 000 Places to See Before You Die</td>\n",
       "      <td>992</td>\n",
       "      <td>2003-05-22</td>\n",
       "      <td>336</td>\n",
       "    </tr>\n",
       "    <tr>\n",
       "      <th>2</th>\n",
       "      <td>3</td>\n",
       "      <td>407</td>\n",
       "      <td>13 Little Blue Envelopes (Little Blue Envelope...</td>\n",
       "      <td>322</td>\n",
       "      <td>2010-12-21</td>\n",
       "      <td>135</td>\n",
       "    </tr>\n",
       "    <tr>\n",
       "      <th>3</th>\n",
       "      <td>4</td>\n",
       "      <td>82</td>\n",
       "      <td>1491: New Revelations of the Americas Before C...</td>\n",
       "      <td>541</td>\n",
       "      <td>2006-10-10</td>\n",
       "      <td>309</td>\n",
       "    </tr>\n",
       "    <tr>\n",
       "      <th>4</th>\n",
       "      <td>5</td>\n",
       "      <td>125</td>\n",
       "      <td>1776</td>\n",
       "      <td>386</td>\n",
       "      <td>2006-07-04</td>\n",
       "      <td>268</td>\n",
       "    </tr>\n",
       "  </tbody>\n",
       "</table>\n",
       "</div>"
      ],
      "text/plain": [
       "   book_id  author_id                                              title  \\\n",
       "0        1        546                                       'Salem's Lot   \n",
       "1        2        465                 1 000 Places to See Before You Die   \n",
       "2        3        407  13 Little Blue Envelopes (Little Blue Envelope...   \n",
       "3        4         82  1491: New Revelations of the Americas Before C...   \n",
       "4        5        125                                               1776   \n",
       "\n",
       "   num_pages publication_date  publisher_id  \n",
       "0        594       2005-11-01            93  \n",
       "1        992       2003-05-22           336  \n",
       "2        322       2010-12-21           135  \n",
       "3        541       2006-10-10           309  \n",
       "4        386       2006-07-04           268  "
      ]
     },
     "execution_count": 13,
     "metadata": {},
     "output_type": "execute_result"
    }
   ],
   "source": [
    "books_table.head()"
   ]
  },
  {
   "cell_type": "code",
   "execution_count": 14,
   "id": "indirect-syntax",
   "metadata": {},
   "outputs": [],
   "source": [
    "#querying the data\n",
    "books_after_query = \"SELECT * FROM books WHERE publication_date > '2000-01-01'\"\n",
    "books_after_2020_01_01 = pd.io.sql.read_sql(books_after_query, con = engine)"
   ]
  },
  {
   "cell_type": "code",
   "execution_count": 15,
   "id": "institutional-retailer",
   "metadata": {},
   "outputs": [
    {
     "name": "stdout",
     "output_type": "stream",
     "text": [
      "The number of books released after January 1, 2000 is: 819\n"
     ]
    }
   ],
   "source": [
    "print(\"The number of books released after January 1, 2000 is:\", len(books_after_2020_01_01))"
   ]
  },
  {
   "cell_type": "markdown",
   "id": "studied-playlist",
   "metadata": {},
   "source": [
    "###  Tasks 2: Find the number of user reviews and the average rating for each book"
   ]
  },
  {
   "cell_type": "code",
   "execution_count": 16,
   "id": "conditional-dominant",
   "metadata": {},
   "outputs": [
    {
     "data": {
      "text/html": [
       "<div>\n",
       "<style scoped>\n",
       "    .dataframe tbody tr th:only-of-type {\n",
       "        vertical-align: middle;\n",
       "    }\n",
       "\n",
       "    .dataframe tbody tr th {\n",
       "        vertical-align: top;\n",
       "    }\n",
       "\n",
       "    .dataframe thead th {\n",
       "        text-align: right;\n",
       "    }\n",
       "</style>\n",
       "<table border=\"1\" class=\"dataframe\">\n",
       "  <thead>\n",
       "    <tr style=\"text-align: right;\">\n",
       "      <th></th>\n",
       "      <th>rating_id</th>\n",
       "      <th>book_id</th>\n",
       "      <th>username</th>\n",
       "      <th>rating</th>\n",
       "    </tr>\n",
       "  </thead>\n",
       "  <tbody>\n",
       "    <tr>\n",
       "      <th>0</th>\n",
       "      <td>1</td>\n",
       "      <td>1</td>\n",
       "      <td>ryanfranco</td>\n",
       "      <td>4</td>\n",
       "    </tr>\n",
       "    <tr>\n",
       "      <th>1</th>\n",
       "      <td>2</td>\n",
       "      <td>1</td>\n",
       "      <td>grantpatricia</td>\n",
       "      <td>2</td>\n",
       "    </tr>\n",
       "    <tr>\n",
       "      <th>2</th>\n",
       "      <td>3</td>\n",
       "      <td>1</td>\n",
       "      <td>brandtandrea</td>\n",
       "      <td>5</td>\n",
       "    </tr>\n",
       "    <tr>\n",
       "      <th>3</th>\n",
       "      <td>4</td>\n",
       "      <td>2</td>\n",
       "      <td>lorichen</td>\n",
       "      <td>3</td>\n",
       "    </tr>\n",
       "    <tr>\n",
       "      <th>4</th>\n",
       "      <td>5</td>\n",
       "      <td>2</td>\n",
       "      <td>mariokeller</td>\n",
       "      <td>2</td>\n",
       "    </tr>\n",
       "  </tbody>\n",
       "</table>\n",
       "</div>"
      ],
      "text/plain": [
       "   rating_id  book_id       username  rating\n",
       "0          1        1     ryanfranco       4\n",
       "1          2        1  grantpatricia       2\n",
       "2          3        1   brandtandrea       5\n",
       "3          4        2       lorichen       3\n",
       "4          5        2    mariokeller       2"
      ]
     },
     "execution_count": 16,
     "metadata": {},
     "output_type": "execute_result"
    }
   ],
   "source": [
    "ratings_table.head()"
   ]
  },
  {
   "cell_type": "code",
   "execution_count": 17,
   "id": "electrical-radar",
   "metadata": {},
   "outputs": [
    {
     "data": {
      "text/html": [
       "<div>\n",
       "<style scoped>\n",
       "    .dataframe tbody tr th:only-of-type {\n",
       "        vertical-align: middle;\n",
       "    }\n",
       "\n",
       "    .dataframe tbody tr th {\n",
       "        vertical-align: top;\n",
       "    }\n",
       "\n",
       "    .dataframe thead th {\n",
       "        text-align: right;\n",
       "    }\n",
       "</style>\n",
       "<table border=\"1\" class=\"dataframe\">\n",
       "  <thead>\n",
       "    <tr style=\"text-align: right;\">\n",
       "      <th></th>\n",
       "      <th>review_id</th>\n",
       "      <th>book_id</th>\n",
       "      <th>username</th>\n",
       "      <th>text</th>\n",
       "    </tr>\n",
       "  </thead>\n",
       "  <tbody>\n",
       "    <tr>\n",
       "      <th>0</th>\n",
       "      <td>1</td>\n",
       "      <td>1</td>\n",
       "      <td>brandtandrea</td>\n",
       "      <td>Mention society tell send professor analysis. ...</td>\n",
       "    </tr>\n",
       "    <tr>\n",
       "      <th>1</th>\n",
       "      <td>2</td>\n",
       "      <td>1</td>\n",
       "      <td>ryanfranco</td>\n",
       "      <td>Foot glass pretty audience hit themselves. Amo...</td>\n",
       "    </tr>\n",
       "    <tr>\n",
       "      <th>2</th>\n",
       "      <td>3</td>\n",
       "      <td>2</td>\n",
       "      <td>lorichen</td>\n",
       "      <td>Listen treat keep worry. Miss husband tax but ...</td>\n",
       "    </tr>\n",
       "    <tr>\n",
       "      <th>3</th>\n",
       "      <td>4</td>\n",
       "      <td>3</td>\n",
       "      <td>johnsonamanda</td>\n",
       "      <td>Finally month interesting blue could nature cu...</td>\n",
       "    </tr>\n",
       "    <tr>\n",
       "      <th>4</th>\n",
       "      <td>5</td>\n",
       "      <td>3</td>\n",
       "      <td>scotttamara</td>\n",
       "      <td>Nation purpose heavy give wait song will. List...</td>\n",
       "    </tr>\n",
       "  </tbody>\n",
       "</table>\n",
       "</div>"
      ],
      "text/plain": [
       "   review_id  book_id       username  \\\n",
       "0          1        1   brandtandrea   \n",
       "1          2        1     ryanfranco   \n",
       "2          3        2       lorichen   \n",
       "3          4        3  johnsonamanda   \n",
       "4          5        3    scotttamara   \n",
       "\n",
       "                                                text  \n",
       "0  Mention society tell send professor analysis. ...  \n",
       "1  Foot glass pretty audience hit themselves. Amo...  \n",
       "2  Listen treat keep worry. Miss husband tax but ...  \n",
       "3  Finally month interesting blue could nature cu...  \n",
       "4  Nation purpose heavy give wait song will. List...  "
      ]
     },
     "execution_count": 17,
     "metadata": {},
     "output_type": "execute_result"
    }
   ],
   "source": [
    "reviews_table.head()"
   ]
  },
  {
   "cell_type": "code",
   "execution_count": 18,
   "id": "dedicated-surgery",
   "metadata": {},
   "outputs": [
    {
     "data": {
      "text/html": [
       "<div>\n",
       "<style scoped>\n",
       "    .dataframe tbody tr th:only-of-type {\n",
       "        vertical-align: middle;\n",
       "    }\n",
       "\n",
       "    .dataframe tbody tr th {\n",
       "        vertical-align: top;\n",
       "    }\n",
       "\n",
       "    .dataframe thead th {\n",
       "        text-align: right;\n",
       "    }\n",
       "</style>\n",
       "<table border=\"1\" class=\"dataframe\">\n",
       "  <thead>\n",
       "    <tr style=\"text-align: right;\">\n",
       "      <th></th>\n",
       "      <th>book_id</th>\n",
       "      <th>author_id</th>\n",
       "      <th>title</th>\n",
       "      <th>num_pages</th>\n",
       "      <th>publication_date</th>\n",
       "      <th>publisher_id</th>\n",
       "    </tr>\n",
       "  </thead>\n",
       "  <tbody>\n",
       "    <tr>\n",
       "      <th>0</th>\n",
       "      <td>1</td>\n",
       "      <td>546</td>\n",
       "      <td>'Salem's Lot</td>\n",
       "      <td>594</td>\n",
       "      <td>2005-11-01</td>\n",
       "      <td>93</td>\n",
       "    </tr>\n",
       "    <tr>\n",
       "      <th>1</th>\n",
       "      <td>2</td>\n",
       "      <td>465</td>\n",
       "      <td>1 000 Places to See Before You Die</td>\n",
       "      <td>992</td>\n",
       "      <td>2003-05-22</td>\n",
       "      <td>336</td>\n",
       "    </tr>\n",
       "    <tr>\n",
       "      <th>2</th>\n",
       "      <td>3</td>\n",
       "      <td>407</td>\n",
       "      <td>13 Little Blue Envelopes (Little Blue Envelope...</td>\n",
       "      <td>322</td>\n",
       "      <td>2010-12-21</td>\n",
       "      <td>135</td>\n",
       "    </tr>\n",
       "    <tr>\n",
       "      <th>3</th>\n",
       "      <td>4</td>\n",
       "      <td>82</td>\n",
       "      <td>1491: New Revelations of the Americas Before C...</td>\n",
       "      <td>541</td>\n",
       "      <td>2006-10-10</td>\n",
       "      <td>309</td>\n",
       "    </tr>\n",
       "    <tr>\n",
       "      <th>4</th>\n",
       "      <td>5</td>\n",
       "      <td>125</td>\n",
       "      <td>1776</td>\n",
       "      <td>386</td>\n",
       "      <td>2006-07-04</td>\n",
       "      <td>268</td>\n",
       "    </tr>\n",
       "  </tbody>\n",
       "</table>\n",
       "</div>"
      ],
      "text/plain": [
       "   book_id  author_id                                              title  \\\n",
       "0        1        546                                       'Salem's Lot   \n",
       "1        2        465                 1 000 Places to See Before You Die   \n",
       "2        3        407  13 Little Blue Envelopes (Little Blue Envelope...   \n",
       "3        4         82  1491: New Revelations of the Americas Before C...   \n",
       "4        5        125                                               1776   \n",
       "\n",
       "   num_pages publication_date  publisher_id  \n",
       "0        594       2005-11-01            93  \n",
       "1        992       2003-05-22           336  \n",
       "2        322       2010-12-21           135  \n",
       "3        541       2006-10-10           309  \n",
       "4        386       2006-07-04           268  "
      ]
     },
     "execution_count": 18,
     "metadata": {},
     "output_type": "execute_result"
    }
   ],
   "source": [
    "books_table.head()"
   ]
  },
  {
   "cell_type": "code",
   "execution_count": 19,
   "id": "executive-zambia",
   "metadata": {},
   "outputs": [],
   "source": [
    "book_ratings_query = '''\n",
    "SELECT books.book_id AS book_id, books.title AS title, COUNT(reviews.review_id) AS review_count, AVG(ratings.rating) AS avg_book_rating \n",
    "FROM books LEFT JOIN ratings ON ratings.book_id = books.book_id LEFT JOIN reviews ON reviews.book_id = books.book_id \n",
    "GROUP BY books.book_id \n",
    "ORDER BY review_count DESC;\n",
    "'''\n",
    "\n"
   ]
  },
  {
   "cell_type": "code",
   "execution_count": 20,
   "id": "million-captain",
   "metadata": {},
   "outputs": [
    {
     "data": {
      "text/html": [
       "<div>\n",
       "<style scoped>\n",
       "    .dataframe tbody tr th:only-of-type {\n",
       "        vertical-align: middle;\n",
       "    }\n",
       "\n",
       "    .dataframe tbody tr th {\n",
       "        vertical-align: top;\n",
       "    }\n",
       "\n",
       "    .dataframe thead th {\n",
       "        text-align: right;\n",
       "    }\n",
       "</style>\n",
       "<table border=\"1\" class=\"dataframe\">\n",
       "  <thead>\n",
       "    <tr style=\"text-align: right;\">\n",
       "      <th></th>\n",
       "      <th>book_id</th>\n",
       "      <th>title</th>\n",
       "      <th>review_count</th>\n",
       "      <th>avg_book_rating</th>\n",
       "    </tr>\n",
       "  </thead>\n",
       "  <tbody>\n",
       "    <tr>\n",
       "      <th>0</th>\n",
       "      <td>948</td>\n",
       "      <td>Twilight (Twilight  #1)</td>\n",
       "      <td>1120</td>\n",
       "      <td>3.662500</td>\n",
       "    </tr>\n",
       "    <tr>\n",
       "      <th>1</th>\n",
       "      <td>750</td>\n",
       "      <td>The Hobbit  or There and Back Again</td>\n",
       "      <td>528</td>\n",
       "      <td>4.125000</td>\n",
       "    </tr>\n",
       "    <tr>\n",
       "      <th>2</th>\n",
       "      <td>673</td>\n",
       "      <td>The Catcher in the Rye</td>\n",
       "      <td>516</td>\n",
       "      <td>3.825581</td>\n",
       "    </tr>\n",
       "    <tr>\n",
       "      <th>3</th>\n",
       "      <td>302</td>\n",
       "      <td>Harry Potter and the Prisoner of Azkaban (Harr...</td>\n",
       "      <td>492</td>\n",
       "      <td>4.414634</td>\n",
       "    </tr>\n",
       "    <tr>\n",
       "      <th>4</th>\n",
       "      <td>299</td>\n",
       "      <td>Harry Potter and the Chamber of Secrets (Harry...</td>\n",
       "      <td>480</td>\n",
       "      <td>4.287500</td>\n",
       "    </tr>\n",
       "    <tr>\n",
       "      <th>...</th>\n",
       "      <td>...</td>\n",
       "      <td>...</td>\n",
       "      <td>...</td>\n",
       "      <td>...</td>\n",
       "    </tr>\n",
       "    <tr>\n",
       "      <th>995</th>\n",
       "      <td>221</td>\n",
       "      <td>Essential Tales and Poems</td>\n",
       "      <td>0</td>\n",
       "      <td>4.000000</td>\n",
       "    </tr>\n",
       "    <tr>\n",
       "      <th>996</th>\n",
       "      <td>808</td>\n",
       "      <td>The Natural Way to Draw</td>\n",
       "      <td>0</td>\n",
       "      <td>3.000000</td>\n",
       "    </tr>\n",
       "    <tr>\n",
       "      <th>997</th>\n",
       "      <td>191</td>\n",
       "      <td>Disney's Beauty and the Beast (A Little Golden...</td>\n",
       "      <td>0</td>\n",
       "      <td>4.000000</td>\n",
       "    </tr>\n",
       "    <tr>\n",
       "      <th>998</th>\n",
       "      <td>83</td>\n",
       "      <td>Anne Rice's The Vampire Lestat: A Graphic Novel</td>\n",
       "      <td>0</td>\n",
       "      <td>3.666667</td>\n",
       "    </tr>\n",
       "    <tr>\n",
       "      <th>999</th>\n",
       "      <td>672</td>\n",
       "      <td>The Cat in the Hat and Other Dr. Seuss Favorites</td>\n",
       "      <td>0</td>\n",
       "      <td>5.000000</td>\n",
       "    </tr>\n",
       "  </tbody>\n",
       "</table>\n",
       "<p>1000 rows × 4 columns</p>\n",
       "</div>"
      ],
      "text/plain": [
       "     book_id                                              title  review_count  \\\n",
       "0        948                            Twilight (Twilight  #1)          1120   \n",
       "1        750                The Hobbit  or There and Back Again           528   \n",
       "2        673                             The Catcher in the Rye           516   \n",
       "3        302  Harry Potter and the Prisoner of Azkaban (Harr...           492   \n",
       "4        299  Harry Potter and the Chamber of Secrets (Harry...           480   \n",
       "..       ...                                                ...           ...   \n",
       "995      221                          Essential Tales and Poems             0   \n",
       "996      808                            The Natural Way to Draw             0   \n",
       "997      191  Disney's Beauty and the Beast (A Little Golden...             0   \n",
       "998       83    Anne Rice's The Vampire Lestat: A Graphic Novel             0   \n",
       "999      672   The Cat in the Hat and Other Dr. Seuss Favorites             0   \n",
       "\n",
       "     avg_book_rating  \n",
       "0           3.662500  \n",
       "1           4.125000  \n",
       "2           3.825581  \n",
       "3           4.414634  \n",
       "4           4.287500  \n",
       "..               ...  \n",
       "995         4.000000  \n",
       "996         3.000000  \n",
       "997         4.000000  \n",
       "998         3.666667  \n",
       "999         5.000000  \n",
       "\n",
       "[1000 rows x 4 columns]"
      ]
     },
     "metadata": {},
     "output_type": "display_data"
    }
   ],
   "source": [
    "books_ratings_reviews = pd.io.sql.read_sql(book_ratings_query, con = engine)\n",
    "display(books_ratings_reviews)"
   ]
  },
  {
   "cell_type": "markdown",
   "id": "organized-pilot",
   "metadata": {},
   "source": [
    "Please see above for the number of reviews per user and the average rating for each book."
   ]
  },
  {
   "cell_type": "markdown",
   "id": "thermal-permit",
   "metadata": {},
   "source": [
    "### Task 3: Identify the publisher that has released the greatest number of books with more than 50 pages (this will help you exclude brochures and similar publications from your analysis)"
   ]
  },
  {
   "cell_type": "code",
   "execution_count": 21,
   "id": "competent-height",
   "metadata": {},
   "outputs": [
    {
     "data": {
      "text/html": [
       "<div>\n",
       "<style scoped>\n",
       "    .dataframe tbody tr th:only-of-type {\n",
       "        vertical-align: middle;\n",
       "    }\n",
       "\n",
       "    .dataframe tbody tr th {\n",
       "        vertical-align: top;\n",
       "    }\n",
       "\n",
       "    .dataframe thead th {\n",
       "        text-align: right;\n",
       "    }\n",
       "</style>\n",
       "<table border=\"1\" class=\"dataframe\">\n",
       "  <thead>\n",
       "    <tr style=\"text-align: right;\">\n",
       "      <th></th>\n",
       "      <th>publisher_id</th>\n",
       "      <th>publisher</th>\n",
       "    </tr>\n",
       "  </thead>\n",
       "  <tbody>\n",
       "    <tr>\n",
       "      <th>0</th>\n",
       "      <td>1</td>\n",
       "      <td>Ace</td>\n",
       "    </tr>\n",
       "    <tr>\n",
       "      <th>1</th>\n",
       "      <td>2</td>\n",
       "      <td>Ace Book</td>\n",
       "    </tr>\n",
       "    <tr>\n",
       "      <th>2</th>\n",
       "      <td>3</td>\n",
       "      <td>Ace Books</td>\n",
       "    </tr>\n",
       "    <tr>\n",
       "      <th>3</th>\n",
       "      <td>4</td>\n",
       "      <td>Ace Hardcover</td>\n",
       "    </tr>\n",
       "    <tr>\n",
       "      <th>4</th>\n",
       "      <td>5</td>\n",
       "      <td>Addison Wesley Publishing Company</td>\n",
       "    </tr>\n",
       "  </tbody>\n",
       "</table>\n",
       "</div>"
      ],
      "text/plain": [
       "   publisher_id                          publisher\n",
       "0             1                                Ace\n",
       "1             2                           Ace Book\n",
       "2             3                          Ace Books\n",
       "3             4                      Ace Hardcover\n",
       "4             5  Addison Wesley Publishing Company"
      ]
     },
     "execution_count": 21,
     "metadata": {},
     "output_type": "execute_result"
    }
   ],
   "source": [
    "publishers_table.head()"
   ]
  },
  {
   "cell_type": "code",
   "execution_count": 22,
   "id": "central-surveillance",
   "metadata": {},
   "outputs": [
    {
     "data": {
      "text/html": [
       "<div>\n",
       "<style scoped>\n",
       "    .dataframe tbody tr th:only-of-type {\n",
       "        vertical-align: middle;\n",
       "    }\n",
       "\n",
       "    .dataframe tbody tr th {\n",
       "        vertical-align: top;\n",
       "    }\n",
       "\n",
       "    .dataframe thead th {\n",
       "        text-align: right;\n",
       "    }\n",
       "</style>\n",
       "<table border=\"1\" class=\"dataframe\">\n",
       "  <thead>\n",
       "    <tr style=\"text-align: right;\">\n",
       "      <th></th>\n",
       "      <th>book_id</th>\n",
       "      <th>author_id</th>\n",
       "      <th>title</th>\n",
       "      <th>num_pages</th>\n",
       "      <th>publication_date</th>\n",
       "      <th>publisher_id</th>\n",
       "    </tr>\n",
       "  </thead>\n",
       "  <tbody>\n",
       "    <tr>\n",
       "      <th>0</th>\n",
       "      <td>1</td>\n",
       "      <td>546</td>\n",
       "      <td>'Salem's Lot</td>\n",
       "      <td>594</td>\n",
       "      <td>2005-11-01</td>\n",
       "      <td>93</td>\n",
       "    </tr>\n",
       "    <tr>\n",
       "      <th>1</th>\n",
       "      <td>2</td>\n",
       "      <td>465</td>\n",
       "      <td>1 000 Places to See Before You Die</td>\n",
       "      <td>992</td>\n",
       "      <td>2003-05-22</td>\n",
       "      <td>336</td>\n",
       "    </tr>\n",
       "    <tr>\n",
       "      <th>2</th>\n",
       "      <td>3</td>\n",
       "      <td>407</td>\n",
       "      <td>13 Little Blue Envelopes (Little Blue Envelope...</td>\n",
       "      <td>322</td>\n",
       "      <td>2010-12-21</td>\n",
       "      <td>135</td>\n",
       "    </tr>\n",
       "    <tr>\n",
       "      <th>3</th>\n",
       "      <td>4</td>\n",
       "      <td>82</td>\n",
       "      <td>1491: New Revelations of the Americas Before C...</td>\n",
       "      <td>541</td>\n",
       "      <td>2006-10-10</td>\n",
       "      <td>309</td>\n",
       "    </tr>\n",
       "    <tr>\n",
       "      <th>4</th>\n",
       "      <td>5</td>\n",
       "      <td>125</td>\n",
       "      <td>1776</td>\n",
       "      <td>386</td>\n",
       "      <td>2006-07-04</td>\n",
       "      <td>268</td>\n",
       "    </tr>\n",
       "  </tbody>\n",
       "</table>\n",
       "</div>"
      ],
      "text/plain": [
       "   book_id  author_id                                              title  \\\n",
       "0        1        546                                       'Salem's Lot   \n",
       "1        2        465                 1 000 Places to See Before You Die   \n",
       "2        3        407  13 Little Blue Envelopes (Little Blue Envelope...   \n",
       "3        4         82  1491: New Revelations of the Americas Before C...   \n",
       "4        5        125                                               1776   \n",
       "\n",
       "   num_pages publication_date  publisher_id  \n",
       "0        594       2005-11-01            93  \n",
       "1        992       2003-05-22           336  \n",
       "2        322       2010-12-21           135  \n",
       "3        541       2006-10-10           309  \n",
       "4        386       2006-07-04           268  "
      ]
     },
     "execution_count": 22,
     "metadata": {},
     "output_type": "execute_result"
    }
   ],
   "source": [
    "books_table.head()"
   ]
  },
  {
   "cell_type": "code",
   "execution_count": 23,
   "id": "constitutional-gathering",
   "metadata": {},
   "outputs": [],
   "source": [
    "publisher_books_query = '''\n",
    "SELECT publishers.publisher_id AS publisher_id, publishers.publisher AS publisher_name, COUNT(books.book_id) AS book_count \n",
    "FROM publishers LEFT JOIN books ON books.publisher_id = publishers.publisher_id \n",
    "WHERE books.num_pages > 50 GROUP BY publishers.publisher_id \n",
    "ORDER BY book_count DESC LIMIT 1;\n",
    "'''\n"
   ]
  },
  {
   "cell_type": "code",
   "execution_count": 24,
   "id": "olympic-cooler",
   "metadata": {},
   "outputs": [
    {
     "data": {
      "text/html": [
       "<div>\n",
       "<style scoped>\n",
       "    .dataframe tbody tr th:only-of-type {\n",
       "        vertical-align: middle;\n",
       "    }\n",
       "\n",
       "    .dataframe tbody tr th {\n",
       "        vertical-align: top;\n",
       "    }\n",
       "\n",
       "    .dataframe thead th {\n",
       "        text-align: right;\n",
       "    }\n",
       "</style>\n",
       "<table border=\"1\" class=\"dataframe\">\n",
       "  <thead>\n",
       "    <tr style=\"text-align: right;\">\n",
       "      <th></th>\n",
       "      <th>publisher_id</th>\n",
       "      <th>publisher_name</th>\n",
       "      <th>book_count</th>\n",
       "    </tr>\n",
       "  </thead>\n",
       "  <tbody>\n",
       "    <tr>\n",
       "      <th>0</th>\n",
       "      <td>212</td>\n",
       "      <td>Penguin Books</td>\n",
       "      <td>42</td>\n",
       "    </tr>\n",
       "  </tbody>\n",
       "</table>\n",
       "</div>"
      ],
      "text/plain": [
       "   publisher_id publisher_name  book_count\n",
       "0           212  Penguin Books          42"
      ]
     },
     "execution_count": 24,
     "metadata": {},
     "output_type": "execute_result"
    }
   ],
   "source": [
    "publisher_book_count = pd.io.sql.read_sql(publisher_books_query, con = engine)\n",
    "publisher_book_count.head(10)"
   ]
  },
  {
   "cell_type": "markdown",
   "id": "national-hammer",
   "metadata": {},
   "source": [
    "Penguin Books is the publisher with the greatest number of books over 50 pages. "
   ]
  },
  {
   "cell_type": "markdown",
   "id": "premium-samba",
   "metadata": {},
   "source": [
    "### Task 4: Identify the author with the highest average book rating (look only at books with at least 50 ratings)"
   ]
  },
  {
   "cell_type": "code",
   "execution_count": 25,
   "id": "charged-cricket",
   "metadata": {},
   "outputs": [
    {
     "data": {
      "text/html": [
       "<div>\n",
       "<style scoped>\n",
       "    .dataframe tbody tr th:only-of-type {\n",
       "        vertical-align: middle;\n",
       "    }\n",
       "\n",
       "    .dataframe tbody tr th {\n",
       "        vertical-align: top;\n",
       "    }\n",
       "\n",
       "    .dataframe thead th {\n",
       "        text-align: right;\n",
       "    }\n",
       "</style>\n",
       "<table border=\"1\" class=\"dataframe\">\n",
       "  <thead>\n",
       "    <tr style=\"text-align: right;\">\n",
       "      <th></th>\n",
       "      <th>author_id</th>\n",
       "      <th>author</th>\n",
       "    </tr>\n",
       "  </thead>\n",
       "  <tbody>\n",
       "    <tr>\n",
       "      <th>0</th>\n",
       "      <td>1</td>\n",
       "      <td>A.S. Byatt</td>\n",
       "    </tr>\n",
       "    <tr>\n",
       "      <th>1</th>\n",
       "      <td>2</td>\n",
       "      <td>Aesop/Laura Harris/Laura Gibbs</td>\n",
       "    </tr>\n",
       "    <tr>\n",
       "      <th>2</th>\n",
       "      <td>3</td>\n",
       "      <td>Agatha Christie</td>\n",
       "    </tr>\n",
       "    <tr>\n",
       "      <th>3</th>\n",
       "      <td>4</td>\n",
       "      <td>Alan Brennert</td>\n",
       "    </tr>\n",
       "    <tr>\n",
       "      <th>4</th>\n",
       "      <td>5</td>\n",
       "      <td>Alan Moore/David   Lloyd</td>\n",
       "    </tr>\n",
       "  </tbody>\n",
       "</table>\n",
       "</div>"
      ],
      "text/plain": [
       "   author_id                          author\n",
       "0          1                      A.S. Byatt\n",
       "1          2  Aesop/Laura Harris/Laura Gibbs\n",
       "2          3                 Agatha Christie\n",
       "3          4                   Alan Brennert\n",
       "4          5        Alan Moore/David   Lloyd"
      ]
     },
     "execution_count": 25,
     "metadata": {},
     "output_type": "execute_result"
    }
   ],
   "source": [
    "authors_table.head()"
   ]
  },
  {
   "cell_type": "code",
   "execution_count": 26,
   "id": "fourth-softball",
   "metadata": {},
   "outputs": [
    {
     "data": {
      "text/html": [
       "<div>\n",
       "<style scoped>\n",
       "    .dataframe tbody tr th:only-of-type {\n",
       "        vertical-align: middle;\n",
       "    }\n",
       "\n",
       "    .dataframe tbody tr th {\n",
       "        vertical-align: top;\n",
       "    }\n",
       "\n",
       "    .dataframe thead th {\n",
       "        text-align: right;\n",
       "    }\n",
       "</style>\n",
       "<table border=\"1\" class=\"dataframe\">\n",
       "  <thead>\n",
       "    <tr style=\"text-align: right;\">\n",
       "      <th></th>\n",
       "      <th>book_id</th>\n",
       "      <th>author_id</th>\n",
       "      <th>title</th>\n",
       "      <th>num_pages</th>\n",
       "      <th>publication_date</th>\n",
       "      <th>publisher_id</th>\n",
       "    </tr>\n",
       "  </thead>\n",
       "  <tbody>\n",
       "    <tr>\n",
       "      <th>0</th>\n",
       "      <td>1</td>\n",
       "      <td>546</td>\n",
       "      <td>'Salem's Lot</td>\n",
       "      <td>594</td>\n",
       "      <td>2005-11-01</td>\n",
       "      <td>93</td>\n",
       "    </tr>\n",
       "    <tr>\n",
       "      <th>1</th>\n",
       "      <td>2</td>\n",
       "      <td>465</td>\n",
       "      <td>1 000 Places to See Before You Die</td>\n",
       "      <td>992</td>\n",
       "      <td>2003-05-22</td>\n",
       "      <td>336</td>\n",
       "    </tr>\n",
       "    <tr>\n",
       "      <th>2</th>\n",
       "      <td>3</td>\n",
       "      <td>407</td>\n",
       "      <td>13 Little Blue Envelopes (Little Blue Envelope...</td>\n",
       "      <td>322</td>\n",
       "      <td>2010-12-21</td>\n",
       "      <td>135</td>\n",
       "    </tr>\n",
       "    <tr>\n",
       "      <th>3</th>\n",
       "      <td>4</td>\n",
       "      <td>82</td>\n",
       "      <td>1491: New Revelations of the Americas Before C...</td>\n",
       "      <td>541</td>\n",
       "      <td>2006-10-10</td>\n",
       "      <td>309</td>\n",
       "    </tr>\n",
       "    <tr>\n",
       "      <th>4</th>\n",
       "      <td>5</td>\n",
       "      <td>125</td>\n",
       "      <td>1776</td>\n",
       "      <td>386</td>\n",
       "      <td>2006-07-04</td>\n",
       "      <td>268</td>\n",
       "    </tr>\n",
       "  </tbody>\n",
       "</table>\n",
       "</div>"
      ],
      "text/plain": [
       "   book_id  author_id                                              title  \\\n",
       "0        1        546                                       'Salem's Lot   \n",
       "1        2        465                 1 000 Places to See Before You Die   \n",
       "2        3        407  13 Little Blue Envelopes (Little Blue Envelope...   \n",
       "3        4         82  1491: New Revelations of the Americas Before C...   \n",
       "4        5        125                                               1776   \n",
       "\n",
       "   num_pages publication_date  publisher_id  \n",
       "0        594       2005-11-01            93  \n",
       "1        992       2003-05-22           336  \n",
       "2        322       2010-12-21           135  \n",
       "3        541       2006-10-10           309  \n",
       "4        386       2006-07-04           268  "
      ]
     },
     "execution_count": 26,
     "metadata": {},
     "output_type": "execute_result"
    }
   ],
   "source": [
    "books_table.head()"
   ]
  },
  {
   "cell_type": "code",
   "execution_count": 27,
   "id": "adjustable-parade",
   "metadata": {},
   "outputs": [
    {
     "data": {
      "text/html": [
       "<div>\n",
       "<style scoped>\n",
       "    .dataframe tbody tr th:only-of-type {\n",
       "        vertical-align: middle;\n",
       "    }\n",
       "\n",
       "    .dataframe tbody tr th {\n",
       "        vertical-align: top;\n",
       "    }\n",
       "\n",
       "    .dataframe thead th {\n",
       "        text-align: right;\n",
       "    }\n",
       "</style>\n",
       "<table border=\"1\" class=\"dataframe\">\n",
       "  <thead>\n",
       "    <tr style=\"text-align: right;\">\n",
       "      <th></th>\n",
       "      <th>rating_id</th>\n",
       "      <th>book_id</th>\n",
       "      <th>username</th>\n",
       "      <th>rating</th>\n",
       "    </tr>\n",
       "  </thead>\n",
       "  <tbody>\n",
       "    <tr>\n",
       "      <th>0</th>\n",
       "      <td>1</td>\n",
       "      <td>1</td>\n",
       "      <td>ryanfranco</td>\n",
       "      <td>4</td>\n",
       "    </tr>\n",
       "    <tr>\n",
       "      <th>1</th>\n",
       "      <td>2</td>\n",
       "      <td>1</td>\n",
       "      <td>grantpatricia</td>\n",
       "      <td>2</td>\n",
       "    </tr>\n",
       "    <tr>\n",
       "      <th>2</th>\n",
       "      <td>3</td>\n",
       "      <td>1</td>\n",
       "      <td>brandtandrea</td>\n",
       "      <td>5</td>\n",
       "    </tr>\n",
       "    <tr>\n",
       "      <th>3</th>\n",
       "      <td>4</td>\n",
       "      <td>2</td>\n",
       "      <td>lorichen</td>\n",
       "      <td>3</td>\n",
       "    </tr>\n",
       "    <tr>\n",
       "      <th>4</th>\n",
       "      <td>5</td>\n",
       "      <td>2</td>\n",
       "      <td>mariokeller</td>\n",
       "      <td>2</td>\n",
       "    </tr>\n",
       "  </tbody>\n",
       "</table>\n",
       "</div>"
      ],
      "text/plain": [
       "   rating_id  book_id       username  rating\n",
       "0          1        1     ryanfranco       4\n",
       "1          2        1  grantpatricia       2\n",
       "2          3        1   brandtandrea       5\n",
       "3          4        2       lorichen       3\n",
       "4          5        2    mariokeller       2"
      ]
     },
     "execution_count": 27,
     "metadata": {},
     "output_type": "execute_result"
    }
   ],
   "source": [
    "ratings_table.head()"
   ]
  },
  {
   "cell_type": "code",
   "execution_count": 28,
   "id": "wanted-spoke",
   "metadata": {},
   "outputs": [],
   "source": [
    "authors_bookratings_query = '''\n",
    "SELECT books.book_id AS book_id, books.title AS book_title, authors.author_id AS author_id, authors.author AS author_name, AVG(ratings.rating) AS avg_book_rating, COUNT(ratings.rating) AS number_of_ratings \n",
    "FROM books LEFT JOIN authors ON authors.author_id = books.author_id LEFT JOIN ratings ON ratings.book_id = books.book_id \n",
    "GROUP BY books.book_id, authors.author_id \n",
    "HAVING COUNT(ratings.rating_id) >= 50 \n",
    "ORDER BY avg_book_rating DESC, number_of_ratings DESC LIMIT 5;\n",
    "'''"
   ]
  },
  {
   "cell_type": "code",
   "execution_count": 29,
   "id": "divine-bobby",
   "metadata": {},
   "outputs": [
    {
     "data": {
      "text/html": [
       "<div>\n",
       "<style scoped>\n",
       "    .dataframe tbody tr th:only-of-type {\n",
       "        vertical-align: middle;\n",
       "    }\n",
       "\n",
       "    .dataframe tbody tr th {\n",
       "        vertical-align: top;\n",
       "    }\n",
       "\n",
       "    .dataframe thead th {\n",
       "        text-align: right;\n",
       "    }\n",
       "</style>\n",
       "<table border=\"1\" class=\"dataframe\">\n",
       "  <thead>\n",
       "    <tr style=\"text-align: right;\">\n",
       "      <th></th>\n",
       "      <th>book_id</th>\n",
       "      <th>book_title</th>\n",
       "      <th>author_id</th>\n",
       "      <th>author_name</th>\n",
       "      <th>avg_book_rating</th>\n",
       "      <th>number_of_ratings</th>\n",
       "    </tr>\n",
       "  </thead>\n",
       "  <tbody>\n",
       "    <tr>\n",
       "      <th>0</th>\n",
       "      <td>302</td>\n",
       "      <td>Harry Potter and the Prisoner of Azkaban (Harr...</td>\n",
       "      <td>236</td>\n",
       "      <td>J.K. Rowling/Mary GrandPré</td>\n",
       "      <td>4.414634</td>\n",
       "      <td>82</td>\n",
       "    </tr>\n",
       "    <tr>\n",
       "      <th>1</th>\n",
       "      <td>722</td>\n",
       "      <td>The Fellowship of the Ring (The Lord of the Ri...</td>\n",
       "      <td>240</td>\n",
       "      <td>J.R.R. Tolkien</td>\n",
       "      <td>4.391892</td>\n",
       "      <td>74</td>\n",
       "    </tr>\n",
       "    <tr>\n",
       "      <th>2</th>\n",
       "      <td>299</td>\n",
       "      <td>Harry Potter and the Chamber of Secrets (Harry...</td>\n",
       "      <td>236</td>\n",
       "      <td>J.K. Rowling/Mary GrandPré</td>\n",
       "      <td>4.287500</td>\n",
       "      <td>80</td>\n",
       "    </tr>\n",
       "    <tr>\n",
       "      <th>3</th>\n",
       "      <td>656</td>\n",
       "      <td>The Book Thief</td>\n",
       "      <td>402</td>\n",
       "      <td>Markus Zusak/Cao Xuân Việt Khương</td>\n",
       "      <td>4.264151</td>\n",
       "      <td>53</td>\n",
       "    </tr>\n",
       "    <tr>\n",
       "      <th>4</th>\n",
       "      <td>300</td>\n",
       "      <td>Harry Potter and the Half-Blood Prince (Harry ...</td>\n",
       "      <td>236</td>\n",
       "      <td>J.K. Rowling/Mary GrandPré</td>\n",
       "      <td>4.246575</td>\n",
       "      <td>73</td>\n",
       "    </tr>\n",
       "  </tbody>\n",
       "</table>\n",
       "</div>"
      ],
      "text/plain": [
       "   book_id                                         book_title  author_id  \\\n",
       "0      302  Harry Potter and the Prisoner of Azkaban (Harr...        236   \n",
       "1      722  The Fellowship of the Ring (The Lord of the Ri...        240   \n",
       "2      299  Harry Potter and the Chamber of Secrets (Harry...        236   \n",
       "3      656                                     The Book Thief        402   \n",
       "4      300  Harry Potter and the Half-Blood Prince (Harry ...        236   \n",
       "\n",
       "                         author_name  avg_book_rating  number_of_ratings  \n",
       "0         J.K. Rowling/Mary GrandPré         4.414634                 82  \n",
       "1                     J.R.R. Tolkien         4.391892                 74  \n",
       "2         J.K. Rowling/Mary GrandPré         4.287500                 80  \n",
       "3  Markus Zusak/Cao Xuân Việt Khương         4.264151                 53  \n",
       "4         J.K. Rowling/Mary GrandPré         4.246575                 73  "
      ]
     },
     "execution_count": 29,
     "metadata": {},
     "output_type": "execute_result"
    }
   ],
   "source": [
    "author_ratings = pd.io.sql.read_sql(authors_bookratings_query, con = engine)\n",
    "author_ratings.head(10)"
   ]
  },
  {
   "cell_type": "markdown",
   "id": "exotic-moderator",
   "metadata": {},
   "source": [
    "J.K. Rowling has he highest average book rating of 4.414634 for Harry Potter and the Prisoner of Azkaban. This was followed by The Fellowship of the Ring by J.R.R. Tolkien at 4.391892 and then J.K. Rowling again with Harry Potter and the Chamber of Secrets at 4.287500."
   ]
  },
  {
   "cell_type": "markdown",
   "id": "ready-boating",
   "metadata": {},
   "source": [
    "### Task 5: Find the average number of text reviews among users who rated more than 50 books"
   ]
  },
  {
   "cell_type": "code",
   "execution_count": 30,
   "id": "consistent-occurrence",
   "metadata": {},
   "outputs": [
    {
     "data": {
      "text/html": [
       "<div>\n",
       "<style scoped>\n",
       "    .dataframe tbody tr th:only-of-type {\n",
       "        vertical-align: middle;\n",
       "    }\n",
       "\n",
       "    .dataframe tbody tr th {\n",
       "        vertical-align: top;\n",
       "    }\n",
       "\n",
       "    .dataframe thead th {\n",
       "        text-align: right;\n",
       "    }\n",
       "</style>\n",
       "<table border=\"1\" class=\"dataframe\">\n",
       "  <thead>\n",
       "    <tr style=\"text-align: right;\">\n",
       "      <th></th>\n",
       "      <th>review_id</th>\n",
       "      <th>book_id</th>\n",
       "      <th>username</th>\n",
       "      <th>text</th>\n",
       "    </tr>\n",
       "  </thead>\n",
       "  <tbody>\n",
       "    <tr>\n",
       "      <th>0</th>\n",
       "      <td>1</td>\n",
       "      <td>1</td>\n",
       "      <td>brandtandrea</td>\n",
       "      <td>Mention society tell send professor analysis. ...</td>\n",
       "    </tr>\n",
       "    <tr>\n",
       "      <th>1</th>\n",
       "      <td>2</td>\n",
       "      <td>1</td>\n",
       "      <td>ryanfranco</td>\n",
       "      <td>Foot glass pretty audience hit themselves. Amo...</td>\n",
       "    </tr>\n",
       "    <tr>\n",
       "      <th>2</th>\n",
       "      <td>3</td>\n",
       "      <td>2</td>\n",
       "      <td>lorichen</td>\n",
       "      <td>Listen treat keep worry. Miss husband tax but ...</td>\n",
       "    </tr>\n",
       "    <tr>\n",
       "      <th>3</th>\n",
       "      <td>4</td>\n",
       "      <td>3</td>\n",
       "      <td>johnsonamanda</td>\n",
       "      <td>Finally month interesting blue could nature cu...</td>\n",
       "    </tr>\n",
       "    <tr>\n",
       "      <th>4</th>\n",
       "      <td>5</td>\n",
       "      <td>3</td>\n",
       "      <td>scotttamara</td>\n",
       "      <td>Nation purpose heavy give wait song will. List...</td>\n",
       "    </tr>\n",
       "  </tbody>\n",
       "</table>\n",
       "</div>"
      ],
      "text/plain": [
       "   review_id  book_id       username  \\\n",
       "0          1        1   brandtandrea   \n",
       "1          2        1     ryanfranco   \n",
       "2          3        2       lorichen   \n",
       "3          4        3  johnsonamanda   \n",
       "4          5        3    scotttamara   \n",
       "\n",
       "                                                text  \n",
       "0  Mention society tell send professor analysis. ...  \n",
       "1  Foot glass pretty audience hit themselves. Amo...  \n",
       "2  Listen treat keep worry. Miss husband tax but ...  \n",
       "3  Finally month interesting blue could nature cu...  \n",
       "4  Nation purpose heavy give wait song will. List...  "
      ]
     },
     "execution_count": 30,
     "metadata": {},
     "output_type": "execute_result"
    }
   ],
   "source": [
    "reviews_table.head()"
   ]
  },
  {
   "cell_type": "code",
   "execution_count": 31,
   "id": "educated-platinum",
   "metadata": {},
   "outputs": [
    {
     "data": {
      "text/html": [
       "<div>\n",
       "<style scoped>\n",
       "    .dataframe tbody tr th:only-of-type {\n",
       "        vertical-align: middle;\n",
       "    }\n",
       "\n",
       "    .dataframe tbody tr th {\n",
       "        vertical-align: top;\n",
       "    }\n",
       "\n",
       "    .dataframe thead th {\n",
       "        text-align: right;\n",
       "    }\n",
       "</style>\n",
       "<table border=\"1\" class=\"dataframe\">\n",
       "  <thead>\n",
       "    <tr style=\"text-align: right;\">\n",
       "      <th></th>\n",
       "      <th>rating_id</th>\n",
       "      <th>book_id</th>\n",
       "      <th>username</th>\n",
       "      <th>rating</th>\n",
       "    </tr>\n",
       "  </thead>\n",
       "  <tbody>\n",
       "    <tr>\n",
       "      <th>0</th>\n",
       "      <td>1</td>\n",
       "      <td>1</td>\n",
       "      <td>ryanfranco</td>\n",
       "      <td>4</td>\n",
       "    </tr>\n",
       "    <tr>\n",
       "      <th>1</th>\n",
       "      <td>2</td>\n",
       "      <td>1</td>\n",
       "      <td>grantpatricia</td>\n",
       "      <td>2</td>\n",
       "    </tr>\n",
       "    <tr>\n",
       "      <th>2</th>\n",
       "      <td>3</td>\n",
       "      <td>1</td>\n",
       "      <td>brandtandrea</td>\n",
       "      <td>5</td>\n",
       "    </tr>\n",
       "    <tr>\n",
       "      <th>3</th>\n",
       "      <td>4</td>\n",
       "      <td>2</td>\n",
       "      <td>lorichen</td>\n",
       "      <td>3</td>\n",
       "    </tr>\n",
       "    <tr>\n",
       "      <th>4</th>\n",
       "      <td>5</td>\n",
       "      <td>2</td>\n",
       "      <td>mariokeller</td>\n",
       "      <td>2</td>\n",
       "    </tr>\n",
       "  </tbody>\n",
       "</table>\n",
       "</div>"
      ],
      "text/plain": [
       "   rating_id  book_id       username  rating\n",
       "0          1        1     ryanfranco       4\n",
       "1          2        1  grantpatricia       2\n",
       "2          3        1   brandtandrea       5\n",
       "3          4        2       lorichen       3\n",
       "4          5        2    mariokeller       2"
      ]
     },
     "execution_count": 31,
     "metadata": {},
     "output_type": "execute_result"
    }
   ],
   "source": [
    "ratings_table.head()"
   ]
  },
  {
   "cell_type": "code",
   "execution_count": 32,
   "id": "stretch-greene",
   "metadata": {},
   "outputs": [],
   "source": [
    "average_text_query = '''\n",
    "SELECT COUNT(*) / COUNT(distinct username) AS average_reviews \n",
    "FROM reviews \n",
    "WHERE username IN (SELECT username FROM ratings \n",
    "GROUP BY username \n",
    "HAVING COUNT(*) > 50)\n",
    "'''\n"
   ]
  },
  {
   "cell_type": "code",
   "execution_count": 33,
   "id": "generic-naples",
   "metadata": {},
   "outputs": [
    {
     "name": "stdout",
     "output_type": "stream",
     "text": [
      "   average_reviews\n",
      "0               24\n"
     ]
    }
   ],
   "source": [
    "text_reviews_average = pd.io.sql.read_sql(average_text_query, con = engine)\n",
    "print(text_reviews_average)"
   ]
  },
  {
   "cell_type": "markdown",
   "id": "written-geography",
   "metadata": {},
   "source": [
    "The average number of text reviews among users who rated 50 or more books is 24."
   ]
  },
  {
   "cell_type": "markdown",
   "id": "compressed-slovakia",
   "metadata": {},
   "source": [
    "<a id='Step 4 Conclusions and Recommendations'><a/>"
   ]
  },
  {
   "cell_type": "markdown",
   "id": "failing-detail",
   "metadata": {},
   "source": [
    "## Step 4 Conclusions and Recommendations"
   ]
  },
  {
   "cell_type": "markdown",
   "id": "chief-strain",
   "metadata": {},
   "source": [
    "In conclusion it is clear that the users of this book review service are quite active, which means that this is an ideal market moving forward. I would recommend the company to give exclusive deals to users who review at least 50 books and use that as an incentive to purchase more books and be more active on the site. "
   ]
  },
  {
   "cell_type": "markdown",
   "id": "heard-interest",
   "metadata": {},
   "source": [
    "<a href='#Top of Page'>Top of Page<a/>"
   ]
  }
 ],
 "metadata": {
  "ExecuteTimeLog": [
   {
    "duration": 1213,
    "start_time": "2021-11-08T19:22:57.553Z"
   },
   {
    "duration": 3,
    "start_time": "2021-11-08T19:22:58.767Z"
   },
   {
    "duration": 5,
    "start_time": "2021-11-08T19:22:58.772Z"
   },
   {
    "duration": 421,
    "start_time": "2021-11-08T19:22:58.778Z"
   },
   {
    "duration": 2,
    "start_time": "2021-11-08T19:22:59.200Z"
   },
   {
    "duration": 80,
    "start_time": "2021-11-08T19:22:59.204Z"
   },
   {
    "duration": 3,
    "start_time": "2021-11-08T19:22:59.285Z"
   },
   {
    "duration": 77,
    "start_time": "2021-11-08T19:22:59.289Z"
   },
   {
    "duration": 2,
    "start_time": "2021-11-08T19:22:59.368Z"
   },
   {
    "duration": 98,
    "start_time": "2021-11-08T19:22:59.372Z"
   },
   {
    "duration": 3,
    "start_time": "2021-11-08T19:22:59.471Z"
   },
   {
    "duration": 91,
    "start_time": "2021-11-08T19:22:59.475Z"
   },
   {
    "duration": 8,
    "start_time": "2021-11-08T19:22:59.568Z"
   },
   {
    "duration": 74,
    "start_time": "2021-11-08T19:22:59.577Z"
   },
   {
    "duration": 3,
    "start_time": "2021-11-08T19:22:59.653Z"
   },
   {
    "duration": 9,
    "start_time": "2021-11-08T19:22:59.658Z"
   },
   {
    "duration": 9,
    "start_time": "2021-11-08T19:22:59.669Z"
   },
   {
    "duration": 12,
    "start_time": "2021-11-08T19:22:59.680Z"
   },
   {
    "duration": 3,
    "start_time": "2021-11-08T19:22:59.694Z"
   },
   {
    "duration": 91,
    "start_time": "2021-11-08T19:22:59.699Z"
   },
   {
    "duration": 5,
    "start_time": "2021-11-08T19:22:59.792Z"
   },
   {
    "duration": 12,
    "start_time": "2021-11-08T19:22:59.798Z"
   },
   {
    "duration": 6,
    "start_time": "2021-11-08T19:22:59.812Z"
   },
   {
    "duration": 81,
    "start_time": "2021-11-08T19:22:59.820Z"
   },
   {
    "duration": 8,
    "start_time": "2021-11-08T19:22:59.904Z"
   },
   {
    "duration": 12,
    "start_time": "2021-11-08T19:22:59.914Z"
   },
   {
    "duration": 13,
    "start_time": "2021-11-08T19:22:59.929Z"
   },
   {
    "duration": 6,
    "start_time": "2021-11-08T19:22:59.943Z"
   },
   {
    "duration": 113,
    "start_time": "2021-11-08T19:22:59.951Z"
   },
   {
    "duration": 7,
    "start_time": "2021-11-08T19:23:00.066Z"
   },
   {
    "duration": 12,
    "start_time": "2021-11-08T19:23:00.074Z"
   },
   {
    "duration": 12,
    "start_time": "2021-11-08T19:23:00.088Z"
   },
   {
    "duration": 84,
    "start_time": "2021-11-08T19:23:00.102Z"
   },
   {
    "duration": 4,
    "start_time": "2021-11-08T19:40:00.281Z"
   },
   {
    "duration": 478,
    "start_time": "2021-11-08T19:40:00.517Z"
   },
   {
    "duration": 1593,
    "start_time": "2021-11-08T19:40:08.213Z"
   },
   {
    "duration": 3,
    "start_time": "2021-11-08T19:40:09.808Z"
   },
   {
    "duration": 22,
    "start_time": "2021-11-08T19:40:09.815Z"
   },
   {
    "duration": 233,
    "start_time": "2021-11-08T19:40:09.840Z"
   },
   {
    "duration": 4,
    "start_time": "2021-11-08T19:40:10.075Z"
   },
   {
    "duration": 76,
    "start_time": "2021-11-08T19:40:10.081Z"
   },
   {
    "duration": 3,
    "start_time": "2021-11-08T19:40:10.159Z"
   },
   {
    "duration": 67,
    "start_time": "2021-11-08T19:40:10.166Z"
   },
   {
    "duration": 8,
    "start_time": "2021-11-08T19:40:10.236Z"
   },
   {
    "duration": 95,
    "start_time": "2021-11-08T19:40:10.247Z"
   },
   {
    "duration": 3,
    "start_time": "2021-11-08T19:40:10.345Z"
   },
   {
    "duration": 83,
    "start_time": "2021-11-08T19:40:10.351Z"
   },
   {
    "duration": 13,
    "start_time": "2021-11-08T19:40:10.436Z"
   },
   {
    "duration": 64,
    "start_time": "2021-11-08T19:40:10.451Z"
   },
   {
    "duration": 4,
    "start_time": "2021-11-08T19:40:10.517Z"
   },
   {
    "duration": 24,
    "start_time": "2021-11-08T19:40:10.523Z"
   },
   {
    "duration": 14,
    "start_time": "2021-11-08T19:40:10.549Z"
   },
   {
    "duration": 15,
    "start_time": "2021-11-08T19:40:10.565Z"
   },
   {
    "duration": 9,
    "start_time": "2021-11-08T19:40:10.582Z"
   },
   {
    "duration": 90,
    "start_time": "2021-11-08T19:40:10.594Z"
   },
   {
    "duration": 9,
    "start_time": "2021-11-08T19:40:10.687Z"
   },
   {
    "duration": 19,
    "start_time": "2021-11-08T19:40:10.698Z"
   },
   {
    "duration": 4,
    "start_time": "2021-11-08T19:40:10.721Z"
   },
   {
    "duration": 70,
    "start_time": "2021-11-08T19:40:10.727Z"
   },
   {
    "duration": 8,
    "start_time": "2021-11-08T19:40:10.799Z"
   },
   {
    "duration": 14,
    "start_time": "2021-11-08T19:40:10.809Z"
   },
   {
    "duration": 25,
    "start_time": "2021-11-08T19:40:10.826Z"
   },
   {
    "duration": 5,
    "start_time": "2021-11-08T19:40:10.853Z"
   },
   {
    "duration": 85,
    "start_time": "2021-11-08T19:40:10.860Z"
   },
   {
    "duration": 11,
    "start_time": "2021-11-08T19:40:10.947Z"
   },
   {
    "duration": 17,
    "start_time": "2021-11-08T19:40:10.960Z"
   },
   {
    "duration": 8,
    "start_time": "2021-11-08T19:40:10.979Z"
   },
   {
    "duration": 63,
    "start_time": "2021-11-08T19:40:10.989Z"
   },
   {
    "duration": 4,
    "start_time": "2021-11-08T19:40:40.798Z"
   },
   {
    "duration": 98,
    "start_time": "2021-11-08T19:40:41.854Z"
   },
   {
    "duration": 4,
    "start_time": "2021-11-08T19:46:51.232Z"
   },
   {
    "duration": 61,
    "start_time": "2021-11-08T19:46:51.504Z"
   },
   {
    "duration": 3,
    "start_time": "2021-11-08T19:49:21.586Z"
   },
   {
    "duration": 585,
    "start_time": "2021-11-08T19:49:21.837Z"
   },
   {
    "duration": 3,
    "start_time": "2021-11-08T19:51:25.551Z"
   },
   {
    "duration": 332,
    "start_time": "2021-11-08T19:51:25.908Z"
   },
   {
    "duration": 3,
    "start_time": "2021-11-08T19:51:39.842Z"
   },
   {
    "duration": 333,
    "start_time": "2021-11-08T19:51:40.638Z"
   },
   {
    "duration": 3,
    "start_time": "2021-11-08T19:56:43.157Z"
   },
   {
    "duration": 325,
    "start_time": "2021-11-08T19:56:43.697Z"
   },
   {
    "duration": 3,
    "start_time": "2021-11-08T19:58:05.333Z"
   },
   {
    "duration": 68,
    "start_time": "2021-11-08T19:58:05.688Z"
   },
   {
    "duration": 4,
    "start_time": "2021-11-08T19:58:21.451Z"
   },
   {
    "duration": 70,
    "start_time": "2021-11-08T19:58:23.115Z"
   },
   {
    "duration": 1646,
    "start_time": "2021-11-08T20:07:37.337Z"
   },
   {
    "duration": 3,
    "start_time": "2021-11-08T20:07:38.985Z"
   },
   {
    "duration": 20,
    "start_time": "2021-11-08T20:07:38.991Z"
   },
   {
    "duration": 222,
    "start_time": "2021-11-08T20:07:39.014Z"
   },
   {
    "duration": 3,
    "start_time": "2021-11-08T20:07:39.238Z"
   },
   {
    "duration": 68,
    "start_time": "2021-11-08T20:07:39.243Z"
   },
   {
    "duration": 4,
    "start_time": "2021-11-08T20:07:39.313Z"
   },
   {
    "duration": 64,
    "start_time": "2021-11-08T20:07:39.319Z"
   },
   {
    "duration": 3,
    "start_time": "2021-11-08T20:07:39.389Z"
   },
   {
    "duration": 93,
    "start_time": "2021-11-08T20:07:39.396Z"
   },
   {
    "duration": 4,
    "start_time": "2021-11-08T20:07:39.492Z"
   },
   {
    "duration": 80,
    "start_time": "2021-11-08T20:07:39.499Z"
   },
   {
    "duration": 14,
    "start_time": "2021-11-08T20:07:39.582Z"
   },
   {
    "duration": 60,
    "start_time": "2021-11-08T20:07:39.599Z"
   },
   {
    "duration": 5,
    "start_time": "2021-11-08T20:07:39.662Z"
   },
   {
    "duration": 18,
    "start_time": "2021-11-08T20:07:39.669Z"
   },
   {
    "duration": 21,
    "start_time": "2021-11-08T20:07:39.689Z"
   },
   {
    "duration": 25,
    "start_time": "2021-11-08T20:07:39.712Z"
   },
   {
    "duration": 13,
    "start_time": "2021-11-08T20:07:39.740Z"
   },
   {
    "duration": 96,
    "start_time": "2021-11-08T20:07:39.756Z"
   },
   {
    "duration": 10,
    "start_time": "2021-11-08T20:07:39.855Z"
   },
   {
    "duration": 29,
    "start_time": "2021-11-08T20:07:39.868Z"
   },
   {
    "duration": 10,
    "start_time": "2021-11-08T20:07:39.900Z"
   },
   {
    "duration": 64,
    "start_time": "2021-11-08T20:07:39.912Z"
   },
   {
    "duration": 10,
    "start_time": "2021-11-08T20:07:39.979Z"
   },
   {
    "duration": 22,
    "start_time": "2021-11-08T20:07:39.992Z"
   },
   {
    "duration": 17,
    "start_time": "2021-11-08T20:07:40.020Z"
   },
   {
    "duration": 12,
    "start_time": "2021-11-08T20:07:40.041Z"
   },
   {
    "duration": 82,
    "start_time": "2021-11-08T20:07:40.055Z"
   },
   {
    "duration": 11,
    "start_time": "2021-11-08T20:07:40.140Z"
   },
   {
    "duration": 17,
    "start_time": "2021-11-08T20:07:40.153Z"
   },
   {
    "duration": 14,
    "start_time": "2021-11-08T20:07:40.172Z"
   },
   {
    "duration": 60,
    "start_time": "2021-11-08T20:07:40.188Z"
   },
   {
    "duration": 1608,
    "start_time": "2021-11-08T20:07:49.095Z"
   },
   {
    "duration": 3,
    "start_time": "2021-11-08T20:07:50.706Z"
   },
   {
    "duration": 17,
    "start_time": "2021-11-08T20:07:50.712Z"
   },
   {
    "duration": 241,
    "start_time": "2021-11-08T20:07:50.732Z"
   },
   {
    "duration": 4,
    "start_time": "2021-11-08T20:07:50.975Z"
   },
   {
    "duration": 67,
    "start_time": "2021-11-08T20:07:50.981Z"
   },
   {
    "duration": 4,
    "start_time": "2021-11-08T20:07:51.050Z"
   },
   {
    "duration": 66,
    "start_time": "2021-11-08T20:07:51.056Z"
   },
   {
    "duration": 3,
    "start_time": "2021-11-08T20:07:51.128Z"
   },
   {
    "duration": 95,
    "start_time": "2021-11-08T20:07:51.135Z"
   },
   {
    "duration": 4,
    "start_time": "2021-11-08T20:07:51.233Z"
   },
   {
    "duration": 81,
    "start_time": "2021-11-08T20:07:51.239Z"
   },
   {
    "duration": 11,
    "start_time": "2021-11-08T20:07:51.323Z"
   },
   {
    "duration": 62,
    "start_time": "2021-11-08T20:07:51.337Z"
   },
   {
    "duration": 5,
    "start_time": "2021-11-08T20:07:51.402Z"
   },
   {
    "duration": 20,
    "start_time": "2021-11-08T20:07:51.409Z"
   },
   {
    "duration": 11,
    "start_time": "2021-11-08T20:07:51.432Z"
   },
   {
    "duration": 13,
    "start_time": "2021-11-08T20:07:51.446Z"
   },
   {
    "duration": 4,
    "start_time": "2021-11-08T20:07:51.462Z"
   },
   {
    "duration": 82,
    "start_time": "2021-11-08T20:07:51.469Z"
   },
   {
    "duration": 9,
    "start_time": "2021-11-08T20:07:51.554Z"
   },
   {
    "duration": 14,
    "start_time": "2021-11-08T20:07:51.566Z"
   },
   {
    "duration": 4,
    "start_time": "2021-11-08T20:07:51.582Z"
   },
   {
    "duration": 68,
    "start_time": "2021-11-08T20:07:51.588Z"
   },
   {
    "duration": 9,
    "start_time": "2021-11-08T20:07:51.658Z"
   },
   {
    "duration": 12,
    "start_time": "2021-11-08T20:07:51.669Z"
   },
   {
    "duration": 10,
    "start_time": "2021-11-08T20:07:51.686Z"
   },
   {
    "duration": 4,
    "start_time": "2021-11-08T20:07:51.698Z"
   },
   {
    "duration": 73,
    "start_time": "2021-11-08T20:07:51.705Z"
   },
   {
    "duration": 10,
    "start_time": "2021-11-08T20:07:51.781Z"
   },
   {
    "duration": 17,
    "start_time": "2021-11-08T20:07:51.794Z"
   },
   {
    "duration": 5,
    "start_time": "2021-11-08T20:07:51.813Z"
   },
   {
    "duration": 62,
    "start_time": "2021-11-08T20:07:51.820Z"
   },
   {
    "duration": 1282,
    "start_time": "2021-11-09T07:37:36.083Z"
   },
   {
    "duration": 2,
    "start_time": "2021-11-09T07:37:37.367Z"
   },
   {
    "duration": 30,
    "start_time": "2021-11-09T07:37:37.373Z"
   },
   {
    "duration": 358,
    "start_time": "2021-11-09T07:37:37.404Z"
   },
   {
    "duration": 2,
    "start_time": "2021-11-09T07:37:37.764Z"
   },
   {
    "duration": 99,
    "start_time": "2021-11-09T07:37:37.767Z"
   },
   {
    "duration": 2,
    "start_time": "2021-11-09T07:37:37.868Z"
   },
   {
    "duration": 88,
    "start_time": "2021-11-09T07:37:37.872Z"
   },
   {
    "duration": 2,
    "start_time": "2021-11-09T07:37:37.962Z"
   },
   {
    "duration": 127,
    "start_time": "2021-11-09T07:37:37.966Z"
   },
   {
    "duration": 2,
    "start_time": "2021-11-09T07:37:38.095Z"
   },
   {
    "duration": 119,
    "start_time": "2021-11-09T07:37:38.098Z"
   },
   {
    "duration": 6,
    "start_time": "2021-11-09T07:37:38.219Z"
   },
   {
    "duration": 97,
    "start_time": "2021-11-09T07:37:38.227Z"
   },
   {
    "duration": 3,
    "start_time": "2021-11-09T07:37:38.326Z"
   },
   {
    "duration": 34,
    "start_time": "2021-11-09T07:37:38.330Z"
   },
   {
    "duration": 31,
    "start_time": "2021-11-09T07:37:38.366Z"
   },
   {
    "duration": 27,
    "start_time": "2021-11-09T07:37:38.398Z"
   },
   {
    "duration": 19,
    "start_time": "2021-11-09T07:37:38.427Z"
   },
   {
    "duration": 110,
    "start_time": "2021-11-09T07:37:38.447Z"
   },
   {
    "duration": 6,
    "start_time": "2021-11-09T07:37:38.558Z"
   },
   {
    "duration": 24,
    "start_time": "2021-11-09T07:37:38.565Z"
   },
   {
    "duration": 28,
    "start_time": "2021-11-09T07:37:38.590Z"
   },
   {
    "duration": 101,
    "start_time": "2021-11-09T07:37:38.619Z"
   },
   {
    "duration": 5,
    "start_time": "2021-11-09T07:37:38.722Z"
   },
   {
    "duration": 34,
    "start_time": "2021-11-09T07:37:38.730Z"
   },
   {
    "duration": 9,
    "start_time": "2021-11-09T07:37:38.765Z"
   },
   {
    "duration": 19,
    "start_time": "2021-11-09T07:37:38.775Z"
   },
   {
    "duration": 112,
    "start_time": "2021-11-09T07:37:38.796Z"
   },
   {
    "duration": 6,
    "start_time": "2021-11-09T07:37:38.910Z"
   },
   {
    "duration": 30,
    "start_time": "2021-11-09T07:37:38.917Z"
   },
   {
    "duration": 17,
    "start_time": "2021-11-09T07:37:38.949Z"
   },
   {
    "duration": 99,
    "start_time": "2021-11-09T07:37:38.968Z"
   }
  ],
  "kernelspec": {
   "display_name": "Python 3",
   "language": "python",
   "name": "python3"
  },
  "language_info": {
   "codemirror_mode": {
    "name": "ipython",
    "version": 3
   },
   "file_extension": ".py",
   "mimetype": "text/x-python",
   "name": "python",
   "nbconvert_exporter": "python",
   "pygments_lexer": "ipython3",
   "version": "3.7.10"
  },
  "toc": {
   "base_numbering": 1,
   "nav_menu": {},
   "number_sections": true,
   "sideBar": true,
   "skip_h1_title": true,
   "title_cell": "Table of Contents",
   "title_sidebar": "Contents",
   "toc_cell": false,
   "toc_position": {},
   "toc_section_display": true,
   "toc_window_display": false
  }
 },
 "nbformat": 4,
 "nbformat_minor": 5
}
